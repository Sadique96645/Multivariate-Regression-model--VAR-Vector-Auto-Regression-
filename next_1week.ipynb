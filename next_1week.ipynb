{
  "nbformat": 4,
  "nbformat_minor": 0,
  "metadata": {
    "colab": {
      "name": "next_1week.ipynb",
      "provenance": []
    },
    "kernelspec": {
      "name": "python3",
      "display_name": "Python 3"
    }
  },
  "cells": [
    {
      "cell_type": "code",
      "metadata": {
        "id": "wVJdGZcN3-oJ"
      },
      "source": [
        "import pandas as pd\r\n",
        "import numpy as np\r\n",
        "import matplotlib.pyplot as plt\r\n",
        "%matplotlib inline"
      ],
      "execution_count": null,
      "outputs": []
    },
    {
      "cell_type": "code",
      "metadata": {
        "id": "wfWE0THR4JOV"
      },
      "source": [
        "pd.set_option('display.max_columns', None)"
      ],
      "execution_count": null,
      "outputs": []
    },
    {
      "cell_type": "code",
      "metadata": {
        "colab": {
          "resources": {
            "http://localhost:8080/nbextensions/google.colab/files.js": {
              "data": "Ly8gQ29weXJpZ2h0IDIwMTcgR29vZ2xlIExMQwovLwovLyBMaWNlbnNlZCB1bmRlciB0aGUgQXBhY2hlIExpY2Vuc2UsIFZlcnNpb24gMi4wICh0aGUgIkxpY2Vuc2UiKTsKLy8geW91IG1heSBub3QgdXNlIHRoaXMgZmlsZSBleGNlcHQgaW4gY29tcGxpYW5jZSB3aXRoIHRoZSBMaWNlbnNlLgovLyBZb3UgbWF5IG9idGFpbiBhIGNvcHkgb2YgdGhlIExpY2Vuc2UgYXQKLy8KLy8gICAgICBodHRwOi8vd3d3LmFwYWNoZS5vcmcvbGljZW5zZXMvTElDRU5TRS0yLjAKLy8KLy8gVW5sZXNzIHJlcXVpcmVkIGJ5IGFwcGxpY2FibGUgbGF3IG9yIGFncmVlZCB0byBpbiB3cml0aW5nLCBzb2Z0d2FyZQovLyBkaXN0cmlidXRlZCB1bmRlciB0aGUgTGljZW5zZSBpcyBkaXN0cmlidXRlZCBvbiBhbiAiQVMgSVMiIEJBU0lTLAovLyBXSVRIT1VUIFdBUlJBTlRJRVMgT1IgQ09ORElUSU9OUyBPRiBBTlkgS0lORCwgZWl0aGVyIGV4cHJlc3Mgb3IgaW1wbGllZC4KLy8gU2VlIHRoZSBMaWNlbnNlIGZvciB0aGUgc3BlY2lmaWMgbGFuZ3VhZ2UgZ292ZXJuaW5nIHBlcm1pc3Npb25zIGFuZAovLyBsaW1pdGF0aW9ucyB1bmRlciB0aGUgTGljZW5zZS4KCi8qKgogKiBAZmlsZW92ZXJ2aWV3IEhlbHBlcnMgZm9yIGdvb2dsZS5jb2xhYiBQeXRob24gbW9kdWxlLgogKi8KKGZ1bmN0aW9uKHNjb3BlKSB7CmZ1bmN0aW9uIHNwYW4odGV4dCwgc3R5bGVBdHRyaWJ1dGVzID0ge30pIHsKICBjb25zdCBlbGVtZW50ID0gZG9jdW1lbnQuY3JlYXRlRWxlbWVudCgnc3BhbicpOwogIGVsZW1lbnQudGV4dENvbnRlbnQgPSB0ZXh0OwogIGZvciAoY29uc3Qga2V5IG9mIE9iamVjdC5rZXlzKHN0eWxlQXR0cmlidXRlcykpIHsKICAgIGVsZW1lbnQuc3R5bGVba2V5XSA9IHN0eWxlQXR0cmlidXRlc1trZXldOwogIH0KICByZXR1cm4gZWxlbWVudDsKfQoKLy8gTWF4IG51bWJlciBvZiBieXRlcyB3aGljaCB3aWxsIGJlIHVwbG9hZGVkIGF0IGEgdGltZS4KY29uc3QgTUFYX1BBWUxPQURfU0laRSA9IDEwMCAqIDEwMjQ7CgpmdW5jdGlvbiBfdXBsb2FkRmlsZXMoaW5wdXRJZCwgb3V0cHV0SWQpIHsKICBjb25zdCBzdGVwcyA9IHVwbG9hZEZpbGVzU3RlcChpbnB1dElkLCBvdXRwdXRJZCk7CiAgY29uc3Qgb3V0cHV0RWxlbWVudCA9IGRvY3VtZW50LmdldEVsZW1lbnRCeUlkKG91dHB1dElkKTsKICAvLyBDYWNoZSBzdGVwcyBvbiB0aGUgb3V0cHV0RWxlbWVudCB0byBtYWtlIGl0IGF2YWlsYWJsZSBmb3IgdGhlIG5leHQgY2FsbAogIC8vIHRvIHVwbG9hZEZpbGVzQ29udGludWUgZnJvbSBQeXRob24uCiAgb3V0cHV0RWxlbWVudC5zdGVwcyA9IHN0ZXBzOwoKICByZXR1cm4gX3VwbG9hZEZpbGVzQ29udGludWUob3V0cHV0SWQpOwp9CgovLyBUaGlzIGlzIHJvdWdobHkgYW4gYXN5bmMgZ2VuZXJhdG9yIChub3Qgc3VwcG9ydGVkIGluIHRoZSBicm93c2VyIHlldCksCi8vIHdoZXJlIHRoZXJlIGFyZSBtdWx0aXBsZSBhc3luY2hyb25vdXMgc3RlcHMgYW5kIHRoZSBQeXRob24gc2lkZSBpcyBnb2luZwovLyB0byBwb2xsIGZvciBjb21wbGV0aW9uIG9mIGVhY2ggc3RlcC4KLy8gVGhpcyB1c2VzIGEgUHJvbWlzZSB0byBibG9jayB0aGUgcHl0aG9uIHNpZGUgb24gY29tcGxldGlvbiBvZiBlYWNoIHN0ZXAsCi8vIHRoZW4gcGFzc2VzIHRoZSByZXN1bHQgb2YgdGhlIHByZXZpb3VzIHN0ZXAgYXMgdGhlIGlucHV0IHRvIHRoZSBuZXh0IHN0ZXAuCmZ1bmN0aW9uIF91cGxvYWRGaWxlc0NvbnRpbnVlKG91dHB1dElkKSB7CiAgY29uc3Qgb3V0cHV0RWxlbWVudCA9IGRvY3VtZW50LmdldEVsZW1lbnRCeUlkKG91dHB1dElkKTsKICBjb25zdCBzdGVwcyA9IG91dHB1dEVsZW1lbnQuc3RlcHM7CgogIGNvbnN0IG5leHQgPSBzdGVwcy5uZXh0KG91dHB1dEVsZW1lbnQubGFzdFByb21pc2VWYWx1ZSk7CiAgcmV0dXJuIFByb21pc2UucmVzb2x2ZShuZXh0LnZhbHVlLnByb21pc2UpLnRoZW4oKHZhbHVlKSA9PiB7CiAgICAvLyBDYWNoZSB0aGUgbGFzdCBwcm9taXNlIHZhbHVlIHRvIG1ha2UgaXQgYXZhaWxhYmxlIHRvIHRoZSBuZXh0CiAgICAvLyBzdGVwIG9mIHRoZSBnZW5lcmF0b3IuCiAgICBvdXRwdXRFbGVtZW50Lmxhc3RQcm9taXNlVmFsdWUgPSB2YWx1ZTsKICAgIHJldHVybiBuZXh0LnZhbHVlLnJlc3BvbnNlOwogIH0pOwp9CgovKioKICogR2VuZXJhdG9yIGZ1bmN0aW9uIHdoaWNoIGlzIGNhbGxlZCBiZXR3ZWVuIGVhY2ggYXN5bmMgc3RlcCBvZiB0aGUgdXBsb2FkCiAqIHByb2Nlc3MuCiAqIEBwYXJhbSB7c3RyaW5nfSBpbnB1dElkIEVsZW1lbnQgSUQgb2YgdGhlIGlucHV0IGZpbGUgcGlja2VyIGVsZW1lbnQuCiAqIEBwYXJhbSB7c3RyaW5nfSBvdXRwdXRJZCBFbGVtZW50IElEIG9mIHRoZSBvdXRwdXQgZGlzcGxheS4KICogQHJldHVybiB7IUl0ZXJhYmxlPCFPYmplY3Q+fSBJdGVyYWJsZSBvZiBuZXh0IHN0ZXBzLgogKi8KZnVuY3Rpb24qIHVwbG9hZEZpbGVzU3RlcChpbnB1dElkLCBvdXRwdXRJZCkgewogIGNvbnN0IGlucHV0RWxlbWVudCA9IGRvY3VtZW50LmdldEVsZW1lbnRCeUlkKGlucHV0SWQpOwogIGlucHV0RWxlbWVudC5kaXNhYmxlZCA9IGZhbHNlOwoKICBjb25zdCBvdXRwdXRFbGVtZW50ID0gZG9jdW1lbnQuZ2V0RWxlbWVudEJ5SWQob3V0cHV0SWQpOwogIG91dHB1dEVsZW1lbnQuaW5uZXJIVE1MID0gJyc7CgogIGNvbnN0IHBpY2tlZFByb21pc2UgPSBuZXcgUHJvbWlzZSgocmVzb2x2ZSkgPT4gewogICAgaW5wdXRFbGVtZW50LmFkZEV2ZW50TGlzdGVuZXIoJ2NoYW5nZScsIChlKSA9PiB7CiAgICAgIHJlc29sdmUoZS50YXJnZXQuZmlsZXMpOwogICAgfSk7CiAgfSk7CgogIGNvbnN0IGNhbmNlbCA9IGRvY3VtZW50LmNyZWF0ZUVsZW1lbnQoJ2J1dHRvbicpOwogIGlucHV0RWxlbWVudC5wYXJlbnRFbGVtZW50LmFwcGVuZENoaWxkKGNhbmNlbCk7CiAgY2FuY2VsLnRleHRDb250ZW50ID0gJ0NhbmNlbCB1cGxvYWQnOwogIGNvbnN0IGNhbmNlbFByb21pc2UgPSBuZXcgUHJvbWlzZSgocmVzb2x2ZSkgPT4gewogICAgY2FuY2VsLm9uY2xpY2sgPSAoKSA9PiB7CiAgICAgIHJlc29sdmUobnVsbCk7CiAgICB9OwogIH0pOwoKICAvLyBXYWl0IGZvciB0aGUgdXNlciB0byBwaWNrIHRoZSBmaWxlcy4KICBjb25zdCBmaWxlcyA9IHlpZWxkIHsKICAgIHByb21pc2U6IFByb21pc2UucmFjZShbcGlja2VkUHJvbWlzZSwgY2FuY2VsUHJvbWlzZV0pLAogICAgcmVzcG9uc2U6IHsKICAgICAgYWN0aW9uOiAnc3RhcnRpbmcnLAogICAgfQogIH07CgogIGNhbmNlbC5yZW1vdmUoKTsKCiAgLy8gRGlzYWJsZSB0aGUgaW5wdXQgZWxlbWVudCBzaW5jZSBmdXJ0aGVyIHBpY2tzIGFyZSBub3QgYWxsb3dlZC4KICBpbnB1dEVsZW1lbnQuZGlzYWJsZWQgPSB0cnVlOwoKICBpZiAoIWZpbGVzKSB7CiAgICByZXR1cm4gewogICAgICByZXNwb25zZTogewogICAgICAgIGFjdGlvbjogJ2NvbXBsZXRlJywKICAgICAgfQogICAgfTsKICB9CgogIGZvciAoY29uc3QgZmlsZSBvZiBmaWxlcykgewogICAgY29uc3QgbGkgPSBkb2N1bWVudC5jcmVhdGVFbGVtZW50KCdsaScpOwogICAgbGkuYXBwZW5kKHNwYW4oZmlsZS5uYW1lLCB7Zm9udFdlaWdodDogJ2JvbGQnfSkpOwogICAgbGkuYXBwZW5kKHNwYW4oCiAgICAgICAgYCgke2ZpbGUudHlwZSB8fCAnbi9hJ30pIC0gJHtmaWxlLnNpemV9IGJ5dGVzLCBgICsKICAgICAgICBgbGFzdCBtb2RpZmllZDogJHsKICAgICAgICAgICAgZmlsZS5sYXN0TW9kaWZpZWREYXRlID8gZmlsZS5sYXN0TW9kaWZpZWREYXRlLnRvTG9jYWxlRGF0ZVN0cmluZygpIDoKICAgICAgICAgICAgICAgICAgICAgICAgICAgICAgICAgICAgJ24vYSd9IC0gYCkpOwogICAgY29uc3QgcGVyY2VudCA9IHNwYW4oJzAlIGRvbmUnKTsKICAgIGxpLmFwcGVuZENoaWxkKHBlcmNlbnQpOwoKICAgIG91dHB1dEVsZW1lbnQuYXBwZW5kQ2hpbGQobGkpOwoKICAgIGNvbnN0IGZpbGVEYXRhUHJvbWlzZSA9IG5ldyBQcm9taXNlKChyZXNvbHZlKSA9PiB7CiAgICAgIGNvbnN0IHJlYWRlciA9IG5ldyBGaWxlUmVhZGVyKCk7CiAgICAgIHJlYWRlci5vbmxvYWQgPSAoZSkgPT4gewogICAgICAgIHJlc29sdmUoZS50YXJnZXQucmVzdWx0KTsKICAgICAgfTsKICAgICAgcmVhZGVyLnJlYWRBc0FycmF5QnVmZmVyKGZpbGUpOwogICAgfSk7CiAgICAvLyBXYWl0IGZvciB0aGUgZGF0YSB0byBiZSByZWFkeS4KICAgIGxldCBmaWxlRGF0YSA9IHlpZWxkIHsKICAgICAgcHJvbWlzZTogZmlsZURhdGFQcm9taXNlLAogICAgICByZXNwb25zZTogewogICAgICAgIGFjdGlvbjogJ2NvbnRpbnVlJywKICAgICAgfQogICAgfTsKCiAgICAvLyBVc2UgYSBjaHVua2VkIHNlbmRpbmcgdG8gYXZvaWQgbWVzc2FnZSBzaXplIGxpbWl0cy4gU2VlIGIvNjIxMTU2NjAuCiAgICBsZXQgcG9zaXRpb24gPSAwOwogICAgd2hpbGUgKHBvc2l0aW9uIDwgZmlsZURhdGEuYnl0ZUxlbmd0aCkgewogICAgICBjb25zdCBsZW5ndGggPSBNYXRoLm1pbihmaWxlRGF0YS5ieXRlTGVuZ3RoIC0gcG9zaXRpb24sIE1BWF9QQVlMT0FEX1NJWkUpOwogICAgICBjb25zdCBjaHVuayA9IG5ldyBVaW50OEFycmF5KGZpbGVEYXRhLCBwb3NpdGlvbiwgbGVuZ3RoKTsKICAgICAgcG9zaXRpb24gKz0gbGVuZ3RoOwoKICAgICAgY29uc3QgYmFzZTY0ID0gYnRvYShTdHJpbmcuZnJvbUNoYXJDb2RlLmFwcGx5KG51bGwsIGNodW5rKSk7CiAgICAgIHlpZWxkIHsKICAgICAgICByZXNwb25zZTogewogICAgICAgICAgYWN0aW9uOiAnYXBwZW5kJywKICAgICAgICAgIGZpbGU6IGZpbGUubmFtZSwKICAgICAgICAgIGRhdGE6IGJhc2U2NCwKICAgICAgICB9LAogICAgICB9OwogICAgICBwZXJjZW50LnRleHRDb250ZW50ID0KICAgICAgICAgIGAke01hdGgucm91bmQoKHBvc2l0aW9uIC8gZmlsZURhdGEuYnl0ZUxlbmd0aCkgKiAxMDApfSUgZG9uZWA7CiAgICB9CiAgfQoKICAvLyBBbGwgZG9uZS4KICB5aWVsZCB7CiAgICByZXNwb25zZTogewogICAgICBhY3Rpb246ICdjb21wbGV0ZScsCiAgICB9CiAgfTsKfQoKc2NvcGUuZ29vZ2xlID0gc2NvcGUuZ29vZ2xlIHx8IHt9OwpzY29wZS5nb29nbGUuY29sYWIgPSBzY29wZS5nb29nbGUuY29sYWIgfHwge307CnNjb3BlLmdvb2dsZS5jb2xhYi5fZmlsZXMgPSB7CiAgX3VwbG9hZEZpbGVzLAogIF91cGxvYWRGaWxlc0NvbnRpbnVlLAp9Owp9KShzZWxmKTsK",
              "ok": true,
              "headers": [
                [
                  "content-type",
                  "application/javascript"
                ]
              ],
              "status": 200,
              "status_text": ""
            }
          },
          "base_uri": "https://localhost:8080/",
          "height": 73
        },
        "id": "O5qGk8Oj4NOT",
        "outputId": "7c22a95d-07b5-41db-afa5-beefe28f1669"
      },
      "source": [
        "from google.colab import files\r\n",
        "uploaded = files.upload()"
      ],
      "execution_count": null,
      "outputs": [
        {
          "output_type": "display_data",
          "data": {
            "text/html": [
              "\n",
              "     <input type=\"file\" id=\"files-d7879974-520c-406e-a5a4-aa70724c5fa5\" name=\"files[]\" multiple disabled\n",
              "        style=\"border:none\" />\n",
              "     <output id=\"result-d7879974-520c-406e-a5a4-aa70724c5fa5\">\n",
              "      Upload widget is only available when the cell has been executed in the\n",
              "      current browser session. Please rerun this cell to enable.\n",
              "      </output>\n",
              "      <script src=\"/nbextensions/google.colab/files.js\"></script> "
            ],
            "text/plain": [
              "<IPython.core.display.HTML object>"
            ]
          },
          "metadata": {
            "tags": []
          }
        },
        {
          "output_type": "stream",
          "text": [
            "Saving service_data.xlsx to service_data.xlsx\n"
          ],
          "name": "stdout"
        }
      ]
    },
    {
      "cell_type": "code",
      "metadata": {
        "id": "mnzD5_pb4PSc"
      },
      "source": [
        "import io\r\n",
        "\r\n",
        "df = pd.read_excel(io.BytesIO(uploaded.get('service_data.xlsx')))"
      ],
      "execution_count": null,
      "outputs": []
    },
    {
      "cell_type": "code",
      "metadata": {
        "id": "PI6Sku0nMn5G"
      },
      "source": [
        "data = df[['opened_at','priority']]\r\n"
      ],
      "execution_count": null,
      "outputs": []
    },
    {
      "cell_type": "code",
      "metadata": {
        "colab": {
          "base_uri": "https://localhost:8080/"
        },
        "id": "-L4HDaBzM1EU",
        "outputId": "0fe4aec9-ce90-45c3-c94e-270a659d013e"
      },
      "source": [
        "data['date'] = pd.DatetimeIndex(data['opened_at']).date"
      ],
      "execution_count": null,
      "outputs": [
        {
          "output_type": "stream",
          "text": [
            "/usr/local/lib/python3.7/dist-packages/ipykernel_launcher.py:1: SettingWithCopyWarning: \n",
            "A value is trying to be set on a copy of a slice from a DataFrame.\n",
            "Try using .loc[row_indexer,col_indexer] = value instead\n",
            "\n",
            "See the caveats in the documentation: https://pandas.pydata.org/pandas-docs/stable/user_guide/indexing.html#returning-a-view-versus-a-copy\n",
            "  \"\"\"Entry point for launching an IPython kernel.\n"
          ],
          "name": "stderr"
        }
      ]
    },
    {
      "cell_type": "code",
      "metadata": {
        "colab": {
          "base_uri": "https://localhost:8080/",
          "height": 195
        },
        "id": "ybs5rWA0M48O",
        "outputId": "e39cae71-7778-43f8-e6c7-36cbbf52219e"
      },
      "source": [
        "data = data[['date','priority']]\r\n",
        "data.head(5)"
      ],
      "execution_count": null,
      "outputs": [
        {
          "output_type": "execute_result",
          "data": {
            "text/html": [
              "<div>\n",
              "<style scoped>\n",
              "    .dataframe tbody tr th:only-of-type {\n",
              "        vertical-align: middle;\n",
              "    }\n",
              "\n",
              "    .dataframe tbody tr th {\n",
              "        vertical-align: top;\n",
              "    }\n",
              "\n",
              "    .dataframe thead th {\n",
              "        text-align: right;\n",
              "    }\n",
              "</style>\n",
              "<table border=\"1\" class=\"dataframe\">\n",
              "  <thead>\n",
              "    <tr style=\"text-align: right;\">\n",
              "      <th></th>\n",
              "      <th>date</th>\n",
              "      <th>priority</th>\n",
              "    </tr>\n",
              "  </thead>\n",
              "  <tbody>\n",
              "    <tr>\n",
              "      <th>0</th>\n",
              "      <td>2018-11-28</td>\n",
              "      <td>3 - Moderate</td>\n",
              "    </tr>\n",
              "    <tr>\n",
              "      <th>1</th>\n",
              "      <td>2018-11-27</td>\n",
              "      <td>4 - Low</td>\n",
              "    </tr>\n",
              "    <tr>\n",
              "      <th>2</th>\n",
              "      <td>2018-11-25</td>\n",
              "      <td>4 - Low</td>\n",
              "    </tr>\n",
              "    <tr>\n",
              "      <th>3</th>\n",
              "      <td>2018-11-25</td>\n",
              "      <td>3 - Moderate</td>\n",
              "    </tr>\n",
              "    <tr>\n",
              "      <th>4</th>\n",
              "      <td>2018-11-25</td>\n",
              "      <td>2 - High</td>\n",
              "    </tr>\n",
              "  </tbody>\n",
              "</table>\n",
              "</div>"
            ],
            "text/plain": [
              "         date      priority\n",
              "0  2018-11-28  3 - Moderate\n",
              "1  2018-11-27       4 - Low\n",
              "2  2018-11-25       4 - Low\n",
              "3  2018-11-25  3 - Moderate\n",
              "4  2018-11-25      2 - High"
            ]
          },
          "metadata": {
            "tags": []
          },
          "execution_count": 7
        }
      ]
    },
    {
      "cell_type": "code",
      "metadata": {
        "colab": {
          "base_uri": "https://localhost:8080/",
          "height": 195
        },
        "id": "QwutkbHcNErH",
        "outputId": "b17db758-542f-4143-bf55-d97ebb5c4eef"
      },
      "source": [
        "mod = data.loc[data['priority']=='3 - Moderate'][['date','priority']]\r\n",
        "mod = mod.groupby(['date']).agg({\"priority\":\"count\"})\r\n",
        "mod.columns = ['Moderate']\r\n",
        "mod = mod.reset_index()\r\n",
        "mod.head()"
      ],
      "execution_count": null,
      "outputs": [
        {
          "output_type": "execute_result",
          "data": {
            "text/html": [
              "<div>\n",
              "<style scoped>\n",
              "    .dataframe tbody tr th:only-of-type {\n",
              "        vertical-align: middle;\n",
              "    }\n",
              "\n",
              "    .dataframe tbody tr th {\n",
              "        vertical-align: top;\n",
              "    }\n",
              "\n",
              "    .dataframe thead th {\n",
              "        text-align: right;\n",
              "    }\n",
              "</style>\n",
              "<table border=\"1\" class=\"dataframe\">\n",
              "  <thead>\n",
              "    <tr style=\"text-align: right;\">\n",
              "      <th></th>\n",
              "      <th>date</th>\n",
              "      <th>Moderate</th>\n",
              "    </tr>\n",
              "  </thead>\n",
              "  <tbody>\n",
              "    <tr>\n",
              "      <th>0</th>\n",
              "      <td>2018-01-13</td>\n",
              "      <td>27</td>\n",
              "    </tr>\n",
              "    <tr>\n",
              "      <th>1</th>\n",
              "      <td>2018-01-14</td>\n",
              "      <td>39</td>\n",
              "    </tr>\n",
              "    <tr>\n",
              "      <th>2</th>\n",
              "      <td>2018-01-15</td>\n",
              "      <td>117</td>\n",
              "    </tr>\n",
              "    <tr>\n",
              "      <th>3</th>\n",
              "      <td>2018-01-16</td>\n",
              "      <td>113</td>\n",
              "    </tr>\n",
              "    <tr>\n",
              "      <th>4</th>\n",
              "      <td>2018-01-17</td>\n",
              "      <td>110</td>\n",
              "    </tr>\n",
              "  </tbody>\n",
              "</table>\n",
              "</div>"
            ],
            "text/plain": [
              "         date  Moderate\n",
              "0  2018-01-13        27\n",
              "1  2018-01-14        39\n",
              "2  2018-01-15       117\n",
              "3  2018-01-16       113\n",
              "4  2018-01-17       110"
            ]
          },
          "metadata": {
            "tags": []
          },
          "execution_count": 8
        }
      ]
    },
    {
      "cell_type": "code",
      "metadata": {
        "colab": {
          "base_uri": "https://localhost:8080/",
          "height": 195
        },
        "id": "K9d4vBzXNH0y",
        "outputId": "737c1937-117d-4d7a-8d5f-8e557011ba05"
      },
      "source": [
        "crit = data.loc[df['priority']=='1 - Critical'][['date','priority']]\r\n",
        "crit = crit.groupby(['date']).agg({\"priority\":\"count\"})\r\n",
        "crit.columns = ['Critical']\r\n",
        "crit = crit.reset_index()\r\n",
        "crit.head()"
      ],
      "execution_count": null,
      "outputs": [
        {
          "output_type": "execute_result",
          "data": {
            "text/html": [
              "<div>\n",
              "<style scoped>\n",
              "    .dataframe tbody tr th:only-of-type {\n",
              "        vertical-align: middle;\n",
              "    }\n",
              "\n",
              "    .dataframe tbody tr th {\n",
              "        vertical-align: top;\n",
              "    }\n",
              "\n",
              "    .dataframe thead th {\n",
              "        text-align: right;\n",
              "    }\n",
              "</style>\n",
              "<table border=\"1\" class=\"dataframe\">\n",
              "  <thead>\n",
              "    <tr style=\"text-align: right;\">\n",
              "      <th></th>\n",
              "      <th>date</th>\n",
              "      <th>Critical</th>\n",
              "    </tr>\n",
              "  </thead>\n",
              "  <tbody>\n",
              "    <tr>\n",
              "      <th>0</th>\n",
              "      <td>2018-01-19</td>\n",
              "      <td>1</td>\n",
              "    </tr>\n",
              "    <tr>\n",
              "      <th>1</th>\n",
              "      <td>2018-01-20</td>\n",
              "      <td>1</td>\n",
              "    </tr>\n",
              "    <tr>\n",
              "      <th>2</th>\n",
              "      <td>2018-01-21</td>\n",
              "      <td>1</td>\n",
              "    </tr>\n",
              "    <tr>\n",
              "      <th>3</th>\n",
              "      <td>2018-01-31</td>\n",
              "      <td>1</td>\n",
              "    </tr>\n",
              "    <tr>\n",
              "      <th>4</th>\n",
              "      <td>2018-02-01</td>\n",
              "      <td>1</td>\n",
              "    </tr>\n",
              "  </tbody>\n",
              "</table>\n",
              "</div>"
            ],
            "text/plain": [
              "         date  Critical\n",
              "0  2018-01-19         1\n",
              "1  2018-01-20         1\n",
              "2  2018-01-21         1\n",
              "3  2018-01-31         1\n",
              "4  2018-02-01         1"
            ]
          },
          "metadata": {
            "tags": []
          },
          "execution_count": 9
        }
      ]
    },
    {
      "cell_type": "code",
      "metadata": {
        "id": "KgAhJ9nJNKfX"
      },
      "source": [
        "low = data.loc[df['priority']=='4 - Low'][['date','priority']]\r\n",
        "low = low.groupby(['date']).agg({\"priority\":\"count\"})\r\n",
        "low.columns = ['low']\r\n",
        "low = low.reset_index()"
      ],
      "execution_count": null,
      "outputs": []
    },
    {
      "cell_type": "code",
      "metadata": {
        "id": "eUDrCS0fNOGU"
      },
      "source": [
        "High = data.loc[df['priority']=='2 - High'][['date','priority']]\r\n",
        "High = High.groupby(['date']).agg({\"priority\":\"count\"})\r\n",
        "High.columns = ['High']\r\n",
        "High = High.reset_index()"
      ],
      "execution_count": null,
      "outputs": []
    },
    {
      "cell_type": "code",
      "metadata": {
        "colab": {
          "base_uri": "https://localhost:8080/",
          "height": 402
        },
        "id": "6aBGevMkNTvM",
        "outputId": "e427291b-8c7d-4479-ff29-2615501d1621"
      },
      "source": [
        "SLA = data.loc[df['priority']=='5 - Scheduled SLA'][['date','priority']]\r\n",
        "SLA = SLA.groupby(['date']).agg({\"priority\":\"count\"})\r\n",
        "SLA.columns = ['Schedule SLA']\r\n",
        "SLA = SLA.reset_index()\r\n",
        "SLA"
      ],
      "execution_count": null,
      "outputs": [
        {
          "output_type": "execute_result",
          "data": {
            "text/html": [
              "<div>\n",
              "<style scoped>\n",
              "    .dataframe tbody tr th:only-of-type {\n",
              "        vertical-align: middle;\n",
              "    }\n",
              "\n",
              "    .dataframe tbody tr th {\n",
              "        vertical-align: top;\n",
              "    }\n",
              "\n",
              "    .dataframe thead th {\n",
              "        text-align: right;\n",
              "    }\n",
              "</style>\n",
              "<table border=\"1\" class=\"dataframe\">\n",
              "  <thead>\n",
              "    <tr style=\"text-align: right;\">\n",
              "      <th></th>\n",
              "      <th>date</th>\n",
              "      <th>Schedule SLA</th>\n",
              "    </tr>\n",
              "  </thead>\n",
              "  <tbody>\n",
              "    <tr>\n",
              "      <th>0</th>\n",
              "      <td>2018-01-14</td>\n",
              "      <td>1</td>\n",
              "    </tr>\n",
              "    <tr>\n",
              "      <th>1</th>\n",
              "      <td>2018-01-15</td>\n",
              "      <td>11</td>\n",
              "    </tr>\n",
              "    <tr>\n",
              "      <th>2</th>\n",
              "      <td>2018-01-16</td>\n",
              "      <td>4</td>\n",
              "    </tr>\n",
              "    <tr>\n",
              "      <th>3</th>\n",
              "      <td>2018-01-17</td>\n",
              "      <td>10</td>\n",
              "    </tr>\n",
              "    <tr>\n",
              "      <th>4</th>\n",
              "      <td>2018-01-18</td>\n",
              "      <td>14</td>\n",
              "    </tr>\n",
              "    <tr>\n",
              "      <th>...</th>\n",
              "      <td>...</td>\n",
              "      <td>...</td>\n",
              "    </tr>\n",
              "    <tr>\n",
              "      <th>280</th>\n",
              "      <td>2018-11-20</td>\n",
              "      <td>26</td>\n",
              "    </tr>\n",
              "    <tr>\n",
              "      <th>281</th>\n",
              "      <td>2018-11-21</td>\n",
              "      <td>7</td>\n",
              "    </tr>\n",
              "    <tr>\n",
              "      <th>282</th>\n",
              "      <td>2018-11-22</td>\n",
              "      <td>2</td>\n",
              "    </tr>\n",
              "    <tr>\n",
              "      <th>283</th>\n",
              "      <td>2018-11-23</td>\n",
              "      <td>6</td>\n",
              "    </tr>\n",
              "    <tr>\n",
              "      <th>284</th>\n",
              "      <td>2018-11-24</td>\n",
              "      <td>1</td>\n",
              "    </tr>\n",
              "  </tbody>\n",
              "</table>\n",
              "<p>285 rows × 2 columns</p>\n",
              "</div>"
            ],
            "text/plain": [
              "           date  Schedule SLA\n",
              "0    2018-01-14             1\n",
              "1    2018-01-15            11\n",
              "2    2018-01-16             4\n",
              "3    2018-01-17            10\n",
              "4    2018-01-18            14\n",
              "..          ...           ...\n",
              "280  2018-11-20            26\n",
              "281  2018-11-21             7\n",
              "282  2018-11-22             2\n",
              "283  2018-11-23             6\n",
              "284  2018-11-24             1\n",
              "\n",
              "[285 rows x 2 columns]"
            ]
          },
          "metadata": {
            "tags": []
          },
          "execution_count": 12
        }
      ]
    },
    {
      "cell_type": "code",
      "metadata": {
        "id": "jERyq1T5NVwA"
      },
      "source": [
        "df_combine = pd.merge(data,crit,on='date',how='left')\r\n",
        "df_combine = pd.merge(df_combine,High,on='date',how='left')\r\n",
        "df_combine = pd.merge(df_combine,low,on='date',how='left')\r\n",
        "df_combine = pd.merge(df_combine,mod,on='date',how='left')\r\n",
        "df_combine = pd.merge(df_combine,SLA,on='date',how='left')"
      ],
      "execution_count": null,
      "outputs": []
    },
    {
      "cell_type": "code",
      "metadata": {
        "colab": {
          "base_uri": "https://localhost:8080/",
          "height": 195
        },
        "id": "CIdwan4LNZvx",
        "outputId": "069b330f-9890-4137-c915-38ea6c9647e2"
      },
      "source": [
        "df_combine.head()"
      ],
      "execution_count": null,
      "outputs": [
        {
          "output_type": "execute_result",
          "data": {
            "text/html": [
              "<div>\n",
              "<style scoped>\n",
              "    .dataframe tbody tr th:only-of-type {\n",
              "        vertical-align: middle;\n",
              "    }\n",
              "\n",
              "    .dataframe tbody tr th {\n",
              "        vertical-align: top;\n",
              "    }\n",
              "\n",
              "    .dataframe thead th {\n",
              "        text-align: right;\n",
              "    }\n",
              "</style>\n",
              "<table border=\"1\" class=\"dataframe\">\n",
              "  <thead>\n",
              "    <tr style=\"text-align: right;\">\n",
              "      <th></th>\n",
              "      <th>date</th>\n",
              "      <th>priority</th>\n",
              "      <th>Critical</th>\n",
              "      <th>High</th>\n",
              "      <th>low</th>\n",
              "      <th>Moderate</th>\n",
              "      <th>Schedule SLA</th>\n",
              "    </tr>\n",
              "  </thead>\n",
              "  <tbody>\n",
              "    <tr>\n",
              "      <th>0</th>\n",
              "      <td>2018-11-28</td>\n",
              "      <td>3 - Moderate</td>\n",
              "      <td>NaN</td>\n",
              "      <td>NaN</td>\n",
              "      <td>NaN</td>\n",
              "      <td>1.0</td>\n",
              "      <td>NaN</td>\n",
              "    </tr>\n",
              "    <tr>\n",
              "      <th>1</th>\n",
              "      <td>2018-11-27</td>\n",
              "      <td>4 - Low</td>\n",
              "      <td>NaN</td>\n",
              "      <td>NaN</td>\n",
              "      <td>1.0</td>\n",
              "      <td>NaN</td>\n",
              "      <td>NaN</td>\n",
              "    </tr>\n",
              "    <tr>\n",
              "      <th>2</th>\n",
              "      <td>2018-11-25</td>\n",
              "      <td>4 - Low</td>\n",
              "      <td>NaN</td>\n",
              "      <td>5.0</td>\n",
              "      <td>3.0</td>\n",
              "      <td>6.0</td>\n",
              "      <td>NaN</td>\n",
              "    </tr>\n",
              "    <tr>\n",
              "      <th>3</th>\n",
              "      <td>2018-11-25</td>\n",
              "      <td>3 - Moderate</td>\n",
              "      <td>NaN</td>\n",
              "      <td>5.0</td>\n",
              "      <td>3.0</td>\n",
              "      <td>6.0</td>\n",
              "      <td>NaN</td>\n",
              "    </tr>\n",
              "    <tr>\n",
              "      <th>4</th>\n",
              "      <td>2018-11-25</td>\n",
              "      <td>2 - High</td>\n",
              "      <td>NaN</td>\n",
              "      <td>5.0</td>\n",
              "      <td>3.0</td>\n",
              "      <td>6.0</td>\n",
              "      <td>NaN</td>\n",
              "    </tr>\n",
              "  </tbody>\n",
              "</table>\n",
              "</div>"
            ],
            "text/plain": [
              "         date      priority  Critical  High  low  Moderate  Schedule SLA\n",
              "0  2018-11-28  3 - Moderate       NaN   NaN  NaN       1.0           NaN\n",
              "1  2018-11-27       4 - Low       NaN   NaN  1.0       NaN           NaN\n",
              "2  2018-11-25       4 - Low       NaN   5.0  3.0       6.0           NaN\n",
              "3  2018-11-25  3 - Moderate       NaN   5.0  3.0       6.0           NaN\n",
              "4  2018-11-25      2 - High       NaN   5.0  3.0       6.0           NaN"
            ]
          },
          "metadata": {
            "tags": []
          },
          "execution_count": 14
        }
      ]
    },
    {
      "cell_type": "code",
      "metadata": {
        "id": "7SwMfcs7NcER"
      },
      "source": [
        "df_combine = df_combine.fillna(0).set_index('date')"
      ],
      "execution_count": null,
      "outputs": []
    },
    {
      "cell_type": "code",
      "metadata": {
        "colab": {
          "base_uri": "https://localhost:8080/",
          "height": 373
        },
        "id": "xMNvMAzZNmHF",
        "outputId": "0be14b9b-7c78-45a2-a7f8-a49ef33858f2"
      },
      "source": [
        "df_combine.drop('priority',1,inplace=True)\r\n",
        "df_combine.head(10)"
      ],
      "execution_count": null,
      "outputs": [
        {
          "output_type": "execute_result",
          "data": {
            "text/html": [
              "<div>\n",
              "<style scoped>\n",
              "    .dataframe tbody tr th:only-of-type {\n",
              "        vertical-align: middle;\n",
              "    }\n",
              "\n",
              "    .dataframe tbody tr th {\n",
              "        vertical-align: top;\n",
              "    }\n",
              "\n",
              "    .dataframe thead th {\n",
              "        text-align: right;\n",
              "    }\n",
              "</style>\n",
              "<table border=\"1\" class=\"dataframe\">\n",
              "  <thead>\n",
              "    <tr style=\"text-align: right;\">\n",
              "      <th></th>\n",
              "      <th>Critical</th>\n",
              "      <th>High</th>\n",
              "      <th>low</th>\n",
              "      <th>Moderate</th>\n",
              "      <th>Schedule SLA</th>\n",
              "    </tr>\n",
              "    <tr>\n",
              "      <th>date</th>\n",
              "      <th></th>\n",
              "      <th></th>\n",
              "      <th></th>\n",
              "      <th></th>\n",
              "      <th></th>\n",
              "    </tr>\n",
              "  </thead>\n",
              "  <tbody>\n",
              "    <tr>\n",
              "      <th>2018-11-28</th>\n",
              "      <td>0.0</td>\n",
              "      <td>0.0</td>\n",
              "      <td>0.0</td>\n",
              "      <td>1.0</td>\n",
              "      <td>0.0</td>\n",
              "    </tr>\n",
              "    <tr>\n",
              "      <th>2018-11-27</th>\n",
              "      <td>0.0</td>\n",
              "      <td>0.0</td>\n",
              "      <td>1.0</td>\n",
              "      <td>0.0</td>\n",
              "      <td>0.0</td>\n",
              "    </tr>\n",
              "    <tr>\n",
              "      <th>2018-11-25</th>\n",
              "      <td>0.0</td>\n",
              "      <td>5.0</td>\n",
              "      <td>3.0</td>\n",
              "      <td>6.0</td>\n",
              "      <td>0.0</td>\n",
              "    </tr>\n",
              "    <tr>\n",
              "      <th>2018-11-25</th>\n",
              "      <td>0.0</td>\n",
              "      <td>5.0</td>\n",
              "      <td>3.0</td>\n",
              "      <td>6.0</td>\n",
              "      <td>0.0</td>\n",
              "    </tr>\n",
              "    <tr>\n",
              "      <th>2018-11-25</th>\n",
              "      <td>0.0</td>\n",
              "      <td>5.0</td>\n",
              "      <td>3.0</td>\n",
              "      <td>6.0</td>\n",
              "      <td>0.0</td>\n",
              "    </tr>\n",
              "    <tr>\n",
              "      <th>2018-11-25</th>\n",
              "      <td>0.0</td>\n",
              "      <td>5.0</td>\n",
              "      <td>3.0</td>\n",
              "      <td>6.0</td>\n",
              "      <td>0.0</td>\n",
              "    </tr>\n",
              "    <tr>\n",
              "      <th>2018-11-25</th>\n",
              "      <td>0.0</td>\n",
              "      <td>5.0</td>\n",
              "      <td>3.0</td>\n",
              "      <td>6.0</td>\n",
              "      <td>0.0</td>\n",
              "    </tr>\n",
              "    <tr>\n",
              "      <th>2018-11-25</th>\n",
              "      <td>0.0</td>\n",
              "      <td>5.0</td>\n",
              "      <td>3.0</td>\n",
              "      <td>6.0</td>\n",
              "      <td>0.0</td>\n",
              "    </tr>\n",
              "    <tr>\n",
              "      <th>2018-11-25</th>\n",
              "      <td>0.0</td>\n",
              "      <td>5.0</td>\n",
              "      <td>3.0</td>\n",
              "      <td>6.0</td>\n",
              "      <td>0.0</td>\n",
              "    </tr>\n",
              "    <tr>\n",
              "      <th>2018-11-25</th>\n",
              "      <td>0.0</td>\n",
              "      <td>5.0</td>\n",
              "      <td>3.0</td>\n",
              "      <td>6.0</td>\n",
              "      <td>0.0</td>\n",
              "    </tr>\n",
              "  </tbody>\n",
              "</table>\n",
              "</div>"
            ],
            "text/plain": [
              "            Critical  High  low  Moderate  Schedule SLA\n",
              "date                                                   \n",
              "2018-11-28       0.0   0.0  0.0       1.0           0.0\n",
              "2018-11-27       0.0   0.0  1.0       0.0           0.0\n",
              "2018-11-25       0.0   5.0  3.0       6.0           0.0\n",
              "2018-11-25       0.0   5.0  3.0       6.0           0.0\n",
              "2018-11-25       0.0   5.0  3.0       6.0           0.0\n",
              "2018-11-25       0.0   5.0  3.0       6.0           0.0\n",
              "2018-11-25       0.0   5.0  3.0       6.0           0.0\n",
              "2018-11-25       0.0   5.0  3.0       6.0           0.0\n",
              "2018-11-25       0.0   5.0  3.0       6.0           0.0\n",
              "2018-11-25       0.0   5.0  3.0       6.0           0.0"
            ]
          },
          "metadata": {
            "tags": []
          },
          "execution_count": 16
        }
      ]
    },
    {
      "cell_type": "code",
      "metadata": {
        "colab": {
          "base_uri": "https://localhost:8080/"
        },
        "id": "Js0_sHGqNprk",
        "outputId": "bc83122c-8a4c-4af0-95cf-0758861c8d90"
      },
      "source": [
        "final_df = df_combine.drop_duplicates()\r\n",
        "print(final_df.head(20))"
      ],
      "execution_count": null,
      "outputs": [
        {
          "output_type": "stream",
          "text": [
            "            Critical  High    low  Moderate  Schedule SLA\n",
            "date                                                     \n",
            "2018-11-28       0.0   0.0    0.0       1.0           0.0\n",
            "2018-11-27       0.0   0.0    1.0       0.0           0.0\n",
            "2018-11-25       0.0   5.0    3.0       6.0           0.0\n",
            "2018-11-24       0.0   4.0  117.0      28.0           1.0\n",
            "2018-11-23       0.0   6.0  190.0      76.0           6.0\n",
            "2018-11-22       0.0   4.0   53.0      13.0           2.0\n",
            "2018-11-21       0.0   1.0  188.0      68.0           7.0\n",
            "2018-11-20       0.0   7.0  219.0      79.0          26.0\n",
            "2018-11-19       2.0   3.0  245.0      97.0           7.0\n",
            "2018-11-18       0.0   3.0  105.0      37.0           2.0\n",
            "2018-11-17       0.0   6.0  123.0      47.0           0.0\n",
            "2018-11-16       1.0   0.0  189.0      95.0          25.0\n",
            "2018-11-15       0.0   2.0  234.0     107.0          20.0\n",
            "2018-11-14       0.0   3.0  225.0     100.0           5.0\n",
            "2018-11-13       1.0   6.0  264.0     105.0          18.0\n",
            "2018-11-12       0.0   2.0  280.0      65.0           6.0\n",
            "2018-11-11       0.0   4.0   97.0      29.0           5.0\n",
            "2018-11-10       0.0   5.0  103.0      37.0           1.0\n",
            "2018-11-09       0.0   2.0  184.0      46.0          10.0\n",
            "2018-11-08       0.0   4.0  238.0      62.0           6.0\n"
          ],
          "name": "stdout"
        }
      ]
    },
    {
      "cell_type": "code",
      "metadata": {
        "colab": {
          "base_uri": "https://localhost:8080/"
        },
        "id": "j_OqJkVLNvUc",
        "outputId": "5069ed8e-e8f8-45a3-d293-290140e19e53"
      },
      "source": [
        "# Import Statsmodels\r\n",
        "from statsmodels.tsa.api import VAR\r\n",
        "from statsmodels.tsa.stattools import adfuller\r\n",
        "from statsmodels.tools.eval_measures import rmse, aic"
      ],
      "execution_count": null,
      "outputs": [
        {
          "output_type": "stream",
          "text": [
            "/usr/local/lib/python3.7/dist-packages/statsmodels/tools/_testing.py:19: FutureWarning: pandas.util.testing is deprecated. Use the functions in the public API at pandas.testing instead.\n",
            "  import pandas.util.testing as tm\n"
          ],
          "name": "stderr"
        }
      ]
    },
    {
      "cell_type": "code",
      "metadata": {
        "colab": {
          "base_uri": "https://localhost:8080/",
          "height": 195
        },
        "id": "giZDlkE3N2kg",
        "outputId": "89fec12d-2ccb-47b6-b4df-5edb0d0afc03"
      },
      "source": [
        "from statsmodels.tsa.stattools import grangercausalitytests\r\n",
        "maxlag=12\r\n",
        "test = 'ssr_chi2test'\r\n",
        "def grangers_causation_matrix(data, variables, test='ssr_chi2test', verbose=False):    \r\n",
        "    \"\"\"Check Granger Causality of all possible combinations of the Time series.\r\n",
        "    The rows are the response variable, columns are predictors. The values in the table \r\n",
        "    are the P-Values. P-Values lesser than the significance level (0.05), implies \r\n",
        "    the Null Hypothesis that the coefficients of the corresponding past values is \r\n",
        "    zero, that is, the X does not cause Y can be rejected.\r\n",
        "\r\n",
        "    data      : pandas dataframe containing the time series variables\r\n",
        "    variables : list containing names of the time series variables.\r\n",
        "    \"\"\"\r\n",
        "    df = pd.DataFrame(np.zeros((len(variables), len(variables))), columns=variables, index=variables)\r\n",
        "    for c in df.columns:\r\n",
        "        for r in df.index:\r\n",
        "            test_result = grangercausalitytests(data[[r, c]], maxlag=maxlag, verbose=False)\r\n",
        "            p_values = [round(test_result[i+1][0][test][1],4) for i in range(maxlag)]\r\n",
        "            if verbose: print(f'Y = {r}, X = {c}, P Values = {p_values}')\r\n",
        "            min_p_value = np.min(p_values)\r\n",
        "            df.loc[r, c] = min_p_value\r\n",
        "    df.columns = [var + '_x' for var in variables]\r\n",
        "    df.index = [var + '_y' for var in variables]\r\n",
        "    return df\r\n",
        "\r\n",
        "grangers_causation_matrix(final_df, variables = final_df.columns) "
      ],
      "execution_count": null,
      "outputs": [
        {
          "output_type": "execute_result",
          "data": {
            "text/html": [
              "<div>\n",
              "<style scoped>\n",
              "    .dataframe tbody tr th:only-of-type {\n",
              "        vertical-align: middle;\n",
              "    }\n",
              "\n",
              "    .dataframe tbody tr th {\n",
              "        vertical-align: top;\n",
              "    }\n",
              "\n",
              "    .dataframe thead th {\n",
              "        text-align: right;\n",
              "    }\n",
              "</style>\n",
              "<table border=\"1\" class=\"dataframe\">\n",
              "  <thead>\n",
              "    <tr style=\"text-align: right;\">\n",
              "      <th></th>\n",
              "      <th>Critical_x</th>\n",
              "      <th>High_x</th>\n",
              "      <th>low_x</th>\n",
              "      <th>Moderate_x</th>\n",
              "      <th>Schedule SLA_x</th>\n",
              "    </tr>\n",
              "  </thead>\n",
              "  <tbody>\n",
              "    <tr>\n",
              "      <th>Critical_y</th>\n",
              "      <td>1.0000</td>\n",
              "      <td>0.0065</td>\n",
              "      <td>0.0070</td>\n",
              "      <td>0.0219</td>\n",
              "      <td>0.1025</td>\n",
              "    </tr>\n",
              "    <tr>\n",
              "      <th>High_y</th>\n",
              "      <td>0.0257</td>\n",
              "      <td>1.0000</td>\n",
              "      <td>0.0000</td>\n",
              "      <td>0.0000</td>\n",
              "      <td>0.0001</td>\n",
              "    </tr>\n",
              "    <tr>\n",
              "      <th>low_y</th>\n",
              "      <td>0.0800</td>\n",
              "      <td>0.0000</td>\n",
              "      <td>1.0000</td>\n",
              "      <td>0.0000</td>\n",
              "      <td>0.0000</td>\n",
              "    </tr>\n",
              "    <tr>\n",
              "      <th>Moderate_y</th>\n",
              "      <td>0.0595</td>\n",
              "      <td>0.0000</td>\n",
              "      <td>0.0017</td>\n",
              "      <td>1.0000</td>\n",
              "      <td>0.0000</td>\n",
              "    </tr>\n",
              "    <tr>\n",
              "      <th>Schedule SLA_y</th>\n",
              "      <td>0.0073</td>\n",
              "      <td>0.0000</td>\n",
              "      <td>0.0000</td>\n",
              "      <td>0.0000</td>\n",
              "      <td>1.0000</td>\n",
              "    </tr>\n",
              "  </tbody>\n",
              "</table>\n",
              "</div>"
            ],
            "text/plain": [
              "                Critical_x  High_x   low_x  Moderate_x  Schedule SLA_x\n",
              "Critical_y          1.0000  0.0065  0.0070      0.0219          0.1025\n",
              "High_y              0.0257  1.0000  0.0000      0.0000          0.0001\n",
              "low_y               0.0800  0.0000  1.0000      0.0000          0.0000\n",
              "Moderate_y          0.0595  0.0000  0.0017      1.0000          0.0000\n",
              "Schedule SLA_y      0.0073  0.0000  0.0000      0.0000          1.0000"
            ]
          },
          "metadata": {
            "tags": []
          },
          "execution_count": 20
        }
      ]
    },
    {
      "cell_type": "markdown",
      "metadata": {
        "id": "Igwo85gNOGMp"
      },
      "source": [
        "So how to read the above output?\r\n",
        "\r\n",
        "The row are the Response (Y) and the columns are the predictor series (X).\r\n",
        "\r\n",
        "For example, if you take the value 0.0065 in (row 1, column 2), it refers to the p-value of High_x causing Critical_y. Whereas, the 0.000 in (row 2, column 3) refers to the p-value of High_y causing Low_x.\r\n",
        "\r\n",
        "So, how to interpret the p-values?\r\n",
        "\r\n",
        "If a given p-value is < significance level (0.05), then, the corresponding X series (column) causes the Y (row)."
      ]
    },
    {
      "cell_type": "code",
      "metadata": {
        "colab": {
          "base_uri": "https://localhost:8080/"
        },
        "id": "QRkdmIzVN703",
        "outputId": "8a6f75f8-5543-4757-cf3c-bde62510305e"
      },
      "source": [
        "\r\n",
        "from statsmodels.tsa.vector_ar.vecm import coint_johansen\r\n",
        "\r\n",
        "def cointegration_test(df, alpha=0.05): \r\n",
        "    \"\"\"Perform Johanson's Cointegration Test and Report Summary\"\"\"\r\n",
        "    out = coint_johansen(df,-1,5)\r\n",
        "    d = {'0.90':0, '0.95':1, '0.99':2}\r\n",
        "    traces = out.lr1\r\n",
        "    cvts = out.cvt[:, d[str(1-alpha)]]\r\n",
        "    def adjust(val, length= 6): return str(val).ljust(length)\r\n",
        "\r\n",
        "    # Summary\r\n",
        "    print('Name   ::  Test Stat > C(95%)    =>   Signif  \\n', '--'*20)\r\n",
        "    for col, trace, cvt in zip(df.columns, traces, cvts):\r\n",
        "        print(adjust(col), ':: ', adjust(round(trace,2), 9), \">\", adjust(cvt, 8), ' =>  ' , trace > cvt)\r\n",
        "\r\n",
        "cointegration_test(final_df)"
      ],
      "execution_count": null,
      "outputs": [
        {
          "output_type": "stream",
          "text": [
            "Name   ::  Test Stat > C(95%)    =>   Signif  \n",
            " ----------------------------------------\n",
            "Critical ::  208.76    > 60.0627   =>   True\n",
            "High   ::  106.22    > 40.1749   =>   True\n",
            "low    ::  53.28     > 24.2761   =>   True\n",
            "Moderate ::  17.3      > 12.3212   =>   True\n",
            "Schedule SLA ::  0.24      > 4.1296    =>   False\n"
          ],
          "name": "stdout"
        }
      ]
    },
    {
      "cell_type": "markdown",
      "metadata": {
        "id": "SS3cj1INOSTL"
      },
      "source": [
        "Cointegration test helps to establish the presence of a statistically significant connection between two or more time series.\r\n",
        "\r\n",
        "When two or more time series are cointegrated, it means they have a long run, statistically significant relationship.\r\n",
        "\r\n",
        "This is the basic premise on which Vector Autoregression(VAR) models is based on. So, it’s fairly common to implement the cointegration test before starting to build VAR models."
      ]
    },
    {
      "cell_type": "code",
      "metadata": {
        "colab": {
          "base_uri": "https://localhost:8080/"
        },
        "id": "KQn6KWC0ONjU",
        "outputId": "43998ba8-3562-458d-ea0f-410cc6a44025"
      },
      "source": [
        "nobs = 7 #The VAR model will be fitted on df_train and then used to forecast the next 10 observations. These forecasts will be compared against the actuals present in test data.\r\n",
        "df_train, df_test = final_df[0:-nobs], final_df[-nobs:]\r\n",
        "\r\n",
        "# Check size\r\n",
        "print(df_train.shape) \r\n",
        "print(df_test.shape)"
      ],
      "execution_count": null,
      "outputs": [
        {
          "output_type": "stream",
          "text": [
            "(312, 5)\n",
            "(7, 5)\n"
          ],
          "name": "stdout"
        }
      ]
    },
    {
      "cell_type": "code",
      "metadata": {
        "id": "Ah3Xh2GNOkNm"
      },
      "source": [
        "#Check for Stationarity and Make the Time Series Stationary\r\n",
        "#Since the VAR model requires the time series you want to forecast to be stationary, it is customary to check all the time series in the system for stationarity.\r\n",
        "\r\n",
        "#Just to refresh, a stationary time series is one whose characteristics like mean and variance does not change over time.\r\n",
        "\r\n",
        "def adfuller_test(series, signif=0.05, name='', verbose=False):\r\n",
        "    \"\"\"Perform ADFuller to test for Stationarity of given series and print report\"\"\"\r\n",
        "    r = adfuller(series, autolag='AIC')\r\n",
        "    output = {'test_statistic':round(r[0], 4), 'pvalue':round(r[1], 4), 'n_lags':round(r[2], 4), 'n_obs':r[3]}\r\n",
        "    p_value = output['pvalue'] \r\n",
        "    def adjust(val, length= 6): return str(val).ljust(length)\r\n",
        "\r\n",
        "    # Print Summary\r\n",
        "    print(f'    Augmented Dickey-Fuller Test on \"{name}\"', \"\\n   \", '-'*47)\r\n",
        "    print(f' Null Hypothesis: Data has unit root. Non-Stationary.')\r\n",
        "    print(f' Significance Level    = {signif}')\r\n",
        "    print(f' Test Statistic        = {output[\"test_statistic\"]}')\r\n",
        "    print(f' No. Lags Chosen       = {output[\"n_lags\"]}')\r\n",
        "\r\n",
        "    for key,val in r[4].items():\r\n",
        "        print(f' Critical value {adjust(key)} = {round(val, 3)}')\r\n",
        "\r\n",
        "    if p_value <= signif:\r\n",
        "        print(f\" => P-Value = {p_value}. Rejecting Null Hypothesis.\")\r\n",
        "        print(f\" => Series is Stationary.\")\r\n",
        "    else:\r\n",
        "        print(f\" => P-Value = {p_value}. Weak evidence to reject the Null Hypothesis.\")\r\n",
        "        print(f\" => Series is Non-Stationary.\")"
      ],
      "execution_count": null,
      "outputs": []
    },
    {
      "cell_type": "code",
      "metadata": {
        "colab": {
          "base_uri": "https://localhost:8080/"
        },
        "id": "sXZSsOX-Oj3l",
        "outputId": "10ff0d34-5ca8-44d7-e5f9-23a9b121d3ec"
      },
      "source": [
        "for name, column in df_train.iteritems():\r\n",
        "    adfuller_test(column, name=column.name)\r\n",
        "    print('\\n')"
      ],
      "execution_count": null,
      "outputs": [
        {
          "output_type": "stream",
          "text": [
            "    Augmented Dickey-Fuller Test on \"Critical\" \n",
            "    -----------------------------------------------\n",
            " Null Hypothesis: Data has unit root. Non-Stationary.\n",
            " Significance Level    = 0.05\n",
            " Test Statistic        = -18.9699\n",
            " No. Lags Chosen       = 0\n",
            " Critical value 1%     = -3.452\n",
            " Critical value 5%     = -2.871\n",
            " Critical value 10%    = -2.572\n",
            " => P-Value = 0.0. Rejecting Null Hypothesis.\n",
            " => Series is Stationary.\n",
            "\n",
            "\n",
            "    Augmented Dickey-Fuller Test on \"High\" \n",
            "    -----------------------------------------------\n",
            " Null Hypothesis: Data has unit root. Non-Stationary.\n",
            " Significance Level    = 0.05\n",
            " Test Statistic        = -3.4933\n",
            " No. Lags Chosen       = 8\n",
            " Critical value 1%     = -3.452\n",
            " Critical value 5%     = -2.871\n",
            " Critical value 10%    = -2.572\n",
            " => P-Value = 0.0082. Rejecting Null Hypothesis.\n",
            " => Series is Stationary.\n",
            "\n",
            "\n",
            "    Augmented Dickey-Fuller Test on \"low\" \n",
            "    -----------------------------------------------\n",
            " Null Hypothesis: Data has unit root. Non-Stationary.\n",
            " Significance Level    = 0.05\n",
            " Test Statistic        = -1.9079\n",
            " No. Lags Chosen       = 14\n",
            " Critical value 1%     = -3.453\n",
            " Critical value 5%     = -2.871\n",
            " Critical value 10%    = -2.572\n",
            " => P-Value = 0.3284. Weak evidence to reject the Null Hypothesis.\n",
            " => Series is Non-Stationary.\n",
            "\n",
            "\n",
            "    Augmented Dickey-Fuller Test on \"Moderate\" \n",
            "    -----------------------------------------------\n",
            " Null Hypothesis: Data has unit root. Non-Stationary.\n",
            " Significance Level    = 0.05\n",
            " Test Statistic        = -1.8293\n",
            " No. Lags Chosen       = 14\n",
            " Critical value 1%     = -3.453\n",
            " Critical value 5%     = -2.871\n",
            " Critical value 10%    = -2.572\n",
            " => P-Value = 0.366. Weak evidence to reject the Null Hypothesis.\n",
            " => Series is Non-Stationary.\n",
            "\n",
            "\n",
            "    Augmented Dickey-Fuller Test on \"Schedule SLA\" \n",
            "    -----------------------------------------------\n",
            " Null Hypothesis: Data has unit root. Non-Stationary.\n",
            " Significance Level    = 0.05\n",
            " Test Statistic        = -2.5671\n",
            " No. Lags Chosen       = 13\n",
            " Critical value 1%     = -3.452\n",
            " Critical value 5%     = -2.871\n",
            " Critical value 10%    = -2.572\n",
            " => P-Value = 0.1. Weak evidence to reject the Null Hypothesis.\n",
            " => Series is Non-Stationary.\n",
            "\n",
            "\n"
          ],
          "name": "stdout"
        }
      ]
    },
    {
      "cell_type": "markdown",
      "metadata": {
        "id": "OaFpj6dxOskt"
      },
      "source": [
        "The ADF test confirms none of the time series is stationary. Let’s difference all of them once and check again."
      ]
    },
    {
      "cell_type": "code",
      "metadata": {
        "id": "zm95i0NBOj1D"
      },
      "source": [
        "# 1st difference\r\n",
        "df_differenced = df_train.diff().dropna()"
      ],
      "execution_count": null,
      "outputs": []
    },
    {
      "cell_type": "markdown",
      "metadata": {
        "id": "VyD4j7NpO_OY"
      },
      "source": [
        "Re-run ADF test on each differenced series."
      ]
    },
    {
      "cell_type": "code",
      "metadata": {
        "colab": {
          "base_uri": "https://localhost:8080/"
        },
        "id": "nnzTl1BWOdjZ",
        "outputId": "bf9f45d4-9236-4a7f-ffb7-0e157c8e1039"
      },
      "source": [
        "# ADF Test on each column of 1st Differences Dataframe\r\n",
        "for name, column in df_differenced.iteritems():\r\n",
        "    adfuller_test(column, name=column.name)\r\n",
        "    print('\\n')"
      ],
      "execution_count": null,
      "outputs": [
        {
          "output_type": "stream",
          "text": [
            "    Augmented Dickey-Fuller Test on \"Critical\" \n",
            "    -----------------------------------------------\n",
            " Null Hypothesis: Data has unit root. Non-Stationary.\n",
            " Significance Level    = 0.05\n",
            " Test Statistic        = -8.4674\n",
            " No. Lags Chosen       = 14\n",
            " Critical value 1%     = -3.453\n",
            " Critical value 5%     = -2.871\n",
            " Critical value 10%    = -2.572\n",
            " => P-Value = 0.0. Rejecting Null Hypothesis.\n",
            " => Series is Stationary.\n",
            "\n",
            "\n",
            "    Augmented Dickey-Fuller Test on \"High\" \n",
            "    -----------------------------------------------\n",
            " Null Hypothesis: Data has unit root. Non-Stationary.\n",
            " Significance Level    = 0.05\n",
            " Test Statistic        = -8.5748\n",
            " No. Lags Chosen       = 12\n",
            " Critical value 1%     = -3.452\n",
            " Critical value 5%     = -2.871\n",
            " Critical value 10%    = -2.572\n",
            " => P-Value = 0.0. Rejecting Null Hypothesis.\n",
            " => Series is Stationary.\n",
            "\n",
            "\n",
            "    Augmented Dickey-Fuller Test on \"low\" \n",
            "    -----------------------------------------------\n",
            " Null Hypothesis: Data has unit root. Non-Stationary.\n",
            " Significance Level    = 0.05\n",
            " Test Statistic        = -5.9234\n",
            " No. Lags Chosen       = 13\n",
            " Critical value 1%     = -3.453\n",
            " Critical value 5%     = -2.871\n",
            " Critical value 10%    = -2.572\n",
            " => P-Value = 0.0. Rejecting Null Hypothesis.\n",
            " => Series is Stationary.\n",
            "\n",
            "\n",
            "    Augmented Dickey-Fuller Test on \"Moderate\" \n",
            "    -----------------------------------------------\n",
            " Null Hypothesis: Data has unit root. Non-Stationary.\n",
            " Significance Level    = 0.05\n",
            " Test Statistic        = -6.1895\n",
            " No. Lags Chosen       = 13\n",
            " Critical value 1%     = -3.453\n",
            " Critical value 5%     = -2.871\n",
            " Critical value 10%    = -2.572\n",
            " => P-Value = 0.0. Rejecting Null Hypothesis.\n",
            " => Series is Stationary.\n",
            "\n",
            "\n",
            "    Augmented Dickey-Fuller Test on \"Schedule SLA\" \n",
            "    -----------------------------------------------\n",
            " Null Hypothesis: Data has unit root. Non-Stationary.\n",
            " Significance Level    = 0.05\n",
            " Test Statistic        = -10.025\n",
            " No. Lags Chosen       = 12\n",
            " Critical value 1%     = -3.452\n",
            " Critical value 5%     = -2.871\n",
            " Critical value 10%    = -2.572\n",
            " => P-Value = 0.0. Rejecting Null Hypothesis.\n",
            " => Series is Stationary.\n",
            "\n",
            "\n"
          ],
          "name": "stdout"
        }
      ]
    },
    {
      "cell_type": "markdown",
      "metadata": {
        "id": "60_4-FXVPLvH"
      },
      "source": [
        "dfAll the series are now stationary.\r\n",
        "\r\n",
        "To select the right order of the VAR model, we iteratively fit increasing orders of VAR model and pick the order that gives a model with least AIC.\r\n",
        "\r\n",
        "Though the usual practice is to look at the AIC, you can also check other best fit comparison estimates of BIC, FPE and HQIC."
      ]
    },
    {
      "cell_type": "code",
      "metadata": {
        "colab": {
          "base_uri": "https://localhost:8080/"
        },
        "id": "p0_ptUsWPBn8",
        "outputId": "5b4cf05e-2eda-4ff2-e6c3-18dc96558085"
      },
      "source": [
        "def list_aic(df,count):\r\n",
        "  list_aic=[]\r\n",
        "  model = VAR(df)\r\n",
        "  for i in np.range(1,count):\r\n",
        "    result = model.fit(i)\r\n",
        "    list_aic.append([i,result.aic,result.bic,result.fpe,result.hqic)\r\n",
        "    print('Lag Order =', i)\r\n",
        "    print('AIC : ', result.aic)\r\n",
        "    print('BIC : ', result.bic)\r\n",
        "    print('FPE : ', result.fpe)\r\n",
        "    print('HQIC: ', result.hqic, '\\n')\r\n",
        "  aic_df= pd.DataFrame(list_aic,columns=['count','aic','bic','fpe','hqic'])\r\n",
        "  aic_df = aic_df.sort_values(columns=['aic','bic'])\r\n",
        "  return aic_df[0]\r\n",
        "\r\n",
        "list_aic(df_differenced,9)"
      ],
      "execution_count": null,
      "outputs": [
        {
          "output_type": "stream",
          "text": [
            "Lag Order = 1\n",
            "AIC :  21.242457711213607\n",
            "BIC :  21.6040614819374\n",
            "FPE :  1680709537.6188638\n",
            "HQIC:  21.38701162177659 \n",
            "\n",
            "Lag Order = 2\n",
            "AIC :  20.61802933583605\n",
            "BIC :  21.282539919102636\n",
            "FPE :  900247089.2879993\n",
            "HQIC:  20.883701934127743 \n",
            "\n",
            "Lag Order = 3\n",
            "AIC :  20.279194001696766\n",
            "BIC :  21.24805108818341\n",
            "FPE :  641719628.0523514\n",
            "HQIC:  20.666587739206655 \n",
            "\n",
            "Lag Order = 4\n",
            "AIC :  19.962734081206204\n",
            "BIC :  21.237388848296288\n",
            "FPE :  467918166.6840152\n",
            "HQIC:  20.472456237844412 \n",
            "\n",
            "Lag Order = 5\n",
            "AIC :  19.544903197797993\n",
            "BIC :  21.126818437189527\n",
            "FPE :  308414996.0883292\n",
            "HQIC:  20.17756593483781 \n",
            "\n",
            "Lag Order = 6\n",
            "AIC :  19.040238138286053\n",
            "BIC :  20.93088838541441\n",
            "FPE :  186466091.13347942\n",
            "HQIC:  19.796458552039876 \n",
            "\n",
            "Lag Order = 7\n",
            "AIC :  18.87867494954839\n",
            "BIC :  21.079546614854706\n",
            "FPE :  158975014.88190633\n",
            "HQIC:  19.759075125789362 \n",
            "\n",
            "Lag Order = 8\n",
            "AIC :  18.82581745478798\n",
            "BIC :  21.338408956865276\n",
            "FPE :  151208148.02593106\n",
            "HQIC:  19.831024523929678 \n",
            "\n",
            "Lag Order = 9\n",
            "AIC :  18.880213358274105\n",
            "BIC :  21.70603525892384\n",
            "FPE :  160236230.79569522\n",
            "HQIC:  20.010859551321108 \n",
            "\n"
          ],
          "name": "stdout"
        },
        {
          "output_type": "stream",
          "text": [
            "/usr/local/lib/python3.7/dist-packages/statsmodels/tsa/base/tsa_model.py:219: ValueWarning: A date index has been provided, but it has no associated frequency information and so will be ignored when e.g. forecasting.\n",
            "  ' ignored when e.g. forecasting.', ValueWarning)\n"
          ],
          "name": "stderr"
        }
      ]
    },
    {
      "cell_type": "markdown",
      "metadata": {
        "id": "SVo1oTqCPcSC"
      },
      "source": [
        "In the above output, the AIC drops to lowest at lag 8, then increases at 9 lag.\r\n",
        "\r\n",
        "Let’s go with the lag 8 model.\r\n",
        "\r\n",
        "The selected order(p) is the order that gives the lowest ‘AIC’, ‘BIC’, ‘FPE’ and ‘HQIC’ scores."
      ]
    },
    {
      "cell_type": "code",
      "metadata": {
        "colab": {
          "base_uri": "https://localhost:8080/",
          "height": 332
        },
        "id": "ZavRy2IUPOj5",
        "outputId": "210ff941-095e-40a1-bfc5-93923ed65dbf"
      },
      "source": [
        "x = model.select_order(maxlags=12)\r\n",
        "x.summary()"
      ],
      "execution_count": null,
      "outputs": [
        {
          "output_type": "execute_result",
          "data": {
            "text/html": [
              "<table class=\"simpletable\">\n",
              "<caption>VAR Order Selection (* highlights the minimums)</caption>\n",
              "<tr>\n",
              "   <td></td>      <th>AIC</th>         <th>BIC</th>         <th>FPE</th>        <th>HQIC</th>    \n",
              "</tr>\n",
              "<tr>\n",
              "  <th>0</th>  <td>     22.17</td>  <td>     22.24</td>  <td> 4.265e+09</td>  <td>     22.20</td> \n",
              "</tr>\n",
              "<tr>\n",
              "  <th>1</th>  <td>     21.23</td>  <td>     21.61</td>  <td> 1.666e+09</td>  <td>     21.38</td> \n",
              "</tr>\n",
              "<tr>\n",
              "  <th>2</th>  <td>     20.62</td>  <td>     21.30</td>  <td> 9.045e+08</td>  <td>     20.90</td> \n",
              "</tr>\n",
              "<tr>\n",
              "  <th>3</th>  <td>     20.25</td>  <td>     21.24</td>  <td> 6.258e+08</td>  <td>     20.65</td> \n",
              "</tr>\n",
              "<tr>\n",
              "  <th>4</th>  <td>     19.92</td>  <td>     21.22</td>  <td> 4.506e+08</td>  <td>     20.45</td> \n",
              "</tr>\n",
              "<tr>\n",
              "  <th>5</th>  <td>     19.48</td>  <td>     21.08</td>  <td> 2.878e+08</td>  <td>     20.12</td> \n",
              "</tr>\n",
              "<tr>\n",
              "  <th>6</th>  <td>     18.92</td>  <td>     20.83*</td> <td> 1.647e+08</td>  <td>     19.68*</td>\n",
              "</tr>\n",
              "<tr>\n",
              "  <th>7</th>  <td>     18.80</td>  <td>     21.03</td>  <td> 1.471e+08</td>  <td>     19.69</td> \n",
              "</tr>\n",
              "<tr>\n",
              "  <th>8</th>  <td>     18.80</td>  <td>     21.34</td>  <td> 1.479e+08</td>  <td>     19.82</td> \n",
              "</tr>\n",
              "<tr>\n",
              "  <th>9</th>  <td>     18.85</td>  <td>     21.70</td>  <td> 1.556e+08</td>  <td>     19.99</td> \n",
              "</tr>\n",
              "<tr>\n",
              "  <th>10</th> <td>     18.75</td>  <td>     21.91</td>  <td> 1.415e+08*</td> <td>     20.01</td> \n",
              "</tr>\n",
              "<tr>\n",
              "  <th>11</th> <td>     18.78</td>  <td>     22.25</td>  <td> 1.471e+08</td>  <td>     20.17</td> \n",
              "</tr>\n",
              "<tr>\n",
              "  <th>12</th> <td>     18.74*</td> <td>     22.51</td>  <td> 1.417e+08</td>  <td>     20.25</td> \n",
              "</tr>\n",
              "</table>"
            ],
            "text/plain": [
              "<class 'statsmodels.iolib.table.SimpleTable'>"
            ]
          },
          "metadata": {
            "tags": []
          },
          "execution_count": 28
        }
      ]
    },
    {
      "cell_type": "markdown",
      "metadata": {
        "id": "mdE4_8vEPqg6"
      },
      "source": [
        "According to FPE and HQIC, the optimal lag is observed at a lag order of 7.\r\n",
        "\r\n",
        "Since the explicitly computed AIC is the lowest at lag 7, I choose the selected order as 6."
      ]
    },
    {
      "cell_type": "code",
      "metadata": {
        "colab": {
          "base_uri": "https://localhost:8080/"
        },
        "id": "oKn2HBNAPgU4",
        "outputId": "a81dd4da-5a3e-4862-83d4-f49fd796d750"
      },
      "source": [
        "#Train the VAR Model of Selected Order(p=1)\r\n",
        "\r\n",
        "model_fitted = model.fit(7)\r\n",
        "model_fitted.summary()"
      ],
      "execution_count": null,
      "outputs": [
        {
          "output_type": "execute_result",
          "data": {
            "text/plain": [
              "  Summary of Regression Results   \n",
              "==================================\n",
              "Model:                         VAR\n",
              "Method:                        OLS\n",
              "Date:           Mon, 08, Mar, 2021\n",
              "Time:                     13:16:41\n",
              "--------------------------------------------------------------------\n",
              "No. of Equations:         5.00000    BIC:                    21.0795\n",
              "Nobs:                     304.000    HQIC:                   19.7591\n",
              "Log likelihood:          -4846.35    FPE:                1.58975e+08\n",
              "AIC:                      18.8787    Det(Omega_mle):     9.08452e+07\n",
              "--------------------------------------------------------------------\n",
              "Results for equation Critical\n",
              "==================================================================================\n",
              "                     coefficient       std. error           t-stat            prob\n",
              "----------------------------------------------------------------------------------\n",
              "const                   0.005723         0.027830            0.206           0.837\n",
              "L1.Critical            -0.966408         0.062758          -15.399           0.000\n",
              "L1.High                 0.013468         0.009288            1.450           0.147\n",
              "L1.low                 -0.000178         0.000680           -0.262           0.793\n",
              "L1.Moderate            -0.000270         0.001535           -0.176           0.861\n",
              "L1.Schedule SLA         0.005059         0.004693            1.078           0.281\n",
              "L2.Critical            -0.869451         0.087330           -9.956           0.000\n",
              "L2.High                 0.003041         0.011014            0.276           0.782\n",
              "L2.low                 -0.000546         0.000801           -0.682           0.496\n",
              "L2.Moderate            -0.000168         0.001769           -0.095           0.924\n",
              "L2.Schedule SLA         0.010713         0.006715            1.595           0.111\n",
              "L3.Critical            -0.656243         0.101212           -6.484           0.000\n",
              "L3.High                -0.007361         0.011844           -0.621           0.534\n",
              "L3.low                 -0.000993         0.000855           -1.161           0.246\n",
              "L3.Moderate            -0.002172         0.001905           -1.140           0.254\n",
              "L3.Schedule SLA         0.019146         0.007741            2.473           0.013\n",
              "L4.Critical            -0.455360         0.106668           -4.269           0.000\n",
              "L4.High                -0.003014         0.012205           -0.247           0.805\n",
              "L4.low                  0.000708         0.000892            0.793           0.428\n",
              "L4.Moderate            -0.003505         0.001983           -1.767           0.077\n",
              "L4.Schedule SLA         0.019808         0.008115            2.441           0.015\n",
              "L5.Critical            -0.382960         0.101178           -3.785           0.000\n",
              "L5.High                 0.010685         0.011793            0.906           0.365\n",
              "L5.low                  0.000503         0.000844            0.596           0.551\n",
              "L5.Moderate            -0.002357         0.001873           -1.258           0.208\n",
              "L5.Schedule SLA         0.009362         0.007838            1.194           0.232\n",
              "L6.Critical            -0.158410         0.087974           -1.801           0.072\n",
              "L6.High                 0.011771         0.011046            1.066           0.287\n",
              "L6.low                  0.000511         0.000780            0.655           0.512\n",
              "L6.Moderate            -0.002149         0.001743           -1.233           0.218\n",
              "L6.Schedule SLA         0.009874         0.006626            1.490           0.136\n",
              "L7.Critical            -0.069359         0.063529           -1.092           0.275\n",
              "L7.High                 0.004094         0.009324            0.439           0.661\n",
              "L7.low                 -0.000656         0.000673           -0.975           0.330\n",
              "L7.Moderate             0.001138         0.001509            0.754           0.451\n",
              "L7.Schedule SLA         0.006406         0.004563            1.404           0.160\n",
              "==================================================================================\n",
              "\n",
              "Results for equation High\n",
              "==================================================================================\n",
              "                     coefficient       std. error           t-stat            prob\n",
              "----------------------------------------------------------------------------------\n",
              "const                  -0.049110         0.182416           -0.269           0.788\n",
              "L1.Critical            -0.072333         0.411351           -0.176           0.860\n",
              "L1.High                -0.764044         0.060879          -12.550           0.000\n",
              "L1.low                  0.008214         0.004455            1.844           0.065\n",
              "L1.Moderate             0.001510         0.010062            0.150           0.881\n",
              "L1.Schedule SLA         0.003979         0.030763            0.129           0.897\n",
              "L2.Critical            -0.844154         0.572413           -1.475           0.140\n",
              "L2.High                -0.666062         0.072195           -9.226           0.000\n",
              "L2.low                  0.007127         0.005250            1.357           0.175\n",
              "L2.Moderate             0.001537         0.011594            0.133           0.895\n",
              "L2.Schedule SLA         0.042541         0.044014            0.967           0.334\n",
              "L3.Critical            -0.726726         0.663402           -1.095           0.273\n",
              "L3.High                -0.635653         0.077632           -8.188           0.000\n",
              "L3.low                  0.003784         0.005607            0.675           0.500\n",
              "L3.Moderate             0.001257         0.012484            0.101           0.920\n",
              "L3.Schedule SLA         0.082454         0.050739            1.625           0.104\n",
              "L4.Critical            -1.278419         0.699168           -1.828           0.067\n",
              "L4.High                -0.517429         0.079998           -6.468           0.000\n",
              "L4.low                  0.006232         0.005850            1.065           0.287\n",
              "L4.Moderate             0.003726         0.013001            0.287           0.774\n",
              "L4.Schedule SLA         0.113539         0.053189            2.135           0.033\n",
              "L5.Critical            -0.593172         0.663179           -0.894           0.371\n",
              "L5.High                -0.429314         0.077301           -5.554           0.000\n",
              "L5.low                  0.008009         0.005534            1.447           0.148\n",
              "L5.Moderate             0.002634         0.012279            0.215           0.830\n",
              "L5.Schedule SLA         0.076264         0.051377            1.484           0.138\n",
              "L6.Critical            -0.103296         0.576631           -0.179           0.858\n",
              "L6.High                -0.367614         0.072400           -5.078           0.000\n",
              "L6.low                  0.007306         0.005115            1.428           0.153\n",
              "L6.Moderate             0.018011         0.011427            1.576           0.115\n",
              "L6.Schedule SLA         0.025513         0.043430            0.587           0.557\n",
              "L7.Critical            -0.496651         0.416406           -1.193           0.233\n",
              "L7.High                -0.129979         0.061117           -2.127           0.033\n",
              "L7.low                 -0.004405         0.004411           -0.999           0.318\n",
              "L7.Moderate             0.020607         0.009892            2.083           0.037\n",
              "L7.Schedule SLA         0.021939         0.029905            0.734           0.463\n",
              "==================================================================================\n",
              "\n",
              "Results for equation low\n",
              "==================================================================================\n",
              "                     coefficient       std. error           t-stat            prob\n",
              "----------------------------------------------------------------------------------\n",
              "const                   1.039778         3.012449            0.345           0.730\n",
              "L1.Critical             6.871158         6.793138            1.011           0.312\n",
              "L1.High                -1.194537         1.005372           -1.188           0.235\n",
              "L1.low                 -0.597646         0.073576           -8.123           0.000\n",
              "L1.Moderate             0.331905         0.166171            1.997           0.046\n",
              "L1.Schedule SLA         0.508473         0.508029            1.001           0.317\n",
              "L2.Critical             6.185149         9.452942            0.654           0.513\n",
              "L2.High                -1.221925         1.192246           -1.025           0.305\n",
              "L2.low                 -0.555209         0.086697           -6.404           0.000\n",
              "L2.Moderate             0.156105         0.191460            0.815           0.415\n",
              "L2.Schedule SLA         0.627306         0.726857            0.863           0.388\n",
              "L3.Critical            -2.571620        10.955567           -0.235           0.814\n",
              "L3.High                -1.359861         1.282039           -1.061           0.289\n",
              "L3.low                 -0.489185         0.092598           -5.283           0.000\n",
              "L3.Moderate             0.190786         0.206163            0.925           0.355\n",
              "L3.Schedule SLA        -0.388607         0.837915           -0.464           0.643\n",
              "L4.Critical             7.774176        11.546204            0.673           0.501\n",
              "L4.High                -1.058099         1.321103           -0.801           0.423\n",
              "L4.low                 -0.383522         0.096606           -3.970           0.000\n",
              "L4.Moderate             0.041076         0.214693            0.191           0.848\n",
              "L4.Schedule SLA        -0.464894         0.878369           -0.529           0.597\n",
              "L5.Critical             8.231537        10.951877            0.752           0.452\n",
              "L5.High                 0.427302         1.276565            0.335           0.738\n",
              "L5.low                 -0.409667         0.091393           -4.482           0.000\n",
              "L5.Moderate             0.054227         0.202782            0.267           0.789\n",
              "L5.Schedule SLA        -1.207050         0.848454           -1.423           0.155\n",
              "L6.Critical            12.448515         9.522602            1.307           0.191\n",
              "L6.High                -0.392453         1.195623           -0.328           0.743\n",
              "L6.low                 -0.328681         0.084478           -3.891           0.000\n",
              "L6.Moderate             0.030828         0.188715            0.163           0.870\n",
              "L6.Schedule SLA        -0.893545         0.717212           -1.246           0.213\n",
              "L7.Critical            12.009324         6.876622            1.746           0.081\n",
              "L7.High                -2.713106         1.009300           -2.688           0.007\n",
              "L7.low                  0.126328         0.072836            1.734           0.083\n",
              "L7.Moderate             0.676962         0.163356            4.144           0.000\n",
              "L7.Schedule SLA        -0.465987         0.493865           -0.944           0.345\n",
              "==================================================================================\n",
              "\n",
              "Results for equation Moderate\n",
              "==================================================================================\n",
              "                     coefficient       std. error           t-stat            prob\n",
              "----------------------------------------------------------------------------------\n",
              "const                   0.144939         1.400701            0.103           0.918\n",
              "L1.Critical             1.053488         3.158611            0.334           0.739\n",
              "L1.High                -0.078548         0.467469           -0.168           0.867\n",
              "L1.low                  0.058168         0.034211            1.700           0.089\n",
              "L1.Moderate            -0.494726         0.077265           -6.403           0.000\n",
              "L1.Schedule SLA         0.428968         0.236219            1.816           0.069\n",
              "L2.Critical             8.129967         4.395342            1.850           0.064\n",
              "L2.High                -0.183278         0.554360           -0.331           0.741\n",
              "L2.low                  0.061656         0.040312            1.529           0.126\n",
              "L2.Moderate            -0.560756         0.089023           -6.299           0.000\n",
              "L2.Schedule SLA         0.237373         0.337967            0.702           0.482\n",
              "L3.Critical             9.339599         5.094019            1.833           0.067\n",
              "L3.High                -0.403382         0.596111           -0.677           0.499\n",
              "L3.low                  0.091385         0.043055            2.122           0.034\n",
              "L3.Moderate            -0.540135         0.095860           -5.635           0.000\n",
              "L3.Schedule SLA         0.062582         0.389606            0.161           0.872\n",
              "L4.Critical            12.127417         5.368648            2.259           0.024\n",
              "L4.High                 0.380786         0.614274            0.620           0.535\n",
              "L4.low                  0.042454         0.044919            0.945           0.345\n",
              "L4.Moderate            -0.441503         0.099826           -4.423           0.000\n",
              "L4.Schedule SLA         0.029643         0.408416            0.073           0.942\n",
              "L5.Critical            11.444478         5.092303            2.247           0.025\n",
              "L5.High                 0.447995         0.593566            0.755           0.450\n",
              "L5.low                  0.004076         0.042495            0.096           0.924\n",
              "L5.Moderate            -0.336812         0.094287           -3.572           0.000\n",
              "L5.Schedule SLA        -0.199325         0.394506           -0.505           0.613\n",
              "L6.Critical             8.437171         4.427732            1.906           0.057\n",
              "L6.High                 0.041919         0.555930            0.075           0.940\n",
              "L6.low                 -0.009921         0.039280           -0.253           0.801\n",
              "L6.Moderate            -0.230657         0.087747           -2.629           0.009\n",
              "L6.Schedule SLA        -0.213007         0.333483           -0.639           0.523\n",
              "L7.Critical             4.515653         3.197428            1.412           0.158\n",
              "L7.High                -0.872542         0.469295           -1.859           0.063\n",
              "L7.low                  0.061239         0.033867            1.808           0.071\n",
              "L7.Moderate             0.247807         0.075956            3.263           0.001\n",
              "L7.Schedule SLA        -0.005403         0.229633           -0.024           0.981\n",
              "==================================================================================\n",
              "\n",
              "Results for equation Schedule SLA\n",
              "==================================================================================\n",
              "                     coefficient       std. error           t-stat            prob\n",
              "----------------------------------------------------------------------------------\n",
              "const                   0.008740         0.374371            0.023           0.981\n",
              "L1.Critical             1.478947         0.844215            1.752           0.080\n",
              "L1.High                 0.003782         0.124942            0.030           0.976\n",
              "L1.low                  0.009873         0.009144            1.080           0.280\n",
              "L1.Moderate             0.036263         0.020651            1.756           0.079\n",
              "L1.Schedule SLA        -1.003433         0.063135          -15.893           0.000\n",
              "L2.Critical            -0.155503         1.174762           -0.132           0.895\n",
              "L2.High                 0.187965         0.148166            1.269           0.205\n",
              "L2.low                 -0.011401         0.010774           -1.058           0.290\n",
              "L2.Moderate             0.023006         0.023794            0.967           0.334\n",
              "L2.Schedule SLA        -0.873105         0.090330           -9.666           0.000\n",
              "L3.Critical            -0.723284         1.361500           -0.531           0.595\n",
              "L3.High                -0.118144         0.159325           -0.742           0.458\n",
              "L3.low                  0.002093         0.011508            0.182           0.856\n",
              "L3.Moderate            -0.015992         0.025621           -0.624           0.533\n",
              "L3.Schedule SLA        -0.690817         0.104132           -6.634           0.000\n",
              "L4.Critical             0.249464         1.434902            0.174           0.862\n",
              "L4.High                 0.087582         0.164180            0.533           0.594\n",
              "L4.low                 -0.006125         0.012006           -0.510           0.610\n",
              "L4.Moderate            -0.028847         0.026681           -1.081           0.280\n",
              "L4.Schedule SLA        -0.495084         0.109159           -4.535           0.000\n",
              "L5.Critical             0.497839         1.361042            0.366           0.715\n",
              "L5.High                 0.065943         0.158645            0.416           0.678\n",
              "L5.low                 -0.023717         0.011358           -2.088           0.037\n",
              "L5.Moderate             0.019321         0.025201            0.767           0.443\n",
              "L5.Schedule SLA        -0.365219         0.105441           -3.464           0.001\n",
              "L6.Critical             0.437305         1.183419            0.370           0.712\n",
              "L6.High                -0.190284         0.148586           -1.281           0.200\n",
              "L6.low                 -0.006608         0.010498           -0.629           0.529\n",
              "L6.Moderate             0.005555         0.023452            0.237           0.813\n",
              "L6.Schedule SLA        -0.204130         0.089131           -2.290           0.022\n",
              "L7.Critical             0.777101         0.854591            0.909           0.363\n",
              "L7.High                -0.166107         0.125431           -1.324           0.185\n",
              "L7.low                  0.006373         0.009052            0.704           0.481\n",
              "L7.Moderate             0.031602         0.020301            1.557           0.120\n",
              "L7.Schedule SLA        -0.105482         0.061375           -1.719           0.086\n",
              "==================================================================================\n",
              "\n",
              "Correlation matrix of residuals\n",
              "                Critical      High       low  Moderate  Schedule SLA\n",
              "Critical        1.000000  0.147965  0.081233  0.184424      0.023771\n",
              "High            0.147965  1.000000  0.005748  0.011199     -0.098008\n",
              "low             0.081233  0.005748  1.000000  0.584512      0.246589\n",
              "Moderate        0.184424  0.011199  0.584512  1.000000      0.303149\n",
              "Schedule SLA    0.023771 -0.098008  0.246589  0.303149      1.000000\n",
              "\n"
            ]
          },
          "metadata": {
            "tags": []
          },
          "execution_count": 29
        }
      ]
    },
    {
      "cell_type": "code",
      "metadata": {
        "colab": {
          "base_uri": "https://localhost:8080/"
        },
        "id": "WtgTyNvlLnw5",
        "outputId": "f37abe36-d18b-4ac0-9d1a-ffef1950dc0d"
      },
      "source": [
        "#Train the VAR Model of Selected Order(p=2)\r\n",
        "\r\n",
        "model_fitted_2 = model.fit(2)\r\n",
        "model_fitted_2.summary()"
      ],
      "execution_count": null,
      "outputs": [
        {
          "output_type": "execute_result",
          "data": {
            "text/plain": [
              "  Summary of Regression Results   \n",
              "==================================\n",
              "Model:                         VAR\n",
              "Method:                        OLS\n",
              "Date:           Fri, 05, Mar, 2021\n",
              "Time:                     06:44:07\n",
              "--------------------------------------------------------------------\n",
              "No. of Equations:         5.00000    BIC:                    21.2825\n",
              "Nobs:                     309.000    HQIC:                   20.8837\n",
              "Log likelihood:          -5322.75    FPE:                9.00247e+08\n",
              "AIC:                      20.6180    Det(Omega_mle):     7.55795e+08\n",
              "--------------------------------------------------------------------\n",
              "Results for equation Critical\n",
              "==================================================================================\n",
              "                     coefficient       std. error           t-stat            prob\n",
              "----------------------------------------------------------------------------------\n",
              "const                   0.005104         0.030354            0.168           0.866\n",
              "L1.Critical            -0.734794         0.054543          -13.472           0.000\n",
              "L1.High                 0.018703         0.008380            2.232           0.026\n",
              "L1.low                  0.000456         0.000551            0.827           0.408\n",
              "L1.Moderate            -0.000184         0.001356           -0.136           0.892\n",
              "L1.Schedule SLA         0.004352         0.003807            1.143           0.253\n",
              "L2.Critical            -0.419803         0.055896           -7.510           0.000\n",
              "L2.High                 0.001550         0.008360            0.185           0.853\n",
              "L2.low                 -0.000011         0.000550           -0.021           0.983\n",
              "L2.Moderate             0.000528         0.001318            0.401           0.689\n",
              "L2.Schedule SLA        -0.001344         0.003833           -0.351           0.726\n",
              "==================================================================================\n",
              "\n",
              "Results for equation High\n",
              "==================================================================================\n",
              "                     coefficient       std. error           t-stat            prob\n",
              "----------------------------------------------------------------------------------\n",
              "const                  -0.000183         0.209355           -0.001           0.999\n",
              "L1.Critical             0.273935         0.376190            0.728           0.467\n",
              "L1.High                -0.521548         0.057795           -9.024           0.000\n",
              "L1.low                  0.004904         0.003800            1.291           0.197\n",
              "L1.Moderate            -0.011169         0.009356           -1.194           0.233\n",
              "L1.Schedule SLA        -0.046705         0.026256           -1.779           0.075\n",
              "L2.Critical            -0.172766         0.385524           -0.448           0.654\n",
              "L2.High                -0.270017         0.057657           -4.683           0.000\n",
              "L2.low                  0.006447         0.003791            1.701           0.089\n",
              "L2.Moderate            -0.007323         0.009091           -0.806           0.421\n",
              "L2.Schedule SLA        -0.027741         0.026436           -1.049           0.294\n",
              "==================================================================================\n",
              "\n",
              "Results for equation low\n",
              "==================================================================================\n",
              "                     coefficient       std. error           t-stat            prob\n",
              "----------------------------------------------------------------------------------\n",
              "const                   0.936676         5.175586            0.181           0.856\n",
              "L1.Critical             2.945891         9.299994            0.317           0.751\n",
              "L1.High                 0.988799         1.428776            0.692           0.489\n",
              "L1.low                 -0.358821         0.093941           -3.820           0.000\n",
              "L1.Moderate             0.327193         0.231291            1.415           0.157\n",
              "L1.Schedule SLA         3.532534         0.649096            5.442           0.000\n",
              "L2.Critical            -1.496400         9.530733           -0.157           0.875\n",
              "L2.High                 0.464874         1.425372            0.326           0.744\n",
              "L2.low                 -0.329465         0.093710           -3.516           0.000\n",
              "L2.Moderate            -0.334691         0.224741           -1.489           0.136\n",
              "L2.Schedule SLA         3.061199         0.653534            4.684           0.000\n",
              "==================================================================================\n",
              "\n",
              "Results for equation Moderate\n",
              "==================================================================================\n",
              "                     coefficient       std. error           t-stat            prob\n",
              "----------------------------------------------------------------------------------\n",
              "const                   0.187789         2.176076            0.086           0.931\n",
              "L1.Critical            -3.141631         3.910184           -0.803           0.422\n",
              "L1.High                 0.738373         0.600729            1.229           0.219\n",
              "L1.low                  0.050315         0.039498            1.274           0.203\n",
              "L1.Moderate            -0.245699         0.097246           -2.527           0.012\n",
              "L1.Schedule SLA         1.322276         0.272912            4.845           0.000\n",
              "L2.Critical            -0.327894         4.007199           -0.082           0.935\n",
              "L2.High                 0.491984         0.599298            0.821           0.412\n",
              "L2.low                 -0.013098         0.039400           -0.332           0.740\n",
              "L2.Moderate            -0.336907         0.094493           -3.565           0.000\n",
              "L2.Schedule SLA         1.003632         0.274778            3.653           0.000\n",
              "==================================================================================\n",
              "\n",
              "Results for equation Schedule SLA\n",
              "==================================================================================\n",
              "                     coefficient       std. error           t-stat            prob\n",
              "----------------------------------------------------------------------------------\n",
              "const                   0.027621         0.484704            0.057           0.955\n",
              "L1.Critical             1.670053         0.870962            1.917           0.055\n",
              "L1.High                 0.107249         0.133808            0.802           0.423\n",
              "L1.low                  0.010603         0.008798            1.205           0.228\n",
              "L1.Moderate             0.026804         0.021661            1.237           0.216\n",
              "L1.Schedule SLA        -0.592784         0.060789           -9.751           0.000\n",
              "L2.Critical            -0.019992         0.892572           -0.022           0.982\n",
              "L2.High                 0.296159         0.133489            2.219           0.027\n",
              "L2.low                 -0.015030         0.008776           -1.713           0.087\n",
              "L2.Moderate            -0.032379         0.021047           -1.538           0.124\n",
              "L2.Schedule SLA        -0.240929         0.061205           -3.936           0.000\n",
              "==================================================================================\n",
              "\n",
              "Correlation matrix of residuals\n",
              "                Critical      High       low  Moderate  Schedule SLA\n",
              "Critical        1.000000  0.157003  0.119179  0.150159      0.051856\n",
              "High            0.157003  1.000000 -0.180138 -0.158995     -0.168102\n",
              "low             0.119179 -0.180138  1.000000  0.805986      0.513773\n",
              "Moderate        0.150159 -0.158995  0.805986  1.000000      0.521350\n",
              "Schedule SLA    0.051856 -0.168102  0.513773  0.521350      1.000000\n",
              "\n"
            ]
          },
          "metadata": {
            "tags": []
          },
          "execution_count": 29
        }
      ]
    },
    {
      "cell_type": "code",
      "metadata": {
        "colab": {
          "base_uri": "https://localhost:8080/"
        },
        "id": "VMqnA7hJLniX",
        "outputId": "bf18acd1-61bf-40c4-b129-c008475332bf"
      },
      "source": [
        "#Train the VAR Model of Selected Order(p=3)\r\n",
        "\r\n",
        "model_fitted_3 = model.fit(3)\r\n",
        "model_fitted_3.summary()"
      ],
      "execution_count": null,
      "outputs": [
        {
          "output_type": "execute_result",
          "data": {
            "text/plain": [
              "  Summary of Regression Results   \n",
              "==================================\n",
              "Model:                         VAR\n",
              "Method:                        OLS\n",
              "Date:           Thu, 04, Mar, 2021\n",
              "Time:                     05:34:49\n",
              "--------------------------------------------------------------------\n",
              "No. of Equations:         5.00000    BIC:                    21.2481\n",
              "Nobs:                     308.000    HQIC:                   20.6666\n",
              "Log likelihood:          -5228.16    FPE:                6.41720e+08\n",
              "AIC:                      20.2792    Det(Omega_mle):     4.98166e+08\n",
              "--------------------------------------------------------------------\n",
              "Results for equation Critical\n",
              "==================================================================================\n",
              "                     coefficient       std. error           t-stat            prob\n",
              "----------------------------------------------------------------------------------\n",
              "const                   0.006709         0.028787            0.233           0.816\n",
              "L1.Critical            -0.853473         0.056705          -15.051           0.000\n",
              "L1.High                 0.017334         0.008261            2.098           0.036\n",
              "L1.low                 -0.000152         0.000556           -0.274           0.784\n",
              "L1.Moderate             0.000476         0.001331            0.357           0.721\n",
              "L1.Schedule SLA         0.004826         0.004114            1.173           0.241\n",
              "L2.Critical            -0.628862         0.067629           -9.299           0.000\n",
              "L2.High                 0.004351         0.009157            0.475           0.635\n",
              "L2.low                 -0.000347         0.000584           -0.595           0.552\n",
              "L2.Moderate             0.000733         0.001379            0.531           0.595\n",
              "L2.Schedule SLA         0.005154         0.004952            1.041           0.298\n",
              "L3.Critical            -0.297246         0.058135           -5.113           0.000\n",
              "L3.High                -0.008980         0.008276           -1.085           0.278\n",
              "L3.low                 -0.001002         0.000548           -1.828           0.067\n",
              "L3.Moderate             0.000276         0.001293            0.214           0.831\n",
              "L3.Schedule SLA         0.005745         0.004090            1.405           0.160\n",
              "==================================================================================\n",
              "\n",
              "Results for equation High\n",
              "==================================================================================\n",
              "                     coefficient       std. error           t-stat            prob\n",
              "----------------------------------------------------------------------------------\n",
              "const                  -0.000325         0.205381           -0.002           0.999\n",
              "L1.Critical             0.311397         0.404557            0.770           0.441\n",
              "L1.High                -0.583552         0.058935           -9.902           0.000\n",
              "L1.low                  0.004294         0.003970            1.082           0.279\n",
              "L1.Moderate            -0.009005         0.009499           -0.948           0.343\n",
              "L1.Schedule SLA        -0.035751         0.029348           -1.218           0.223\n",
              "L2.Critical             0.068366         0.482496            0.142           0.887\n",
              "L2.High                -0.400831         0.065331           -6.135           0.000\n",
              "L2.low                  0.004814         0.004163            1.156           0.248\n",
              "L2.Moderate            -0.004035         0.009838           -0.410           0.682\n",
              "L2.Schedule SLA        -0.037520         0.035327           -1.062           0.288\n",
              "L3.Critical             0.209343         0.414759            0.505           0.614\n",
              "L3.High                -0.242435         0.059045           -4.106           0.000\n",
              "L3.low                 -0.001959         0.003911           -0.501           0.616\n",
              "L3.Moderate             0.007867         0.009223            0.853           0.394\n",
              "L3.Schedule SLA        -0.024629         0.029178           -0.844           0.399\n",
              "==================================================================================\n",
              "\n",
              "Results for equation low\n",
              "==================================================================================\n",
              "                     coefficient       std. error           t-stat            prob\n",
              "----------------------------------------------------------------------------------\n",
              "const                   0.775179         5.073198            0.153           0.879\n",
              "L1.Critical             5.952369         9.993092            0.596           0.551\n",
              "L1.High                 0.127418         1.455768            0.088           0.930\n",
              "L1.low                 -0.437201         0.098058           -4.459           0.000\n",
              "L1.Moderate             0.233230         0.234626            0.994           0.320\n",
              "L1.Schedule SLA         4.071022         0.724930            5.616           0.000\n",
              "L2.Critical             2.107105        11.918287            0.177           0.860\n",
              "L2.High                -0.644784         1.613773           -0.400           0.689\n",
              "L2.low                 -0.369074         0.102844           -3.589           0.000\n",
              "L2.Moderate            -0.481808         0.243004           -1.983           0.047\n",
              "L2.Schedule SLA         4.394178         0.872629            5.036           0.000\n",
              "L3.Critical             4.859716        10.245103            0.474           0.635\n",
              "L3.High                -2.618427         1.458493           -1.795           0.073\n",
              "L3.low                  0.008284         0.096615            0.086           0.932\n",
              "L3.Moderate            -0.540335         0.227825           -2.372           0.018\n",
              "L3.Schedule SLA         1.900606         0.720746            2.637           0.008\n",
              "==================================================================================\n",
              "\n",
              "Results for equation Moderate\n",
              "==================================================================================\n",
              "                     coefficient       std. error           t-stat            prob\n",
              "----------------------------------------------------------------------------------\n",
              "const                   0.136959         2.073772            0.066           0.947\n",
              "L1.Critical            -0.615792         4.084878           -0.151           0.880\n",
              "L1.High                 0.206187         0.595075            0.346           0.729\n",
              "L1.low                  0.052588         0.040083            1.312           0.190\n",
              "L1.Moderate            -0.372175         0.095908           -3.881           0.000\n",
              "L1.Schedule SLA         1.708780         0.296330            5.766           0.000\n",
              "L2.Critical             2.837891         4.871840            0.583           0.560\n",
              "L2.High                -0.268885         0.659662           -0.408           0.684\n",
              "L2.low                  0.024908         0.042040            0.592           0.554\n",
              "L2.Moderate            -0.538370         0.099333           -5.420           0.000\n",
              "L2.Schedule SLA         1.625653         0.356705            4.557           0.000\n",
              "L3.Critical             4.972507         4.187893            1.187           0.235\n",
              "L3.High                -1.290611         0.596188           -2.165           0.030\n",
              "L3.low                  0.143333         0.039493            3.629           0.000\n",
              "L3.Moderate            -0.481259         0.093128           -5.168           0.000\n",
              "L3.Schedule SLA         0.822068         0.294620            2.790           0.005\n",
              "==================================================================================\n",
              "\n",
              "Results for equation Schedule SLA\n",
              "==================================================================================\n",
              "                     coefficient       std. error           t-stat            prob\n",
              "----------------------------------------------------------------------------------\n",
              "const                   0.045508         0.468592            0.097           0.923\n",
              "L1.Critical             1.384423         0.923024            1.500           0.134\n",
              "L1.High                 0.007190         0.134464            0.053           0.957\n",
              "L1.low                  0.010848         0.009057            1.198           0.231\n",
              "L1.Moderate             0.020894         0.021672            0.964           0.335\n",
              "L1.Schedule SLA        -0.664087         0.066959           -9.918           0.000\n",
              "L2.Critical            -0.324505         1.100847           -0.295           0.768\n",
              "L2.High                 0.153026         0.149058            1.027           0.305\n",
              "L2.low                 -0.007455         0.009499           -0.785           0.433\n",
              "L2.Moderate            -0.040850         0.022445           -1.820           0.069\n",
              "L2.Schedule SLA        -0.325065         0.080601           -4.033           0.000\n",
              "L3.Critical            -0.458877         0.946301           -0.485           0.628\n",
              "L3.High                -0.279926         0.134715           -2.078           0.038\n",
              "L3.low                  0.012313         0.008924            1.380           0.168\n",
              "L3.Moderate            -0.074908         0.021043           -3.560           0.000\n",
              "L3.Schedule SLA        -0.079825         0.066573           -1.199           0.230\n",
              "==================================================================================\n",
              "\n",
              "Correlation matrix of residuals\n",
              "                Critical      High       low  Moderate  Schedule SLA\n",
              "Critical        1.000000  0.161794  0.095955  0.164177      0.009863\n",
              "High            0.161794  1.000000 -0.203370 -0.185327     -0.196678\n",
              "low             0.095955 -0.203370  1.000000  0.811323      0.510755\n",
              "Moderate        0.164177 -0.185327  0.811323  1.000000      0.522586\n",
              "Schedule SLA    0.009863 -0.196678  0.510755  0.522586      1.000000\n",
              "\n"
            ]
          },
          "metadata": {
            "tags": []
          },
          "execution_count": 33
        }
      ]
    },
    {
      "cell_type": "code",
      "metadata": {
        "colab": {
          "base_uri": "https://localhost:8080/"
        },
        "id": "eZEeVIRuLnX5",
        "outputId": "b180399c-12ab-4188-8243-f0dce3f15561"
      },
      "source": [
        "#Train the VAR Model of Selected Order(p=4)\r\n",
        "\r\n",
        "model_fitted_4 = model.fit(4)\r\n",
        "model_fitted_4.summary()"
      ],
      "execution_count": null,
      "outputs": [
        {
          "output_type": "execute_result",
          "data": {
            "text/plain": [
              "  Summary of Regression Results   \n",
              "==================================\n",
              "Model:                         VAR\n",
              "Method:                        OLS\n",
              "Date:           Thu, 04, Mar, 2021\n",
              "Time:                     05:34:50\n",
              "--------------------------------------------------------------------\n",
              "No. of Equations:         5.00000    BIC:                    21.2374\n",
              "Nobs:                     307.000    HQIC:                   20.4725\n",
              "Log likelihood:          -5137.35    FPE:                4.67918e+08\n",
              "AIC:                      19.9627    Det(Omega_mle):     3.36119e+08\n",
              "--------------------------------------------------------------------\n",
              "Results for equation Critical\n",
              "==================================================================================\n",
              "                     coefficient       std. error           t-stat            prob\n",
              "----------------------------------------------------------------------------------\n",
              "const                   0.006803         0.028164            0.242           0.809\n",
              "L1.Critical            -0.899240         0.059634          -15.079           0.000\n",
              "L1.High                 0.015568         0.008382            1.857           0.063\n",
              "L1.low                 -0.000129         0.000567           -0.228           0.819\n",
              "L1.Moderate            -0.000396         0.001411           -0.280           0.779\n",
              "L1.Schedule SLA         0.005458         0.004214            1.295           0.195\n",
              "L2.Critical            -0.705924         0.076376           -9.243           0.000\n",
              "L2.High                 0.001106         0.009584            0.115           0.908\n",
              "L2.low                 -0.000558         0.000628           -0.889           0.374\n",
              "L2.Moderate            -0.000215         0.001457           -0.148           0.882\n",
              "L2.Schedule SLA         0.013000         0.005652            2.300           0.021\n",
              "L3.Critical            -0.400438         0.076945           -5.204           0.000\n",
              "L3.High                -0.012498         0.009608           -1.301           0.193\n",
              "L3.low                 -0.000983         0.000619           -1.588           0.112\n",
              "L3.Moderate            -0.001639         0.001464           -1.119           0.263\n",
              "L3.Schedule SLA         0.018484         0.005545            3.334           0.001\n",
              "L4.Critical            -0.113002         0.060480           -1.868           0.062\n",
              "L4.High                -0.012885         0.008471           -1.521           0.128\n",
              "L4.low                  0.000542         0.000576            0.942           0.346\n",
              "L4.Moderate            -0.002293         0.001347           -1.702           0.089\n",
              "L4.Schedule SLA         0.012789         0.004129            3.097           0.002\n",
              "==================================================================================\n",
              "\n",
              "Results for equation High\n",
              "==================================================================================\n",
              "                     coefficient       std. error           t-stat            prob\n",
              "----------------------------------------------------------------------------------\n",
              "const                  -0.010793         0.201421           -0.054           0.957\n",
              "L1.Critical             0.096441         0.426487            0.226           0.821\n",
              "L1.High                -0.635583         0.059944          -10.603           0.000\n",
              "L1.low                  0.004279         0.004053            1.056           0.291\n",
              "L1.Moderate            -0.009615         0.010093           -0.953           0.341\n",
              "L1.Schedule SLA        -0.046977         0.030140           -1.559           0.119\n",
              "L2.Critical            -0.384988         0.546225           -0.705           0.481\n",
              "L2.High                -0.479377         0.068544           -6.994           0.000\n",
              "L2.low                  0.005591         0.004494            1.244           0.213\n",
              "L2.Moderate            -0.003838         0.010421           -0.368           0.713\n",
              "L2.Schedule SLA        -0.032327         0.040423           -0.800           0.424\n",
              "L3.Critical            -0.322702         0.550293           -0.586           0.558\n",
              "L3.High                -0.351394         0.068716           -5.114           0.000\n",
              "L3.low                 -0.001072         0.004425           -0.242           0.809\n",
              "L3.Moderate             0.005158         0.010470            0.493           0.622\n",
              "L3.Schedule SLA        -0.027424         0.039656           -0.692           0.489\n",
              "L4.Critical            -0.688423         0.432542           -1.592           0.111\n",
              "L4.High                -0.201655         0.060584           -3.329           0.001\n",
              "L4.low                  0.001738         0.004116            0.422           0.673\n",
              "L4.Moderate             0.002089         0.009633            0.217           0.828\n",
              "L4.Schedule SLA        -0.021856         0.029531           -0.740           0.459\n",
              "==================================================================================\n",
              "\n",
              "Results for equation low\n",
              "==================================================================================\n",
              "                     coefficient       std. error           t-stat            prob\n",
              "----------------------------------------------------------------------------------\n",
              "const                   0.782113         4.721342            0.166           0.868\n",
              "L1.Critical            -1.740439         9.996927           -0.174           0.862\n",
              "L1.High                 0.276115         1.405088            0.197           0.844\n",
              "L1.low                 -0.519354         0.095001           -5.467           0.000\n",
              "L1.Moderate             0.211964         0.236585            0.896           0.370\n",
              "L1.Schedule SLA         4.241004         0.706497            6.003           0.000\n",
              "L2.Critical             0.177595        12.803610            0.014           0.989\n",
              "L2.High                -0.593219         1.606677           -0.369           0.712\n",
              "L2.low                 -0.571459         0.105337           -5.425           0.000\n",
              "L2.Moderate            -0.540155         0.244269           -2.211           0.027\n",
              "L2.Schedule SLA         5.814855         0.947523            6.137           0.000\n",
              "L3.Critical             3.250422        12.898973            0.252           0.801\n",
              "L3.High                -2.246312         1.610712           -1.395           0.163\n",
              "L3.low                 -0.156990         0.103716           -1.514           0.130\n",
              "L3.Moderate            -0.689448         0.245428           -2.809           0.005\n",
              "L3.Schedule SLA         5.009396         0.929553            5.389           0.000\n",
              "L4.Critical             2.997706        10.138869            0.296           0.767\n",
              "L4.High                -0.872443         1.420096           -0.614           0.539\n",
              "L4.low                 -0.156871         0.096482           -1.626           0.104\n",
              "L4.Moderate            -0.516063         0.225793           -2.286           0.022\n",
              "L4.Schedule SLA         3.992969         0.692207            5.768           0.000\n",
              "==================================================================================\n",
              "\n",
              "Results for equation Moderate\n",
              "==================================================================================\n",
              "                     coefficient       std. error           t-stat            prob\n",
              "----------------------------------------------------------------------------------\n",
              "const                   0.075072         1.929755            0.039           0.969\n",
              "L1.Critical            -2.331723         4.086046           -0.571           0.568\n",
              "L1.High                 0.439587         0.574302            0.765           0.444\n",
              "L1.low                  0.039337         0.038830            1.013           0.311\n",
              "L1.Moderate            -0.431240         0.096699           -4.460           0.000\n",
              "L1.Schedule SLA         1.749456         0.288767            6.058           0.000\n",
              "L2.Critical             3.530922         5.233222            0.675           0.500\n",
              "L2.High                -0.064586         0.656697           -0.098           0.922\n",
              "L2.low                 -0.023934         0.043055           -0.556           0.578\n",
              "L2.Moderate            -0.621561         0.099840           -6.226           0.000\n",
              "L2.Schedule SLA         2.067956         0.387281            5.340           0.000\n",
              "L3.Critical             5.563538         5.272200            1.055           0.291\n",
              "L3.High                -0.801585         0.658347           -1.218           0.223\n",
              "L3.low                  0.119741         0.042392            2.825           0.005\n",
              "L3.Moderate            -0.612998         0.100314           -6.111           0.000\n",
              "L3.Schedule SLA         1.884355         0.379936            4.960           0.000\n",
              "L4.Critical             2.723585         4.144062            0.657           0.511\n",
              "L4.High                 0.419036         0.580436            0.722           0.470\n",
              "L4.low                  0.012503         0.039435            0.317           0.751\n",
              "L4.Moderate            -0.376355         0.092289           -4.078           0.000\n",
              "L4.Schedule SLA         1.445158         0.282926            5.108           0.000\n",
              "==================================================================================\n",
              "\n",
              "Results for equation Schedule SLA\n",
              "==================================================================================\n",
              "                     coefficient       std. error           t-stat            prob\n",
              "----------------------------------------------------------------------------------\n",
              "const                   0.072630         0.434095            0.167           0.867\n",
              "L1.Critical             0.577630         0.919149            0.628           0.530\n",
              "L1.High                 0.067257         0.129188            0.521           0.603\n",
              "L1.low                  0.008527         0.008735            0.976           0.329\n",
              "L1.Moderate             0.028389         0.021752            1.305           0.192\n",
              "L1.Schedule SLA        -0.755479         0.064958          -11.630           0.000\n",
              "L2.Critical            -0.821294         1.177204           -0.698           0.485\n",
              "L2.High                 0.209435         0.147723            1.418           0.156\n",
              "L2.low                 -0.013011         0.009685           -1.343           0.179\n",
              "L2.Moderate            -0.038824         0.022459           -1.729           0.084\n",
              "L2.Schedule SLA        -0.486154         0.087118           -5.580           0.000\n",
              "L3.Critical            -1.023813         1.185972           -0.863           0.388\n",
              "L3.High                -0.155038         0.148094           -1.047           0.295\n",
              "L3.low                  0.012816         0.009536            1.344           0.179\n",
              "L3.Moderate            -0.076147         0.022565           -3.375           0.001\n",
              "L3.Schedule SLA        -0.159049         0.085466           -1.861           0.063\n",
              "L4.Critical            -0.208908         0.932199           -0.224           0.823\n",
              "L4.High                 0.104212         0.130568            0.798           0.425\n",
              "L4.low                  0.000014         0.008871            0.002           0.999\n",
              "L4.Moderate            -0.087608         0.020760           -4.220           0.000\n",
              "L4.Schedule SLA         0.009679         0.063644            0.152           0.879\n",
              "==================================================================================\n",
              "\n",
              "Correlation matrix of residuals\n",
              "                Critical      High       low  Moderate  Schedule SLA\n",
              "Critical        1.000000  0.141973  0.039740  0.125394      0.001487\n",
              "High            0.141973  1.000000 -0.211954 -0.174209     -0.188328\n",
              "low             0.039740 -0.211954  1.000000  0.788237      0.503331\n",
              "Moderate        0.125394 -0.174209  0.788237  1.000000      0.492850\n",
              "Schedule SLA    0.001487 -0.188328  0.503331  0.492850      1.000000\n",
              "\n"
            ]
          },
          "metadata": {
            "tags": []
          },
          "execution_count": 34
        }
      ]
    },
    {
      "cell_type": "code",
      "metadata": {
        "colab": {
          "base_uri": "https://localhost:8080/"
        },
        "id": "hxZbzHIiLnM0",
        "outputId": "340a15c1-8e82-4ff8-9840-62522c3bb7ad"
      },
      "source": [
        "#Train the VAR Model of Selected Order(p=5)\r\n",
        "\r\n",
        "model_fitted_5 = model.fit(5)\r\n",
        "model_fitted_5.summary()"
      ],
      "execution_count": null,
      "outputs": [
        {
          "output_type": "execute_result",
          "data": {
            "text/plain": [
              "  Summary of Regression Results   \n",
              "==================================\n",
              "Model:                         VAR\n",
              "Method:                        OLS\n",
              "Date:           Thu, 04, Mar, 2021\n",
              "Time:                     05:34:51\n",
              "--------------------------------------------------------------------\n",
              "No. of Equations:         5.00000    BIC:                    21.1268\n",
              "Nobs:                     306.000    HQIC:                   20.1776\n",
              "Log likelihood:          -5031.35    FPE:                3.08415e+08\n",
              "AIC:                      19.5449    Det(Omega_mle):     2.05141e+08\n",
              "--------------------------------------------------------------------\n",
              "Results for equation Critical\n",
              "==================================================================================\n",
              "                     coefficient       std. error           t-stat            prob\n",
              "----------------------------------------------------------------------------------\n",
              "const                   0.006272         0.027672            0.227           0.821\n",
              "L1.Critical            -0.932079         0.059848          -15.574           0.000\n",
              "L1.High                 0.012227         0.008439            1.449           0.147\n",
              "L1.low                 -0.000122         0.000582           -0.210           0.834\n",
              "L1.Moderate            -0.000347         0.001420           -0.244           0.807\n",
              "L1.Schedule SLA         0.003743         0.004452            0.841           0.401\n",
              "L2.Critical            -0.804879         0.080380          -10.013           0.000\n",
              "L2.High                 0.002023         0.009925            0.204           0.839\n",
              "L2.low                 -0.000487         0.000657           -0.741           0.459\n",
              "L2.Moderate             0.000007         0.001568            0.004           0.997\n",
              "L2.Schedule SLA         0.009889         0.006195            1.596           0.110\n",
              "L3.Critical            -0.568366         0.087253           -6.514           0.000\n",
              "L3.High                -0.010722         0.010281           -1.043           0.297\n",
              "L3.low                 -0.000894         0.000687           -1.302           0.193\n",
              "L3.Moderate            -0.001707         0.001574           -1.084           0.278\n",
              "L3.Schedule SLA         0.016720         0.006831            2.448           0.014\n",
              "L4.Critical            -0.325168         0.080400           -4.044           0.000\n",
              "L4.High                -0.007981         0.009962           -0.801           0.423\n",
              "L4.low                  0.000891         0.000660            1.350           0.177\n",
              "L4.Moderate            -0.003181         0.001556           -2.045           0.041\n",
              "L4.Schedule SLA         0.014484         0.006061            2.390           0.017\n",
              "L5.Critical            -0.233470         0.060129           -3.883           0.000\n",
              "L5.High                 0.003128         0.008575            0.365           0.715\n",
              "L5.low                  0.000513         0.000577            0.888           0.374\n",
              "L5.Moderate            -0.001237         0.001392           -0.889           0.374\n",
              "L5.Schedule SLA         0.000735         0.004406            0.167           0.868\n",
              "==================================================================================\n",
              "\n",
              "Results for equation High\n",
              "==================================================================================\n",
              "                     coefficient       std. error           t-stat            prob\n",
              "----------------------------------------------------------------------------------\n",
              "const                  -0.016591         0.197546           -0.084           0.933\n",
              "L1.Critical            -0.174260         0.427244           -0.408           0.683\n",
              "L1.High                -0.672775         0.060245          -11.167           0.000\n",
              "L1.low                  0.002735         0.004154            0.658           0.510\n",
              "L1.Moderate            -0.008292         0.010135           -0.818           0.413\n",
              "L1.Schedule SLA        -0.023364         0.031784           -0.735           0.462\n",
              "L2.Critical            -0.652649         0.573819           -1.137           0.255\n",
              "L2.High                -0.536305         0.070853           -7.569           0.000\n",
              "L2.low                  0.006556         0.004694            1.397           0.162\n",
              "L2.Moderate            -0.013179         0.011190           -1.178           0.239\n",
              "L2.Schedule SLA        -0.005080         0.044228           -0.115           0.909\n",
              "L3.Critical            -0.727506         0.622880           -1.168           0.243\n",
              "L3.High                -0.431388         0.073395           -5.878           0.000\n",
              "L3.low                  0.001054         0.004902            0.215           0.830\n",
              "L3.Moderate            -0.002617         0.011235           -0.233           0.816\n",
              "L3.Schedule SLA         0.036371         0.048763            0.746           0.456\n",
              "L4.Critical            -1.085699         0.573960           -1.892           0.059\n",
              "L4.High                -0.295409         0.071117           -4.154           0.000\n",
              "L4.low                  0.004094         0.004715            0.868           0.385\n",
              "L4.Moderate            -0.010388         0.011106           -0.935           0.350\n",
              "L4.Schedule SLA         0.032410         0.043267            0.749           0.454\n",
              "L5.Critical            -0.457056         0.429246           -1.065           0.287\n",
              "L5.High                -0.151589         0.061216           -2.476           0.013\n",
              "L5.low                  0.008425         0.004119            2.045           0.041\n",
              "L5.Moderate            -0.008936         0.009937           -0.899           0.368\n",
              "L5.Schedule SLA         0.030594         0.031452            0.973           0.331\n",
              "==================================================================================\n",
              "\n",
              "Results for equation low\n",
              "==================================================================================\n",
              "                     coefficient       std. error           t-stat            prob\n",
              "----------------------------------------------------------------------------------\n",
              "const                   1.672805         4.019021            0.416           0.677\n",
              "L1.Critical             2.166979         8.692146            0.249           0.803\n",
              "L1.High                 0.358268         1.225674            0.292           0.770\n",
              "L1.low                 -0.512247         0.084519           -6.061           0.000\n",
              "L1.Moderate             0.194828         0.206198            0.945           0.345\n",
              "L1.Schedule SLA         2.172765         0.646628            3.360           0.001\n",
              "L2.Critical            -7.697061        11.674173           -0.659           0.510\n",
              "L2.High                 0.140347         1.441473            0.097           0.922\n",
              "L2.low                 -0.659131         0.095490           -6.903           0.000\n",
              "L2.Moderate            -0.065963         0.227664           -0.290           0.772\n",
              "L2.Schedule SLA         3.068366         0.899811            3.410           0.001\n",
              "L3.Critical            -1.492136        12.672300           -0.118           0.906\n",
              "L3.High                -0.900185         1.493198           -0.603           0.547\n",
              "L3.low                 -0.363663         0.099734           -3.646           0.000\n",
              "L3.Moderate            -0.385731         0.228564           -1.688           0.091\n",
              "L3.Schedule SLA         1.386216         0.992064            1.397           0.162\n",
              "L4.Critical            -0.978954        11.677041           -0.084           0.933\n",
              "L4.High                 0.185894         1.446859            0.128           0.898\n",
              "L4.low                 -0.295858         0.095921           -3.084           0.002\n",
              "L4.Moderate            -0.161582         0.225950           -0.715           0.475\n",
              "L4.Schedule SLA         1.888711         0.880259            2.146           0.032\n",
              "L5.Critical             1.391633         8.732878            0.159           0.873\n",
              "L5.High                 0.883997         1.245430            0.710           0.478\n",
              "L5.low                 -0.386691         0.083800           -4.614           0.000\n",
              "L5.Moderate            -0.368137         0.202165           -1.821           0.069\n",
              "L5.Schedule SLA        -0.612302         0.639881           -0.957           0.339\n",
              "==================================================================================\n",
              "\n",
              "Results for equation Moderate\n",
              "==================================================================================\n",
              "                     coefficient       std. error           t-stat            prob\n",
              "----------------------------------------------------------------------------------\n",
              "const                   0.433779         1.704671            0.254           0.799\n",
              "L1.Critical            -1.008266         3.686780           -0.273           0.784\n",
              "L1.High                 0.587322         0.519870            1.130           0.259\n",
              "L1.low                  0.057227         0.035849            1.596           0.110\n",
              "L1.Moderate            -0.486017         0.087459           -5.557           0.000\n",
              "L1.Schedule SLA         0.960386         0.274268            3.502           0.000\n",
              "L2.Critical             2.733516         4.951609            0.552           0.581\n",
              "L2.High                 0.342947         0.611402            0.561           0.575\n",
              "L2.low                 -0.024900         0.040502           -0.615           0.539\n",
              "L2.Moderate            -0.554246         0.096564           -5.740           0.000\n",
              "L2.Schedule SLA         1.100882         0.381656            2.884           0.004\n",
              "L3.Critical             7.220811         5.374966            1.343           0.179\n",
              "L3.High                -0.233171         0.633341           -0.368           0.713\n",
              "L3.low                  0.077241         0.042302            1.826           0.068\n",
              "L3.Moderate            -0.609921         0.096945           -6.291           0.000\n",
              "L3.Schedule SLA         0.679066         0.420785            1.614           0.107\n",
              "L4.Critical             5.272136         4.952826            1.064           0.287\n",
              "L4.High                 0.860369         0.613686            1.402           0.161\n",
              "L4.low                  0.005653         0.040685            0.139           0.890\n",
              "L4.Moderate            -0.373809         0.095837           -3.900           0.000\n",
              "L4.Schedule SLA         0.789285         0.373363            2.114           0.035\n",
              "L5.Critical             5.240639         3.704057            1.415           0.157\n",
              "L5.High                 0.622201         0.528250            1.178           0.239\n",
              "L5.low                 -0.057973         0.035544           -1.631           0.103\n",
              "L5.Moderate            -0.343256         0.085748           -4.003           0.000\n",
              "L5.Schedule SLA        -0.069753         0.271406           -0.257           0.797\n",
              "==================================================================================\n",
              "\n",
              "Results for equation Schedule SLA\n",
              "==================================================================================\n",
              "                     coefficient       std. error           t-stat            prob\n",
              "----------------------------------------------------------------------------------\n",
              "const                   0.106362         0.392189            0.271           0.786\n",
              "L1.Critical             1.352000         0.848208            1.594           0.111\n",
              "L1.High                 0.103899         0.119605            0.869           0.385\n",
              "L1.low                  0.014199         0.008248            1.722           0.085\n",
              "L1.Moderate             0.028335         0.020121            1.408           0.159\n",
              "L1.Schedule SLA        -0.919365         0.063100          -14.570           0.000\n",
              "L2.Critical            -0.700865         1.139204           -0.615           0.538\n",
              "L2.High                 0.297849         0.140664            2.117           0.034\n",
              "L2.low                 -0.016340         0.009318           -1.754           0.080\n",
              "L2.Moderate             0.004063         0.022216            0.183           0.855\n",
              "L2.Schedule SLA        -0.727957         0.087807           -8.290           0.000\n",
              "L3.Critical            -0.853466         1.236605           -0.690           0.490\n",
              "L3.High                -0.000065         0.145711           -0.000           1.000\n",
              "L3.low                  0.004734         0.009732            0.486           0.627\n",
              "L3.Moderate            -0.043121         0.022304           -1.933           0.053\n",
              "L3.Schedule SLA        -0.540068         0.096809           -5.579           0.000\n",
              "L4.Critical            -0.167416         1.139484           -0.147           0.883\n",
              "L4.High                 0.267372         0.141189            1.894           0.058\n",
              "L4.low                 -0.005941         0.009360           -0.635           0.526\n",
              "L4.Moderate            -0.044204         0.022049           -2.005           0.045\n",
              "L4.Schedule SLA        -0.301931         0.085899           -3.515           0.000\n",
              "L5.Critical             0.223137         0.852183            0.262           0.793\n",
              "L5.High                 0.237717         0.121533            1.956           0.050\n",
              "L5.low                 -0.028485         0.008177           -3.483           0.000\n",
              "L5.Moderate            -0.002047         0.019728           -0.104           0.917\n",
              "L5.Schedule SLA        -0.207777         0.062442           -3.328           0.001\n",
              "==================================================================================\n",
              "\n",
              "Correlation matrix of residuals\n",
              "                Critical      High       low  Moderate  Schedule SLA\n",
              "Critical        1.000000  0.127123  0.049183  0.154720      0.010686\n",
              "High            0.127123  1.000000 -0.146481 -0.113624     -0.110085\n",
              "low             0.049183 -0.146481  1.000000  0.731791      0.370301\n",
              "Moderate        0.154720 -0.113624  0.731791  1.000000      0.393192\n",
              "Schedule SLA    0.010686 -0.110085  0.370301  0.393192      1.000000\n",
              "\n"
            ]
          },
          "metadata": {
            "tags": []
          },
          "execution_count": 35
        }
      ]
    },
    {
      "cell_type": "code",
      "metadata": {
        "colab": {
          "base_uri": "https://localhost:8080/"
        },
        "id": "QOFtF_JzLm-j",
        "outputId": "cc8f8969-7ee4-4413-e431-e20db9bbf0c9"
      },
      "source": [
        "#Train the VAR Model of Selected Order(p=6)\r\n",
        "\r\n",
        "model_fitted_6 = model.fit(6)\r\n",
        "model_fitted_6.summary()"
      ],
      "execution_count": null,
      "outputs": [
        {
          "output_type": "execute_result",
          "data": {
            "text/plain": [
              "  Summary of Regression Results   \n",
              "==================================\n",
              "Model:                         VAR\n",
              "Method:                        OLS\n",
              "Date:           Thu, 04, Mar, 2021\n",
              "Time:                     05:34:52\n",
              "--------------------------------------------------------------------\n",
              "No. of Equations:         5.00000    BIC:                    20.9309\n",
              "Nobs:                     305.000    HQIC:                   19.7965\n",
              "Log likelihood:          -4912.52    FPE:                1.86466e+08\n",
              "AIC:                      19.0402    Det(Omega_mle):     1.14922e+08\n",
              "--------------------------------------------------------------------\n",
              "Results for equation Critical\n",
              "==================================================================================\n",
              "                     coefficient       std. error           t-stat            prob\n",
              "----------------------------------------------------------------------------------\n",
              "const                   0.005594         0.027663            0.202           0.840\n",
              "L1.Critical            -0.957292         0.061629          -15.533           0.000\n",
              "L1.High                 0.011216         0.008541            1.313           0.189\n",
              "L1.low                  0.000006         0.000614            0.010           0.992\n",
              "L1.Moderate            -0.000761         0.001476           -0.515           0.606\n",
              "L1.Schedule SLA         0.004729         0.004628            1.022           0.307\n",
              "L2.Critical            -0.846963         0.083679          -10.122           0.000\n",
              "L2.High                 0.001344         0.010272            0.131           0.896\n",
              "L2.low                 -0.000280         0.000697           -0.401           0.688\n",
              "L2.Moderate            -0.000783         0.001647           -0.475           0.635\n",
              "L2.Schedule SLA         0.009835         0.006545            1.503           0.133\n",
              "L3.Critical            -0.619048         0.095881           -6.456           0.000\n",
              "L3.High                -0.008728         0.010967           -0.796           0.426\n",
              "L3.low                 -0.000537         0.000757           -0.709           0.478\n",
              "L3.Moderate            -0.002746         0.001758           -1.562           0.118\n",
              "L3.Schedule SLA         0.016986         0.007437            2.284           0.022\n",
              "L4.Critical            -0.392395         0.095807           -4.096           0.000\n",
              "L4.High                -0.006003         0.010910           -0.550           0.582\n",
              "L4.low                  0.001231         0.000758            1.624           0.104\n",
              "L4.Moderate            -0.004434         0.001729           -2.566           0.010\n",
              "L4.Schedule SLA         0.016278         0.007440            2.188           0.029\n",
              "L5.Critical            -0.316811         0.083806           -3.780           0.000\n",
              "L5.High                 0.007580         0.010344            0.733           0.464\n",
              "L5.low                  0.001142         0.000689            1.658           0.097\n",
              "L5.Moderate            -0.003068         0.001637           -1.874           0.061\n",
              "L5.Schedule SLA         0.004305         0.006396            0.673           0.501\n",
              "L6.Critical            -0.086406         0.062379           -1.385           0.166\n",
              "L6.High                 0.007431         0.008704            0.854           0.393\n",
              "L6.low                  0.001033         0.000611            1.690           0.091\n",
              "L6.Moderate            -0.002647         0.001444           -1.832           0.067\n",
              "L6.Schedule SLA         0.003069         0.004498            0.682           0.495\n",
              "==================================================================================\n",
              "\n",
              "Results for equation High\n",
              "==================================================================================\n",
              "                     coefficient       std. error           t-stat            prob\n",
              "----------------------------------------------------------------------------------\n",
              "const                  -0.032508         0.184161           -0.177           0.860\n",
              "L1.Critical            -0.121254         0.410288           -0.296           0.768\n",
              "L1.High                -0.718338         0.056863          -12.633           0.000\n",
              "L1.low                  0.007944         0.004086            1.944           0.052\n",
              "L1.Moderate            -0.005904         0.009827           -0.601           0.548\n",
              "L1.Schedule SLA         0.013958         0.030812            0.453           0.651\n",
              "L2.Critical            -0.800308         0.557082           -1.437           0.151\n",
              "L2.High                -0.613139         0.068381           -8.966           0.000\n",
              "L2.low                  0.007418         0.004641            1.598           0.110\n",
              "L2.Moderate            -0.009335         0.010963           -0.851           0.394\n",
              "L2.Schedule SLA         0.049499         0.043574            1.136           0.256\n",
              "L3.Critical            -0.468670         0.638314           -0.734           0.463\n",
              "L3.High                -0.565797         0.073013           -7.749           0.000\n",
              "L3.low                  0.006977         0.005041            1.384           0.166\n",
              "L3.Moderate            -0.010956         0.011705           -0.936           0.349\n",
              "L3.Schedule SLA         0.072569         0.049511            1.466           0.143\n",
              "L4.Critical            -0.823458         0.637817           -1.291           0.197\n",
              "L4.High                -0.438141         0.072634           -6.032           0.000\n",
              "L4.low                  0.009684         0.005046            1.919           0.055\n",
              "L4.Moderate            -0.009282         0.011507           -0.807           0.420\n",
              "L4.Schedule SLA         0.096414         0.049532            1.946           0.052\n",
              "L5.Critical            -0.032799         0.557928           -0.059           0.953\n",
              "L5.High                -0.348079         0.068866           -5.054           0.000\n",
              "L5.low                  0.011884         0.004584            2.592           0.010\n",
              "L5.Moderate            -0.010262         0.010898           -0.942           0.346\n",
              "L5.Schedule SLA         0.039423         0.042580            0.926           0.355\n",
              "L6.Critical             0.391588         0.415281            0.943           0.346\n",
              "L6.High                -0.278294         0.057949           -4.802           0.000\n",
              "L6.low                  0.011087         0.004071            2.724           0.006\n",
              "L6.Moderate             0.006443         0.009616            0.670           0.503\n",
              "L6.Schedule SLA        -0.009628         0.029947           -0.322           0.748\n",
              "==================================================================================\n",
              "\n",
              "Results for equation low\n",
              "==================================================================================\n",
              "                     coefficient       std. error           t-stat            prob\n",
              "----------------------------------------------------------------------------------\n",
              "const                   2.231567         3.302131            0.676           0.499\n",
              "L1.Critical             3.027710         7.356730            0.412           0.681\n",
              "L1.High                 1.124904         1.019599            1.103           0.270\n",
              "L1.low                 -0.743171         0.073269          -10.143           0.000\n",
              "L1.Moderate             0.173385         0.176196            0.984           0.325\n",
              "L1.Schedule SLA         0.824559         0.552483            1.492           0.136\n",
              "L2.Critical            -0.196140         9.988840           -0.020           0.984\n",
              "L2.High                 0.838653         1.226122            0.684           0.494\n",
              "L2.low                 -0.756736         0.083225           -9.093           0.000\n",
              "L2.Moderate            -0.032321         0.196569           -0.164           0.869\n",
              "L2.Schedule SLA         0.925844         0.781317            1.185           0.236\n",
              "L3.Critical            -7.783579        11.445387           -0.680           0.496\n",
              "L3.High                 0.550274         1.309175            0.420           0.674\n",
              "L3.low                 -0.630501         0.090385           -6.976           0.000\n",
              "L3.Moderate            -0.014443         0.209883           -0.069           0.945\n",
              "L3.Schedule SLA        -0.659781         0.887758           -0.743           0.457\n",
              "L4.Critical            -4.824310        11.436485           -0.422           0.673\n",
              "L4.High                 1.330891         1.302376            1.022           0.307\n",
              "L4.low                 -0.532503         0.090471           -5.886           0.000\n",
              "L4.Moderate            -0.089607         0.206333           -0.434           0.664\n",
              "L4.Schedule SLA        -1.064491         0.888148           -1.199           0.231\n",
              "L5.Critical            -2.745128        10.004017           -0.274           0.784\n",
              "L5.High                 2.759427         1.234804            2.235           0.025\n",
              "L5.low                 -0.568802         0.082203           -6.920           0.000\n",
              "L5.Moderate            -0.192575         0.195413           -0.985           0.324\n",
              "L5.Schedule SLA        -2.031453         0.763495           -2.661           0.008\n",
              "L6.Critical            -1.318196         7.446264           -0.177           0.859\n",
              "L6.High                 2.348162         1.039058            2.260           0.024\n",
              "L6.low                 -0.435721         0.072991           -5.970           0.000\n",
              "L6.Moderate            -0.273770         0.172419           -1.588           0.112\n",
              "L6.Schedule SLA        -0.868645         0.536975           -1.618           0.106\n",
              "==================================================================================\n",
              "\n",
              "Results for equation Moderate\n",
              "==================================================================================\n",
              "                     coefficient       std. error           t-stat            prob\n",
              "----------------------------------------------------------------------------------\n",
              "const                   0.610744         1.490885            0.410           0.682\n",
              "L1.Critical            -0.148474         3.321503           -0.045           0.964\n",
              "L1.High                 0.806124         0.460341            1.751           0.080\n",
              "L1.low                 -0.005110         0.033080           -0.154           0.877\n",
              "L1.Moderate            -0.556110         0.079551           -6.991           0.000\n",
              "L1.Schedule SLA         0.531786         0.249441            2.132           0.033\n",
              "L2.Critical             5.997652         4.509880            1.330           0.184\n",
              "L2.High                 0.608645         0.553584            1.099           0.272\n",
              "L2.low                 -0.026277         0.037575           -0.699           0.484\n",
              "L2.Moderate            -0.622615         0.088749           -7.015           0.000\n",
              "L2.Schedule SLA         0.295333         0.352758            0.837           0.402\n",
              "L3.Critical             7.911051         5.167499            1.531           0.126\n",
              "L3.High                 0.289481         0.591082            0.490           0.624\n",
              "L3.low                  0.029711         0.040808            0.728           0.467\n",
              "L3.Moderate            -0.605564         0.094761           -6.390           0.000\n",
              "L3.Schedule SLA        -0.125178         0.400816           -0.312           0.755\n",
              "L4.Critical             7.503697         5.163479            1.453           0.146\n",
              "L4.High                 1.218494         0.588012            2.072           0.038\n",
              "L4.low                 -0.024349         0.040847           -0.596           0.551\n",
              "L4.Moderate            -0.472891         0.093157           -5.076           0.000\n",
              "L4.Schedule SLA        -0.333127         0.400991           -0.831           0.406\n",
              "L5.Critical             7.313970         4.516732            1.619           0.105\n",
              "L5.High                 1.253741         0.557504            2.249           0.025\n",
              "L5.low                 -0.063185         0.037114           -1.702           0.089\n",
              "L5.Moderate            -0.415256         0.088227           -4.707           0.000\n",
              "L5.Schedule SLA        -0.691977         0.344712           -2.007           0.045\n",
              "L6.Critical             3.353094         3.361927            0.997           0.319\n",
              "L6.High                 0.989294         0.469126            2.109           0.035\n",
              "L6.low                 -0.059217         0.032955           -1.797           0.072\n",
              "L6.Moderate            -0.327994         0.077846           -4.213           0.000\n",
              "L6.Schedule SLA        -0.392833         0.242440           -1.620           0.105\n",
              "==================================================================================\n",
              "\n",
              "Results for equation Schedule SLA\n",
              "==================================================================================\n",
              "                     coefficient       std. error           t-stat            prob\n",
              "----------------------------------------------------------------------------------\n",
              "const                   0.115270         0.385983            0.299           0.765\n",
              "L1.Critical             1.230298         0.859922            1.431           0.153\n",
              "L1.High                 0.117070         0.119180            0.982           0.326\n",
              "L1.low                  0.005443         0.008564            0.636           0.525\n",
              "L1.Moderate             0.031637         0.020595            1.536           0.125\n",
              "L1.Schedule SLA        -0.977791         0.064579          -15.141           0.000\n",
              "L2.Critical            -0.524071         1.167587           -0.449           0.654\n",
              "L2.High                 0.282697         0.143320            1.972           0.049\n",
              "L2.low                 -0.018811         0.009728           -1.934           0.053\n",
              "L2.Moderate             0.010225         0.022977            0.445           0.656\n",
              "L2.Schedule SLA        -0.831504         0.091327           -9.105           0.000\n",
              "L3.Critical            -1.260100         1.337841           -0.942           0.346\n",
              "L3.High                -0.001600         0.153028           -0.010           0.992\n",
              "L3.low                 -0.003590         0.010565           -0.340           0.734\n",
              "L3.Moderate            -0.025843         0.024533           -1.053           0.292\n",
              "L3.Schedule SLA        -0.665213         0.103769           -6.410           0.000\n",
              "L4.Critical            -0.694173         1.336801           -0.519           0.604\n",
              "L4.High                 0.246083         0.152234            1.616           0.106\n",
              "L4.low                 -0.011380         0.010575           -1.076           0.282\n",
              "L4.Moderate            -0.037254         0.024118           -1.545           0.122\n",
              "L4.Schedule SLA        -0.472076         0.103815           -4.547           0.000\n",
              "L5.Critical            -0.339527         1.169361           -0.290           0.772\n",
              "L5.High                 0.235094         0.144335            1.629           0.103\n",
              "L5.low                 -0.031931         0.009609           -3.323           0.001\n",
              "L5.Moderate             0.006729         0.022842            0.295           0.768\n",
              "L5.Schedule SLA        -0.335472         0.089244           -3.759           0.000\n",
              "L6.Critical            -0.547037         0.870387           -0.628           0.530\n",
              "L6.High                -0.011643         0.121455           -0.096           0.924\n",
              "L6.low                 -0.011923         0.008532           -1.397           0.162\n",
              "L6.Moderate            -0.010695         0.020154           -0.531           0.596\n",
              "L6.Schedule SLA        -0.114750         0.062767           -1.828           0.068\n",
              "==================================================================================\n",
              "\n",
              "Correlation matrix of residuals\n",
              "                Critical      High       low  Moderate  Schedule SLA\n",
              "Critical        1.000000  0.154658  0.063614  0.165271      0.011091\n",
              "High            0.154658  1.000000  0.056674  0.051962     -0.062861\n",
              "low             0.063614  0.056674  1.000000  0.649127      0.312884\n",
              "Moderate        0.165271  0.051962  0.649127  1.000000      0.347262\n",
              "Schedule SLA    0.011091 -0.062861  0.312884  0.347262      1.000000\n",
              "\n"
            ]
          },
          "metadata": {
            "tags": []
          },
          "execution_count": 36
        }
      ]
    },
    {
      "cell_type": "code",
      "metadata": {
        "colab": {
          "base_uri": "https://localhost:8080/"
        },
        "id": "K47XaBGqLmxh",
        "outputId": "227ffc2f-b9e9-4d3f-c59b-17660eb4dee8"
      },
      "source": [
        "#Train the VAR Model of Selected Order(p=7)\r\n",
        "\r\n",
        "model_fitted_7 = model.fit(7)\r\n",
        "model_fitted_7.summary()"
      ],
      "execution_count": null,
      "outputs": [
        {
          "output_type": "execute_result",
          "data": {
            "text/plain": [
              "  Summary of Regression Results   \n",
              "==================================\n",
              "Model:                         VAR\n",
              "Method:                        OLS\n",
              "Date:           Thu, 04, Mar, 2021\n",
              "Time:                     05:34:54\n",
              "--------------------------------------------------------------------\n",
              "No. of Equations:         5.00000    BIC:                    21.0795\n",
              "Nobs:                     304.000    HQIC:                   19.7591\n",
              "Log likelihood:          -4846.35    FPE:                1.58975e+08\n",
              "AIC:                      18.8787    Det(Omega_mle):     9.08452e+07\n",
              "--------------------------------------------------------------------\n",
              "Results for equation Critical\n",
              "==================================================================================\n",
              "                     coefficient       std. error           t-stat            prob\n",
              "----------------------------------------------------------------------------------\n",
              "const                   0.005723         0.027830            0.206           0.837\n",
              "L1.Critical            -0.966408         0.062758          -15.399           0.000\n",
              "L1.High                 0.013468         0.009288            1.450           0.147\n",
              "L1.low                 -0.000178         0.000680           -0.262           0.793\n",
              "L1.Moderate            -0.000270         0.001535           -0.176           0.861\n",
              "L1.Schedule SLA         0.005059         0.004693            1.078           0.281\n",
              "L2.Critical            -0.869451         0.087330           -9.956           0.000\n",
              "L2.High                 0.003041         0.011014            0.276           0.782\n",
              "L2.low                 -0.000546         0.000801           -0.682           0.496\n",
              "L2.Moderate            -0.000168         0.001769           -0.095           0.924\n",
              "L2.Schedule SLA         0.010713         0.006715            1.595           0.111\n",
              "L3.Critical            -0.656243         0.101212           -6.484           0.000\n",
              "L3.High                -0.007361         0.011844           -0.621           0.534\n",
              "L3.low                 -0.000993         0.000855           -1.161           0.246\n",
              "L3.Moderate            -0.002172         0.001905           -1.140           0.254\n",
              "L3.Schedule SLA         0.019146         0.007741            2.473           0.013\n",
              "L4.Critical            -0.455360         0.106668           -4.269           0.000\n",
              "L4.High                -0.003014         0.012205           -0.247           0.805\n",
              "L4.low                  0.000708         0.000892            0.793           0.428\n",
              "L4.Moderate            -0.003505         0.001983           -1.767           0.077\n",
              "L4.Schedule SLA         0.019808         0.008115            2.441           0.015\n",
              "L5.Critical            -0.382960         0.101178           -3.785           0.000\n",
              "L5.High                 0.010685         0.011793            0.906           0.365\n",
              "L5.low                  0.000503         0.000844            0.596           0.551\n",
              "L5.Moderate            -0.002357         0.001873           -1.258           0.208\n",
              "L5.Schedule SLA         0.009362         0.007838            1.194           0.232\n",
              "L6.Critical            -0.158410         0.087974           -1.801           0.072\n",
              "L6.High                 0.011771         0.011046            1.066           0.287\n",
              "L6.low                  0.000511         0.000780            0.655           0.512\n",
              "L6.Moderate            -0.002149         0.001743           -1.233           0.218\n",
              "L6.Schedule SLA         0.009874         0.006626            1.490           0.136\n",
              "L7.Critical            -0.069359         0.063529           -1.092           0.275\n",
              "L7.High                 0.004094         0.009324            0.439           0.661\n",
              "L7.low                 -0.000656         0.000673           -0.975           0.330\n",
              "L7.Moderate             0.001138         0.001509            0.754           0.451\n",
              "L7.Schedule SLA         0.006406         0.004563            1.404           0.160\n",
              "==================================================================================\n",
              "\n",
              "Results for equation High\n",
              "==================================================================================\n",
              "                     coefficient       std. error           t-stat            prob\n",
              "----------------------------------------------------------------------------------\n",
              "const                  -0.049110         0.182416           -0.269           0.788\n",
              "L1.Critical            -0.072333         0.411351           -0.176           0.860\n",
              "L1.High                -0.764044         0.060879          -12.550           0.000\n",
              "L1.low                  0.008214         0.004455            1.844           0.065\n",
              "L1.Moderate             0.001510         0.010062            0.150           0.881\n",
              "L1.Schedule SLA         0.003979         0.030763            0.129           0.897\n",
              "L2.Critical            -0.844154         0.572413           -1.475           0.140\n",
              "L2.High                -0.666062         0.072195           -9.226           0.000\n",
              "L2.low                  0.007127         0.005250            1.357           0.175\n",
              "L2.Moderate             0.001537         0.011594            0.133           0.895\n",
              "L2.Schedule SLA         0.042541         0.044014            0.967           0.334\n",
              "L3.Critical            -0.726726         0.663402           -1.095           0.273\n",
              "L3.High                -0.635653         0.077632           -8.188           0.000\n",
              "L3.low                  0.003784         0.005607            0.675           0.500\n",
              "L3.Moderate             0.001257         0.012484            0.101           0.920\n",
              "L3.Schedule SLA         0.082454         0.050739            1.625           0.104\n",
              "L4.Critical            -1.278419         0.699168           -1.828           0.067\n",
              "L4.High                -0.517429         0.079998           -6.468           0.000\n",
              "L4.low                  0.006232         0.005850            1.065           0.287\n",
              "L4.Moderate             0.003726         0.013001            0.287           0.774\n",
              "L4.Schedule SLA         0.113539         0.053189            2.135           0.033\n",
              "L5.Critical            -0.593172         0.663179           -0.894           0.371\n",
              "L5.High                -0.429314         0.077301           -5.554           0.000\n",
              "L5.low                  0.008009         0.005534            1.447           0.148\n",
              "L5.Moderate             0.002634         0.012279            0.215           0.830\n",
              "L5.Schedule SLA         0.076264         0.051377            1.484           0.138\n",
              "L6.Critical            -0.103296         0.576631           -0.179           0.858\n",
              "L6.High                -0.367614         0.072400           -5.078           0.000\n",
              "L6.low                  0.007306         0.005115            1.428           0.153\n",
              "L6.Moderate             0.018011         0.011427            1.576           0.115\n",
              "L6.Schedule SLA         0.025513         0.043430            0.587           0.557\n",
              "L7.Critical            -0.496651         0.416406           -1.193           0.233\n",
              "L7.High                -0.129979         0.061117           -2.127           0.033\n",
              "L7.low                 -0.004405         0.004411           -0.999           0.318\n",
              "L7.Moderate             0.020607         0.009892            2.083           0.037\n",
              "L7.Schedule SLA         0.021939         0.029905            0.734           0.463\n",
              "==================================================================================\n",
              "\n",
              "Results for equation low\n",
              "==================================================================================\n",
              "                     coefficient       std. error           t-stat            prob\n",
              "----------------------------------------------------------------------------------\n",
              "const                   1.039778         3.012449            0.345           0.730\n",
              "L1.Critical             6.871158         6.793138            1.011           0.312\n",
              "L1.High                -1.194537         1.005372           -1.188           0.235\n",
              "L1.low                 -0.597646         0.073576           -8.123           0.000\n",
              "L1.Moderate             0.331905         0.166171            1.997           0.046\n",
              "L1.Schedule SLA         0.508473         0.508029            1.001           0.317\n",
              "L2.Critical             6.185149         9.452942            0.654           0.513\n",
              "L2.High                -1.221925         1.192246           -1.025           0.305\n",
              "L2.low                 -0.555209         0.086697           -6.404           0.000\n",
              "L2.Moderate             0.156105         0.191460            0.815           0.415\n",
              "L2.Schedule SLA         0.627306         0.726857            0.863           0.388\n",
              "L3.Critical            -2.571620        10.955567           -0.235           0.814\n",
              "L3.High                -1.359861         1.282039           -1.061           0.289\n",
              "L3.low                 -0.489185         0.092598           -5.283           0.000\n",
              "L3.Moderate             0.190786         0.206163            0.925           0.355\n",
              "L3.Schedule SLA        -0.388607         0.837915           -0.464           0.643\n",
              "L4.Critical             7.774176        11.546204            0.673           0.501\n",
              "L4.High                -1.058099         1.321103           -0.801           0.423\n",
              "L4.low                 -0.383522         0.096606           -3.970           0.000\n",
              "L4.Moderate             0.041076         0.214693            0.191           0.848\n",
              "L4.Schedule SLA        -0.464894         0.878369           -0.529           0.597\n",
              "L5.Critical             8.231537        10.951877            0.752           0.452\n",
              "L5.High                 0.427302         1.276565            0.335           0.738\n",
              "L5.low                 -0.409667         0.091393           -4.482           0.000\n",
              "L5.Moderate             0.054227         0.202782            0.267           0.789\n",
              "L5.Schedule SLA        -1.207050         0.848454           -1.423           0.155\n",
              "L6.Critical            12.448515         9.522602            1.307           0.191\n",
              "L6.High                -0.392453         1.195623           -0.328           0.743\n",
              "L6.low                 -0.328681         0.084478           -3.891           0.000\n",
              "L6.Moderate             0.030828         0.188715            0.163           0.870\n",
              "L6.Schedule SLA        -0.893545         0.717212           -1.246           0.213\n",
              "L7.Critical            12.009324         6.876622            1.746           0.081\n",
              "L7.High                -2.713106         1.009300           -2.688           0.007\n",
              "L7.low                  0.126328         0.072836            1.734           0.083\n",
              "L7.Moderate             0.676962         0.163356            4.144           0.000\n",
              "L7.Schedule SLA        -0.465987         0.493865           -0.944           0.345\n",
              "==================================================================================\n",
              "\n",
              "Results for equation Moderate\n",
              "==================================================================================\n",
              "                     coefficient       std. error           t-stat            prob\n",
              "----------------------------------------------------------------------------------\n",
              "const                   0.144939         1.400701            0.103           0.918\n",
              "L1.Critical             1.053488         3.158611            0.334           0.739\n",
              "L1.High                -0.078548         0.467469           -0.168           0.867\n",
              "L1.low                  0.058168         0.034211            1.700           0.089\n",
              "L1.Moderate            -0.494726         0.077265           -6.403           0.000\n",
              "L1.Schedule SLA         0.428968         0.236219            1.816           0.069\n",
              "L2.Critical             8.129967         4.395342            1.850           0.064\n",
              "L2.High                -0.183278         0.554360           -0.331           0.741\n",
              "L2.low                  0.061656         0.040312            1.529           0.126\n",
              "L2.Moderate            -0.560756         0.089023           -6.299           0.000\n",
              "L2.Schedule SLA         0.237373         0.337967            0.702           0.482\n",
              "L3.Critical             9.339599         5.094019            1.833           0.067\n",
              "L3.High                -0.403382         0.596111           -0.677           0.499\n",
              "L3.low                  0.091385         0.043055            2.122           0.034\n",
              "L3.Moderate            -0.540135         0.095860           -5.635           0.000\n",
              "L3.Schedule SLA         0.062582         0.389606            0.161           0.872\n",
              "L4.Critical            12.127417         5.368648            2.259           0.024\n",
              "L4.High                 0.380786         0.614274            0.620           0.535\n",
              "L4.low                  0.042454         0.044919            0.945           0.345\n",
              "L4.Moderate            -0.441503         0.099826           -4.423           0.000\n",
              "L4.Schedule SLA         0.029643         0.408416            0.073           0.942\n",
              "L5.Critical            11.444478         5.092303            2.247           0.025\n",
              "L5.High                 0.447995         0.593566            0.755           0.450\n",
              "L5.low                  0.004076         0.042495            0.096           0.924\n",
              "L5.Moderate            -0.336812         0.094287           -3.572           0.000\n",
              "L5.Schedule SLA        -0.199325         0.394506           -0.505           0.613\n",
              "L6.Critical             8.437171         4.427732            1.906           0.057\n",
              "L6.High                 0.041919         0.555930            0.075           0.940\n",
              "L6.low                 -0.009921         0.039280           -0.253           0.801\n",
              "L6.Moderate            -0.230657         0.087747           -2.629           0.009\n",
              "L6.Schedule SLA        -0.213007         0.333483           -0.639           0.523\n",
              "L7.Critical             4.515653         3.197428            1.412           0.158\n",
              "L7.High                -0.872542         0.469295           -1.859           0.063\n",
              "L7.low                  0.061239         0.033867            1.808           0.071\n",
              "L7.Moderate             0.247807         0.075956            3.263           0.001\n",
              "L7.Schedule SLA        -0.005403         0.229633           -0.024           0.981\n",
              "==================================================================================\n",
              "\n",
              "Results for equation Schedule SLA\n",
              "==================================================================================\n",
              "                     coefficient       std. error           t-stat            prob\n",
              "----------------------------------------------------------------------------------\n",
              "const                   0.008740         0.374371            0.023           0.981\n",
              "L1.Critical             1.478947         0.844215            1.752           0.080\n",
              "L1.High                 0.003782         0.124942            0.030           0.976\n",
              "L1.low                  0.009873         0.009144            1.080           0.280\n",
              "L1.Moderate             0.036263         0.020651            1.756           0.079\n",
              "L1.Schedule SLA        -1.003433         0.063135          -15.893           0.000\n",
              "L2.Critical            -0.155503         1.174762           -0.132           0.895\n",
              "L2.High                 0.187965         0.148166            1.269           0.205\n",
              "L2.low                 -0.011401         0.010774           -1.058           0.290\n",
              "L2.Moderate             0.023006         0.023794            0.967           0.334\n",
              "L2.Schedule SLA        -0.873105         0.090330           -9.666           0.000\n",
              "L3.Critical            -0.723284         1.361500           -0.531           0.595\n",
              "L3.High                -0.118144         0.159325           -0.742           0.458\n",
              "L3.low                  0.002093         0.011508            0.182           0.856\n",
              "L3.Moderate            -0.015992         0.025621           -0.624           0.533\n",
              "L3.Schedule SLA        -0.690817         0.104132           -6.634           0.000\n",
              "L4.Critical             0.249464         1.434902            0.174           0.862\n",
              "L4.High                 0.087582         0.164180            0.533           0.594\n",
              "L4.low                 -0.006125         0.012006           -0.510           0.610\n",
              "L4.Moderate            -0.028847         0.026681           -1.081           0.280\n",
              "L4.Schedule SLA        -0.495084         0.109159           -4.535           0.000\n",
              "L5.Critical             0.497839         1.361042            0.366           0.715\n",
              "L5.High                 0.065943         0.158645            0.416           0.678\n",
              "L5.low                 -0.023717         0.011358           -2.088           0.037\n",
              "L5.Moderate             0.019321         0.025201            0.767           0.443\n",
              "L5.Schedule SLA        -0.365219         0.105441           -3.464           0.001\n",
              "L6.Critical             0.437305         1.183419            0.370           0.712\n",
              "L6.High                -0.190284         0.148586           -1.281           0.200\n",
              "L6.low                 -0.006608         0.010498           -0.629           0.529\n",
              "L6.Moderate             0.005555         0.023452            0.237           0.813\n",
              "L6.Schedule SLA        -0.204130         0.089131           -2.290           0.022\n",
              "L7.Critical             0.777101         0.854591            0.909           0.363\n",
              "L7.High                -0.166107         0.125431           -1.324           0.185\n",
              "L7.low                  0.006373         0.009052            0.704           0.481\n",
              "L7.Moderate             0.031602         0.020301            1.557           0.120\n",
              "L7.Schedule SLA        -0.105482         0.061375           -1.719           0.086\n",
              "==================================================================================\n",
              "\n",
              "Correlation matrix of residuals\n",
              "                Critical      High       low  Moderate  Schedule SLA\n",
              "Critical        1.000000  0.147965  0.081233  0.184424      0.023771\n",
              "High            0.147965  1.000000  0.005748  0.011199     -0.098008\n",
              "low             0.081233  0.005748  1.000000  0.584512      0.246589\n",
              "Moderate        0.184424  0.011199  0.584512  1.000000      0.303149\n",
              "Schedule SLA    0.023771 -0.098008  0.246589  0.303149      1.000000\n",
              "\n"
            ]
          },
          "metadata": {
            "tags": []
          },
          "execution_count": 37
        }
      ]
    },
    {
      "cell_type": "markdown",
      "metadata": {
        "id": "fs5h6LQkQGM4"
      },
      "source": [
        "Check for Serial Correlation of Residuals (Errors) using Durbin Watson Statistic. Serial correlation of residuals is used to check if there is any leftover pattern in the residuals (errors).\r\n",
        "\r\n",
        "If there is any correlation left in the residuals, then, there is some pattern in the time series that is still left to be explained by the model. In that case, the typical course of action is to either increase the order of the model or induce more predictors into the system or look for a different algorithm to model the time series.\r\n",
        "\r\n",
        "So, checking for serial correlation is to ensure that the model is sufficiently able to explain the variances and patterns in the time series.\r\n",
        "\r\n",
        "A common way of checking for serial correlation of errors can be measured using the Durbin Watson’s Statistic.\r\n",
        "\r\n",
        "The value of this statistic can vary between 0 and 4. The closer it is to the value 2, then there is no significant serial correlation. The closer to 0, there is a positive serial correlation, and the closer it is to 4 implies negative serial correlation."
      ]
    },
    {
      "cell_type": "code",
      "metadata": {
        "id": "rBMLh2LnP-08"
      },
      "source": [
        "from statsmodels.stats.stattools import durbin_watson\r\n",
        "out_1 = durbin_watson(model_fitted.resid)\r\n",
        "\r\n",
        "for col, val in zip(final_df.columns, out_1):\r\n",
        "    print('result for lag 1')\r\n",
        "    print((col), ':', round(val, 2))\r\n",
        "print('******************************')\r\n",
        "\r\n",
        "\r\n",
        "\r\n",
        "out_2 = durbin_watson(model_fitted_2.resid)\r\n",
        "\r\n",
        "for col, val in zip(final_df.columns, out_2):\r\n",
        "    print('result for lag 2')\r\n",
        "    print((col), ':', round(val, 2))\r\n",
        "print('******************************')\r\n",
        "\r\n",
        "\r\n",
        "\r\n",
        "out_3 = durbin_watson(model_fitted_3.resid)\r\n",
        "\r\n",
        "for col, val in zip(final_df.columns, out_3):\r\n",
        "    print('result for lag 3')\r\n",
        "    print((col), ':', round(val, 2))\r\n",
        "print('******************************')\r\n",
        "\r\n",
        "\r\n",
        "\r\n",
        "out_4 = durbin_watson(model_fitted_4.resid)\r\n",
        "\r\n",
        "for col, val in zip(final_df.columns, out_4):\r\n",
        "    print('result for lag 4')\r\n",
        "    print((col), ':', round(val, 2))\r\n",
        "print('******************************')\r\n",
        "\r\n",
        "\r\n",
        "out_5 = durbin_watson(model_fitted_5.resid)\r\n",
        "\r\n",
        "for col, val in zip(final_df.columns, out_5):\r\n",
        "    print('result for lag 5')\r\n",
        "    print((col), ':', round(val, 2))\r\n",
        "print('******************************')\r\n",
        "\r\n",
        "\r\n",
        "\r\n",
        "out_6 = durbin_watson(model_fitted_6.resid)\r\n",
        "\r\n",
        "for col, val in zip(final_df.columns, out_6):\r\n",
        "    print('result for lag 6')\r\n",
        "    print((col), ':', round(val, 2))\r\n",
        "print('******************************')\r\n",
        "\r\n",
        "\r\n",
        "\r\n",
        "out_7 = durbin_watson(model_fitted_7.resid)\r\n",
        "\r\n",
        "for col, val in zip(final_df.columns, out_7):\r\n",
        "    print('result for lag 7')\r\n",
        "    print((col), ':', round(val, 2))\r\n",
        "print('******************************')\r\n",
        "\r\n",
        "\r\n"
      ],
      "execution_count": null,
      "outputs": []
    },
    {
      "cell_type": "code",
      "metadata": {
        "colab": {
          "base_uri": "https://localhost:8080/"
        },
        "id": "IS8-EttE_Igv",
        "outputId": "878e472b-f9d8-4665-ed47-43b197778c5a"
      },
      "source": [
        "from statsmodels.stats.stattools import durbin_watson\r\n",
        "out_7 = durbin_watson(model_fitted.resid)\r\n",
        "\r\n",
        "for col, val in zip(final_df.columns, out_7):\r\n",
        "    print('result for lag 7')\r\n",
        "    print((col), ':', round(val, 2))\r\n",
        "print('******************************')"
      ],
      "execution_count": null,
      "outputs": [
        {
          "output_type": "stream",
          "text": [
            "result for lag 7\n",
            "Critical : 1.96\n",
            "result for lag 7\n",
            "High : 2.06\n",
            "result for lag 7\n",
            "low : 2.09\n",
            "result for lag 7\n",
            "Moderate : 2.07\n",
            "result for lag 7\n",
            "Schedule SLA : 2.06\n",
            "******************************\n"
          ],
          "name": "stdout"
        }
      ]
    },
    {
      "cell_type": "markdown",
      "metadata": {
        "id": "rrB6EemRQTd9"
      },
      "source": [
        "The serial correlation seems quite alright. Let’s proceed with the forecast."
      ]
    },
    {
      "cell_type": "code",
      "metadata": {
        "colab": {
          "base_uri": "https://localhost:8080/"
        },
        "id": "MFutR4ykQM5I",
        "outputId": "2984e9ed-53e3-4356-e9b9-979c1fb300ef"
      },
      "source": [
        "# Get the lag order\r\n",
        "lag_order_1 = model_fitted_1.k_ar\r\n",
        "print(lag_order_1)  #> 7\r\n",
        "\r\n",
        "# Input data for forecasting\r\n",
        "forecast_input_1 = df_differenced.values[-lag_order_1:]\r\n",
        "forecast_input_1"
      ],
      "execution_count": null,
      "outputs": [
        {
          "output_type": "stream",
          "text": [
            "1\n"
          ],
          "name": "stdout"
        },
        {
          "output_type": "execute_result",
          "data": {
            "text/plain": [
              "array([[  0.,  -1., 100.,  -9.,   2.]])"
            ]
          },
          "metadata": {
            "tags": []
          },
          "execution_count": 39
        }
      ]
    },
    {
      "cell_type": "code",
      "metadata": {
        "colab": {
          "base_uri": "https://localhost:8080/"
        },
        "id": "d3c9yh-Qemrj",
        "outputId": "183dda48-58b8-48f1-81e9-189295d54d7e"
      },
      "source": [
        "# Get the lag order\r\n",
        "lag_order_2 = model_fitted_2.k_ar\r\n",
        "print(lag_order_2)  #> 7\r\n",
        "\r\n",
        "# Input data for forecasting\r\n",
        "forecast_input_2 = df_differenced.values[-lag_order_2:]\r\n",
        "forecast_input_2"
      ],
      "execution_count": null,
      "outputs": [
        {
          "output_type": "stream",
          "text": [
            "2\n"
          ],
          "name": "stdout"
        },
        {
          "output_type": "execute_result",
          "data": {
            "text/plain": [
              "array([[   1.,    1., -192.,  -71.,   -8.],\n",
              "       [   0.,   -1.,  100.,   -9.,    2.]])"
            ]
          },
          "metadata": {
            "tags": []
          },
          "execution_count": 40
        }
      ]
    },
    {
      "cell_type": "code",
      "metadata": {
        "colab": {
          "base_uri": "https://localhost:8080/"
        },
        "id": "qOj9Ly9vPxh3",
        "outputId": "51db1e7b-ccd4-4613-8df7-e714b817ec01"
      },
      "source": [
        "# Get the lag order\r\n",
        "lag_order_3 = model_fitted_3.k_ar\r\n",
        "print(lag_order_3)  #> 7\r\n",
        "\r\n",
        "# Input data for forecasting\r\n",
        "forecast_input_3 = df_differenced.values[-lag_order_3:]\r\n",
        "forecast_input_3"
      ],
      "execution_count": null,
      "outputs": [
        {
          "output_type": "stream",
          "text": [
            "3\n"
          ],
          "name": "stdout"
        },
        {
          "output_type": "execute_result",
          "data": {
            "text/plain": [
              "array([[   0.,   -1.,  -33.,   16.,   -4.],\n",
              "       [   1.,    1., -192.,  -71.,   -8.],\n",
              "       [   0.,   -1.,  100.,   -9.,    2.]])"
            ]
          },
          "metadata": {
            "tags": []
          },
          "execution_count": 41
        }
      ]
    },
    {
      "cell_type": "code",
      "metadata": {
        "colab": {
          "base_uri": "https://localhost:8080/"
        },
        "id": "Qm1esjtMPxV4",
        "outputId": "4c08068d-c9fe-4146-f787-0d30451cdc80"
      },
      "source": [
        "# Get the lag order\r\n",
        "lag_order_4 = model_fitted_4.k_ar\r\n",
        "print(lag_order_4)  #> 7\r\n",
        "\r\n",
        "# Input data for forecasting\r\n",
        "forecast_input_4 = df_differenced.values[-lag_order_4:]\r\n",
        "forecast_input_4"
      ],
      "execution_count": null,
      "outputs": [
        {
          "output_type": "stream",
          "text": [
            "4\n"
          ],
          "name": "stdout"
        },
        {
          "output_type": "execute_result",
          "data": {
            "text/plain": [
              "array([[   0.,    3.,  -22.,    3.,   -1.],\n",
              "       [   0.,   -1.,  -33.,   16.,   -4.],\n",
              "       [   1.,    1., -192.,  -71.,   -8.],\n",
              "       [   0.,   -1.,  100.,   -9.,    2.]])"
            ]
          },
          "metadata": {
            "tags": []
          },
          "execution_count": 42
        }
      ]
    },
    {
      "cell_type": "code",
      "metadata": {
        "colab": {
          "base_uri": "https://localhost:8080/"
        },
        "id": "qsefUc-DPwYR",
        "outputId": "17bbe2f6-7063-4496-8f18-d8f0fac6dfc1"
      },
      "source": [
        "# Get the lag order\r\n",
        "lag_order_5 = model_fitted_5.k_ar\r\n",
        "print(lag_order_5)  #> 7\r\n",
        "\r\n",
        "# Input data for forecasting\r\n",
        "forecast_input_5 = df_differenced.values[-lag_order_5:]\r\n",
        "forecast_input_5"
      ],
      "execution_count": null,
      "outputs": [
        {
          "output_type": "stream",
          "text": [
            "5\n"
          ],
          "name": "stdout"
        },
        {
          "output_type": "execute_result",
          "data": {
            "text/plain": [
              "array([[   0.,   -3.,  117.,    8.,    6.],\n",
              "       [   0.,    3.,  -22.,    3.,   -1.],\n",
              "       [   0.,   -1.,  -33.,   16.,   -4.],\n",
              "       [   1.,    1., -192.,  -71.,   -8.],\n",
              "       [   0.,   -1.,  100.,   -9.,    2.]])"
            ]
          },
          "metadata": {
            "tags": []
          },
          "execution_count": 43
        }
      ]
    },
    {
      "cell_type": "code",
      "metadata": {
        "colab": {
          "base_uri": "https://localhost:8080/"
        },
        "id": "LYw1ld3_PwQ6",
        "outputId": "7bc8cfdf-bc97-4a95-feab-64459e2295f9"
      },
      "source": [
        "# Get the lag order\r\n",
        "lag_order_6 = model_fitted_6.k_ar\r\n",
        "print(lag_order_6)  #> 7\r\n",
        "\r\n",
        "# Input data for forecasting\r\n",
        "forecast_input_6 = df_differenced.values[-lag_order_6:]\r\n",
        "forecast_input_6"
      ],
      "execution_count": null,
      "outputs": [
        {
          "output_type": "stream",
          "text": [
            "6\n"
          ],
          "name": "stdout"
        },
        {
          "output_type": "execute_result",
          "data": {
            "text/plain": [
              "array([[   0.,    1.,    3.,   -5.,   -3.],\n",
              "       [   0.,   -3.,  117.,    8.,    6.],\n",
              "       [   0.,    3.,  -22.,    3.,   -1.],\n",
              "       [   0.,   -1.,  -33.,   16.,   -4.],\n",
              "       [   1.,    1., -192.,  -71.,   -8.],\n",
              "       [   0.,   -1.,  100.,   -9.,    2.]])"
            ]
          },
          "metadata": {
            "tags": []
          },
          "execution_count": 44
        }
      ]
    },
    {
      "cell_type": "code",
      "metadata": {
        "colab": {
          "base_uri": "https://localhost:8080/"
        },
        "id": "xrm28cahPwMm",
        "outputId": "5bf3db2f-81a0-4a4e-8c95-730e21006d6a"
      },
      "source": [
        "# Get the lag order\r\n",
        "lag_order_7 = model_fitted.k_ar\r\n",
        "print(lag_order_7)  #> 7\r\n",
        "\r\n",
        "# Input data for forecasting\r\n",
        "forecast_input_7 = df_differenced.values[-lag_order_7:]\r\n",
        "forecast_input_7"
      ],
      "execution_count": null,
      "outputs": [
        {
          "output_type": "stream",
          "text": [
            "7\n"
          ],
          "name": "stdout"
        },
        {
          "output_type": "execute_result",
          "data": {
            "text/plain": [
              "array([[   0.,   -5.,  118.,   52.,   10.],\n",
              "       [   0.,    1.,    3.,   -5.,   -3.],\n",
              "       [   0.,   -3.,  117.,    8.,    6.],\n",
              "       [   0.,    3.,  -22.,    3.,   -1.],\n",
              "       [   0.,   -1.,  -33.,   16.,   -4.],\n",
              "       [   1.,    1., -192.,  -71.,   -8.],\n",
              "       [   0.,   -1.,  100.,   -9.,    2.]])"
            ]
          },
          "metadata": {
            "tags": []
          },
          "execution_count": 32
        }
      ]
    },
    {
      "cell_type": "code",
      "metadata": {
        "id": "gTOw2boYQSmy"
      },
      "source": [
        "# Let Forecast\r\n",
        "print('*********forecast at lag 1*************')\r\n",
        "fc_1 = model_fitted_1.forecast(y=forecast_input_1, steps=nobs)\r\n",
        "df_forecast_1 = pd.DataFrame(fc_1, index=final_df.index[-nobs:], columns=final_df.columns + '_1d')\r\n",
        "print(df_forecast_1)\r\n",
        "\r\n",
        "print('*********forecast at lag 2*************')\r\n",
        "fc_2 = model_fitted_2.forecast(y=forecast_input_2, steps=nobs)\r\n",
        "df_forecast_2 = pd.DataFrame(fc_2, index=final_df.index[-nobs:], columns=final_df.columns + '_1d')\r\n",
        "print(df_forecast_2)\r\n",
        "\r\n",
        "\r\n",
        "print('*********forecast at lag 3*************')\r\n",
        "fc_3 = model_fitted_3.forecast(y=forecast_input_3, steps=nobs)\r\n",
        "df_forecast_3 = pd.DataFrame(fc_3, index=final_df.index[-nobs:], columns=final_df.columns + '_1d')\r\n",
        "print(df_forecast_3)\r\n",
        "\r\n",
        "\r\n",
        "print('*********forecast at lag 4*************')\r\n",
        "fc_4 = model_fitted_4.forecast(y=forecast_input_4, steps=nobs)\r\n",
        "df_forecast_4 = pd.DataFrame(fc_4, index=final_df.index[-nobs:], columns=final_df.columns + '_1d')\r\n",
        "print(df_forecast_4)\r\n",
        "\r\n",
        "\r\n",
        "print('*********forecast at lag 5*************')\r\n",
        "fc_5 = model_fitted_5.forecast(y=forecast_input_5, steps=nobs)\r\n",
        "df_forecast_5 = pd.DataFrame(fc_5, index=final_df.index[-nobs:], columns=final_df.columns + '_1d')\r\n",
        "print(df_forecast_5)\r\n",
        "\r\n",
        "print('*********forecast at lag 6*************')\r\n",
        "fc_6 = model_fitted_6.forecast(y=forecast_input_6, steps=nobs)\r\n",
        "df_forecast_6 = pd.DataFrame(fc_6, index=final_df.index[-nobs:], columns=final_df.columns + '_1d')\r\n",
        "print(df_forecast_6)\r\n",
        "\r\n",
        "print('*********forecast at lag 7*************')\r\n",
        "fc_7 = model_fitted_7.forecast(y=forecast_input_7, steps=nobs)\r\n",
        "df_forecast_7 = pd.DataFrame(fc_7, index=final_df.index[-nobs:], columns=final_df.columns + '_1d')\r\n",
        "print(df_forecast_7)\r\n"
      ],
      "execution_count": null,
      "outputs": []
    },
    {
      "cell_type": "code",
      "metadata": {
        "colab": {
          "base_uri": "https://localhost:8080/"
        },
        "id": "vDO2dOHA_lVK",
        "outputId": "20400081-8a3c-4fe9-8d8d-03c3504c0788"
      },
      "source": [
        "fc_7 = model_fitted.forecast(y=forecast_input_7, steps=nobs)\r\n",
        "df_forecast = pd.DataFrame(fc_7, index=final_df.index[-nobs:], columns=final_df.columns + '_1d')\r\n",
        "print(df_forecast)"
      ],
      "execution_count": null,
      "outputs": [
        {
          "output_type": "stream",
          "text": [
            "            Critical_1d   High_1d      low_1d  Moderate_1d  Schedule SLA_1d\n",
            "date                                                                       \n",
            "2018-01-19    -0.890619  0.224430   68.063209    54.191309         7.130373\n",
            "2018-01-18     0.264828 -0.547283  -18.126362     5.664009        -2.283049\n",
            "2018-01-17    -0.136403 -2.484962   66.894380    20.268544         6.899029\n",
            "2018-01-16     0.097982  1.844683   22.819627     2.170706        -2.463433\n",
            "2018-01-15     0.178796  2.170528  -18.506379    -6.766703        -7.924440\n",
            "2018-01-14    -0.035247  0.186632 -162.609564   -60.449091         0.074058\n",
            "2018-01-13    -0.190125 -1.327560   23.929064    -1.358796        -0.055289\n"
          ],
          "name": "stdout"
        }
      ]
    },
    {
      "cell_type": "markdown",
      "metadata": {
        "id": "wMJz5RbrRRpK"
      },
      "source": [
        "The forecasts are generated but it is on the scale of the training data used by the model. So, to bring it back up to its original scale, you need to de-difference it as many times you had differenced the original input data"
      ]
    },
    {
      "cell_type": "code",
      "metadata": {
        "id": "duLOoLhbQlZF"
      },
      "source": [
        "def invert_transformation(df_train, df_forecast, first_diff=True):\r\n",
        "    \"\"\"Revert back the differencing to get the forecast to original scale.\"\"\"\r\n",
        "    df_fc = df_forecast.copy()\r\n",
        "    columns = df_train.columns\r\n",
        "    for col in columns:\r\n",
        "        # Roll back 1st Diff\r\n",
        "        df_fc[str(col)+'_forecast'] = df_train[col].iloc[-1] + df_fc[str(col)+'_1d'].cumsum()\r\n",
        "    return df_fc"
      ],
      "execution_count": null,
      "outputs": []
    },
    {
      "cell_type": "code",
      "metadata": {
        "id": "BAkdtYBtRXMN"
      },
      "source": [
        "print(\"********forecasted with lag 1***********\")\r\n",
        "df_results_1 = invert_transformation(df_train, df_forecast_1, first_diff=True)        \r\n",
        "result_lag1 = df_results_1.loc[:,['Critical_forecast','High_forecast','low_forecast','Moderate_forecast','Schedule SLA_forecast']]\r\n",
        "print(result_lag1)\r\n",
        "\r\n",
        "\r\n",
        "print(\"********forecasted with lag 2***********\")\r\n",
        "df_results_2 = invert_transformation(df_train, df_forecast_2, first_diff=True)        \r\n",
        "result_lag2 = df_results_2.loc[:,['Critical_forecast','High_forecast','low_forecast','Moderate_forecast','Schedule SLA_forecast']]\r\n",
        "print(result_lag2)\r\n",
        "\r\n",
        "print(\"********forecasted with lag 3***********\")\r\n",
        "df_results_3 = invert_transformation(df_train, df_forecast_3, first_diff=True)        \r\n",
        "result_lag3 = df_results_3.loc[:,['Critical_forecast','High_forecast','low_forecast','Moderate_forecast','Schedule SLA_forecast']]\r\n",
        "print(result_lag3)\r\n",
        "\r\n",
        "print(\"********forecasted with lag 4***********\")\r\n",
        "df_results_4 = invert_transformation(df_train, df_forecast_4, first_diff=True)        \r\n",
        "result_lag4 = df_results_4.loc[:,['Critical_forecast','High_forecast','low_forecast','Moderate_forecast','Schedule SLA_forecast']]\r\n",
        "print(result_lag4)\r\n",
        "\r\n",
        "print(\"********forecasted with lag 5***********\")\r\n",
        "df_results_5 = invert_transformation(df_train, df_forecast_5, first_diff=True)        \r\n",
        "result_lag5 = df_results_5.loc[:,['Critical_forecast','High_forecast','low_forecast','Moderate_forecast','Schedule SLA_forecast']]\r\n",
        "print(result_lag5)\r\n",
        "\r\n",
        "\r\n",
        "print(\"********forecasted with lag 6***********\")\r\n",
        "df_results_6 = invert_transformation(df_train, df_forecast_6, first_diff=True)        \r\n",
        "result_lag6 = df_results_6.loc[:,['Critical_forecast','High_forecast','low_forecast','Moderate_forecast','Schedule SLA_forecast']]\r\n",
        "print(result_lag6)\r\n",
        "\r\n",
        "print(\"********forecasted with lag 7***********\")\r\n",
        "df_results_7 = invert_transformation(df_train, df_forecast_7, first_diff=True)        \r\n",
        "result_lag7 = df_results_7.loc[:,['Critical_forecast','High_forecast','low_forecast','Moderate_forecast','Schedule SLA_forecast']]\r\n",
        "print(result_lag7)\r\n"
      ],
      "execution_count": null,
      "outputs": []
    },
    {
      "cell_type": "code",
      "metadata": {
        "colab": {
          "base_uri": "https://localhost:8080/"
        },
        "id": "gcIcl_snFXE8",
        "outputId": "afd8799a-1062-43e3-8acb-ab10630a5b96"
      },
      "source": [
        "df_results = invert_transformation(df_train, df_forecast, first_diff=True)        \r\n",
        "result_lag = df_results.loc[:,['Critical_forecast','High_forecast','low_forecast','Moderate_forecast','Schedule SLA_forecast']]\r\n",
        "print(result_lag)"
      ],
      "execution_count": null,
      "outputs": [
        {
          "output_type": "stream",
          "text": [
            "            Critical_forecast  High_forecast  low_forecast  Moderate_forecast  \\\n",
            "date                                                                            \n",
            "2018-01-19           0.109381       3.224430    254.063209          84.191309   \n",
            "2018-01-18           0.374208       2.677147    235.936847          89.855319   \n",
            "2018-01-17           0.237805       0.192185    302.831227         110.123863   \n",
            "2018-01-16           0.335787       2.036869    325.650853         112.294569   \n",
            "2018-01-15           0.514583       4.207396    307.144474         105.527865   \n",
            "2018-01-14           0.479336       4.394028    144.534910          45.078774   \n",
            "2018-01-13           0.289211       3.066469    168.463974          43.719978   \n",
            "\n",
            "            Schedule SLA_forecast  \n",
            "date                               \n",
            "2018-01-19              10.130373  \n",
            "2018-01-18               7.847324  \n",
            "2018-01-17              14.746353  \n",
            "2018-01-16              12.282920  \n",
            "2018-01-15               4.358480  \n",
            "2018-01-14               4.432538  \n",
            "2018-01-13               4.377249  \n"
          ],
          "name": "stdout"
        }
      ]
    },
    {
      "cell_type": "code",
      "metadata": {
        "id": "yd0KrhHmRdb7"
      },
      "source": [
        "print('********result with Lag 1 ************')\r\n",
        "df_forecast_1 = df_results_1.loc[:,['Critical_forecast','High_forecast','low_forecast','Moderate_forecast','Schedule SLA_forecast']]\r\n",
        "df_forecast_1 = df_forecast_1.apply(np.floor).abs().astype(int)\r\n",
        "\r\n",
        "\r\n",
        "print('********result with Lag 2 ************')\r\n",
        "df_forecast_2 = df_results_2.loc[:,['Critical_forecast','High_forecast','low_forecast','Moderate_forecast','Schedule SLA_forecast']]\r\n",
        "df_forecast_2 = df_forecast_2.apply(np.floor).abs().astype(int)\r\n",
        "\r\n",
        "\r\n",
        "print('********result with Lag 3 ************')\r\n",
        "df_forecast_3 = df_results_3.loc[:,['Critical_forecast','High_forecast','low_forecast','Moderate_forecast','Schedule SLA_forecast']]\r\n",
        "df_forecast_3 = df_forecast_3.apply(np.floor).abs().astype(int)\r\n",
        "\r\n",
        "\r\n",
        "print('********result with Lag 4 ************')\r\n",
        "df_forecast_4 = df_results_4.loc[:,['Critical_forecast','High_forecast','low_forecast','Moderate_forecast','Schedule SLA_forecast']]\r\n",
        "df_forecast_4 = df_forecast_4.apply(np.floor).abs().astype(int)\r\n",
        "\r\n",
        "\r\n",
        "print('********result with Lag 5 ************')\r\n",
        "df_forecast_5 = df_results_5.loc[:,['Critical_forecast','High_forecast','low_forecast','Moderate_forecast','Schedule SLA_forecast']]\r\n",
        "df_forecast_5 = df_forecast_5.apply(np.floor).abs().astype(int)\r\n",
        "\r\n",
        "\r\n",
        "print('********result with Lag 6 ************')\r\n",
        "df_forecast_6 = df_results_6.loc[:,['Critical_forecast','High_forecast','low_forecast','Moderate_forecast','Schedule SLA_forecast']]\r\n",
        "df_forecast_6 = df_forecast_6.apply(np.floor).abs().astype(int)\r\n",
        "\r\n",
        "print('********result with Lag 1 ************')\r\n",
        "df_forecast_7 = df_results_7.loc[:,['Critical_forecast','High_forecast','low_forecast','Moderate_forecast','Schedule SLA_forecast']]\r\n",
        "df_forecast_7 = df_forecast_7.apply(np.floor).abs().astype(int)"
      ],
      "execution_count": null,
      "outputs": []
    },
    {
      "cell_type": "code",
      "metadata": {
        "id": "_SWmNkAkFj9Z"
      },
      "source": [
        "df_forecast_7 = result_lag.loc[:,['Critical_forecast','High_forecast','low_forecast','Moderate_forecast','Schedule SLA_forecast']]\r\n",
        "df_forecast_7 = df_forecast.apply(np.floor).abs().astype(int)"
      ],
      "execution_count": null,
      "outputs": []
    },
    {
      "cell_type": "code",
      "metadata": {
        "colab": {
          "base_uri": "https://localhost:8080/",
          "height": 284
        },
        "id": "ziaYR-9-RhoI",
        "outputId": "ab31ccb9-1e1e-4250-d2f2-056cc0d8d1aa"
      },
      "source": [
        "compare_output_7 = pd.concat([df_test,result_lag.apply(np.ceil).abs().astype(int)],axis=1)\r\n",
        "compare_output_7"
      ],
      "execution_count": null,
      "outputs": [
        {
          "output_type": "execute_result",
          "data": {
            "text/html": [
              "<div>\n",
              "<style scoped>\n",
              "    .dataframe tbody tr th:only-of-type {\n",
              "        vertical-align: middle;\n",
              "    }\n",
              "\n",
              "    .dataframe tbody tr th {\n",
              "        vertical-align: top;\n",
              "    }\n",
              "\n",
              "    .dataframe thead th {\n",
              "        text-align: right;\n",
              "    }\n",
              "</style>\n",
              "<table border=\"1\" class=\"dataframe\">\n",
              "  <thead>\n",
              "    <tr style=\"text-align: right;\">\n",
              "      <th></th>\n",
              "      <th>Critical</th>\n",
              "      <th>High</th>\n",
              "      <th>low</th>\n",
              "      <th>Moderate</th>\n",
              "      <th>Schedule SLA</th>\n",
              "      <th>Critical_forecast</th>\n",
              "      <th>High_forecast</th>\n",
              "      <th>low_forecast</th>\n",
              "      <th>Moderate_forecast</th>\n",
              "      <th>Schedule SLA_forecast</th>\n",
              "    </tr>\n",
              "    <tr>\n",
              "      <th>date</th>\n",
              "      <th></th>\n",
              "      <th></th>\n",
              "      <th></th>\n",
              "      <th></th>\n",
              "      <th></th>\n",
              "      <th></th>\n",
              "      <th></th>\n",
              "      <th></th>\n",
              "      <th></th>\n",
              "      <th></th>\n",
              "    </tr>\n",
              "  </thead>\n",
              "  <tbody>\n",
              "    <tr>\n",
              "      <th>2018-01-19</th>\n",
              "      <td>1.0</td>\n",
              "      <td>3.0</td>\n",
              "      <td>246.0</td>\n",
              "      <td>69.0</td>\n",
              "      <td>11.0</td>\n",
              "      <td>1</td>\n",
              "      <td>4</td>\n",
              "      <td>255</td>\n",
              "      <td>85</td>\n",
              "      <td>11</td>\n",
              "    </tr>\n",
              "    <tr>\n",
              "      <th>2018-01-18</th>\n",
              "      <td>0.0</td>\n",
              "      <td>0.0</td>\n",
              "      <td>283.0</td>\n",
              "      <td>83.0</td>\n",
              "      <td>14.0</td>\n",
              "      <td>1</td>\n",
              "      <td>3</td>\n",
              "      <td>236</td>\n",
              "      <td>90</td>\n",
              "      <td>8</td>\n",
              "    </tr>\n",
              "    <tr>\n",
              "      <th>2018-01-17</th>\n",
              "      <td>0.0</td>\n",
              "      <td>5.0</td>\n",
              "      <td>338.0</td>\n",
              "      <td>110.0</td>\n",
              "      <td>10.0</td>\n",
              "      <td>1</td>\n",
              "      <td>1</td>\n",
              "      <td>303</td>\n",
              "      <td>111</td>\n",
              "      <td>15</td>\n",
              "    </tr>\n",
              "    <tr>\n",
              "      <th>2018-01-16</th>\n",
              "      <td>0.0</td>\n",
              "      <td>5.0</td>\n",
              "      <td>255.0</td>\n",
              "      <td>113.0</td>\n",
              "      <td>4.0</td>\n",
              "      <td>1</td>\n",
              "      <td>3</td>\n",
              "      <td>326</td>\n",
              "      <td>113</td>\n",
              "      <td>13</td>\n",
              "    </tr>\n",
              "    <tr>\n",
              "      <th>2018-01-15</th>\n",
              "      <td>0.0</td>\n",
              "      <td>3.0</td>\n",
              "      <td>256.0</td>\n",
              "      <td>117.0</td>\n",
              "      <td>11.0</td>\n",
              "      <td>1</td>\n",
              "      <td>5</td>\n",
              "      <td>308</td>\n",
              "      <td>106</td>\n",
              "      <td>5</td>\n",
              "    </tr>\n",
              "    <tr>\n",
              "      <th>2018-01-14</th>\n",
              "      <td>0.0</td>\n",
              "      <td>7.0</td>\n",
              "      <td>122.0</td>\n",
              "      <td>39.0</td>\n",
              "      <td>1.0</td>\n",
              "      <td>1</td>\n",
              "      <td>5</td>\n",
              "      <td>145</td>\n",
              "      <td>46</td>\n",
              "      <td>5</td>\n",
              "    </tr>\n",
              "    <tr>\n",
              "      <th>2018-01-13</th>\n",
              "      <td>0.0</td>\n",
              "      <td>4.0</td>\n",
              "      <td>115.0</td>\n",
              "      <td>27.0</td>\n",
              "      <td>0.0</td>\n",
              "      <td>1</td>\n",
              "      <td>4</td>\n",
              "      <td>169</td>\n",
              "      <td>44</td>\n",
              "      <td>5</td>\n",
              "    </tr>\n",
              "  </tbody>\n",
              "</table>\n",
              "</div>"
            ],
            "text/plain": [
              "            Critical  High    low  Moderate  Schedule SLA  Critical_forecast  \\\n",
              "date                                                                           \n",
              "2018-01-19       1.0   3.0  246.0      69.0          11.0                  1   \n",
              "2018-01-18       0.0   0.0  283.0      83.0          14.0                  1   \n",
              "2018-01-17       0.0   5.0  338.0     110.0          10.0                  1   \n",
              "2018-01-16       0.0   5.0  255.0     113.0           4.0                  1   \n",
              "2018-01-15       0.0   3.0  256.0     117.0          11.0                  1   \n",
              "2018-01-14       0.0   7.0  122.0      39.0           1.0                  1   \n",
              "2018-01-13       0.0   4.0  115.0      27.0           0.0                  1   \n",
              "\n",
              "            High_forecast  low_forecast  Moderate_forecast  \\\n",
              "date                                                         \n",
              "2018-01-19              4           255                 85   \n",
              "2018-01-18              3           236                 90   \n",
              "2018-01-17              1           303                111   \n",
              "2018-01-16              3           326                113   \n",
              "2018-01-15              5           308                106   \n",
              "2018-01-14              5           145                 46   \n",
              "2018-01-13              4           169                 44   \n",
              "\n",
              "            Schedule SLA_forecast  \n",
              "date                               \n",
              "2018-01-19                     11  \n",
              "2018-01-18                      8  \n",
              "2018-01-17                     15  \n",
              "2018-01-16                     13  \n",
              "2018-01-15                      5  \n",
              "2018-01-14                      5  \n",
              "2018-01-13                      5  "
            ]
          },
          "metadata": {
            "tags": []
          },
          "execution_count": 43
        }
      ]
    },
    {
      "cell_type": "code",
      "metadata": {
        "colab": {
          "base_uri": "https://localhost:8080/",
          "height": 297
        },
        "id": "7sii3m74aKAO",
        "outputId": "ad213686-f300-4a98-90ee-4c04c7132c34"
      },
      "source": [
        "ax = plt.gca()\r\n",
        "lag_1 = compare_output_7.reset_index()\r\n",
        "lag_1.plot(kind='line',x='date',y='Critical',ax=ax)\r\n",
        "lag_1.plot(kind='line',x='date',y='Critical_forecast', color='red', ax=ax)\r\n",
        "\r\n",
        "plt.tight_layout();"
      ],
      "execution_count": null,
      "outputs": [
        {
          "output_type": "display_data",
          "data": {
            "image/png": "[encoded data removed]",
            "text/plain": [
              "<Figure size 432x288 with 1 Axes>"
            ]
          },
          "metadata": {
            "tags": [],
            "needs_background": "light"
          }
        }
      ]
    },
    {
      "cell_type": "code",
      "metadata": {
        "colab": {
          "base_uri": "https://localhost:8080/",
          "height": 297
        },
        "id": "Vxwv2yGpeHkU",
        "outputId": "c8e3fbbd-b228-4325-b50b-af85769803f1"
      },
      "source": [
        "ax = plt.gca()\r\n",
        "lag_1 = compare_output_7.reset_index()\r\n",
        "lag_1.plot(kind='line',x='date',y='low',ax=ax)\r\n",
        "lag_1.plot(kind='line',x='date',y='low_forecast', color='red', ax=ax)\r\n",
        "\r\n",
        "plt.tight_layout();"
      ],
      "execution_count": null,
      "outputs": [
        {
          "output_type": "display_data",
          "data": {
            "image/png": "[encoded data removed]",
            "text/plain": [
              "<Figure size 432x288 with 1 Axes>"
            ]
          },
          "metadata": {
            "tags": [],
            "needs_background": "light"
          }
        }
      ]
    },
    {
      "cell_type": "code",
      "metadata": {
        "colab": {
          "base_uri": "https://localhost:8080/",
          "height": 297
        },
        "id": "_DCfoiJ9XZ0N",
        "outputId": "ff4b7fbe-289a-4244-b192-1a21aedc3d66"
      },
      "source": [
        "ax = plt.gca()\r\n",
        "lag_1 = compare_output_7.reset_index()\r\n",
        "lag_1.plot(kind='line',x='date',y='Moderate',ax=ax)\r\n",
        "lag_1.plot(kind='line',x='date',y='Moderate_forecast', color='red', ax=ax)\r\n",
        "\r\n",
        "plt.tight_layout();"
      ],
      "execution_count": null,
      "outputs": [
        {
          "output_type": "display_data",
          "data": {
            "image/png": "[encoded data removed]",
            "text/plain": [
              "<Figure size 432x288 with 1 Axes>"
            ]
          },
          "metadata": {
            "tags": [],
            "needs_background": "light"
          }
        }
      ]
    },
    {
      "cell_type": "code",
      "metadata": {
        "colab": {
          "base_uri": "https://localhost:8080/",
          "height": 297
        },
        "id": "tTcDlydrfPdS",
        "outputId": "83cb88a4-634b-4ca4-dc6d-40c2e2ec1520"
      },
      "source": [
        "ax = plt.gca()\r\n",
        "lag_1 = compare_output_7.reset_index()\r\n",
        "lag_1.plot(kind='line',x='date',y='High',ax=ax)\r\n",
        "lag_1.plot(kind='line',x='date',y='High_forecast', color='red', ax=ax)\r\n",
        "\r\n",
        "plt.tight_layout();"
      ],
      "execution_count": null,
      "outputs": [
        {
          "output_type": "display_data",
          "data": {
            "image/png": "[encoded data removed]",
            "text/plain": [
              "<Figure size 432x288 with 1 Axes>"
            ]
          },
          "metadata": {
            "tags": [],
            "needs_background": "light"
          }
        }
      ]
    },
    {
      "cell_type": "code",
      "metadata": {
        "colab": {
          "base_uri": "https://localhost:8080/",
          "height": 297
        },
        "id": "xbI0VddFfaxS",
        "outputId": "609046e1-cb6c-4014-9b62-56ee3aa45ad2"
      },
      "source": [
        "ax = plt.gca()\r\n",
        "lag_1 = compare_output_7.reset_index()\r\n",
        "lag_1.plot(kind='line',x='date',y='Schedule SLA',ax=ax)\r\n",
        "lag_1.plot(kind='line',x='date',y='Schedule SLA_forecast', color='red', ax=ax)\r\n",
        "\r\n",
        "plt.tight_layout();"
      ],
      "execution_count": null,
      "outputs": [
        {
          "output_type": "display_data",
          "data": {
            "image/png": "[encoded data removed]",
            "text/plain": [
              "<Figure size 432x288 with 1 Axes>"
            ]
          },
          "metadata": {
            "tags": [],
            "needs_background": "light"
          }
        }
      ]
    },
    {
      "cell_type": "markdown",
      "metadata": {
        "id": "hHfXPWJb1ovl"
      },
      "source": [
        "**Forecasting the number of tickets for next 7 days**"
      ]
    },
    {
      "cell_type": "code",
      "metadata": {
        "id": "9eXRCLGK1v1E",
        "colab": {
          "base_uri": "https://localhost:8080/",
          "height": 373
        },
        "outputId": "854f5b10-9e1c-4220-aea2-9028917aaae7"
      },
      "source": [
        "final_df_copy = final_df.sort_index()\r\n",
        "final_df_copy.head(10)"
      ],
      "execution_count": null,
      "outputs": [
        {
          "output_type": "execute_result",
          "data": {
            "text/html": [
              "<div>\n",
              "<style scoped>\n",
              "    .dataframe tbody tr th:only-of-type {\n",
              "        vertical-align: middle;\n",
              "    }\n",
              "\n",
              "    .dataframe tbody tr th {\n",
              "        vertical-align: top;\n",
              "    }\n",
              "\n",
              "    .dataframe thead th {\n",
              "        text-align: right;\n",
              "    }\n",
              "</style>\n",
              "<table border=\"1\" class=\"dataframe\">\n",
              "  <thead>\n",
              "    <tr style=\"text-align: right;\">\n",
              "      <th></th>\n",
              "      <th>Critical</th>\n",
              "      <th>High</th>\n",
              "      <th>low</th>\n",
              "      <th>Moderate</th>\n",
              "      <th>Schedule SLA</th>\n",
              "    </tr>\n",
              "    <tr>\n",
              "      <th>date</th>\n",
              "      <th></th>\n",
              "      <th></th>\n",
              "      <th></th>\n",
              "      <th></th>\n",
              "      <th></th>\n",
              "    </tr>\n",
              "  </thead>\n",
              "  <tbody>\n",
              "    <tr>\n",
              "      <th>2018-01-13</th>\n",
              "      <td>0.0</td>\n",
              "      <td>4.0</td>\n",
              "      <td>115.0</td>\n",
              "      <td>27.0</td>\n",
              "      <td>0.0</td>\n",
              "    </tr>\n",
              "    <tr>\n",
              "      <th>2018-01-14</th>\n",
              "      <td>0.0</td>\n",
              "      <td>7.0</td>\n",
              "      <td>122.0</td>\n",
              "      <td>39.0</td>\n",
              "      <td>1.0</td>\n",
              "    </tr>\n",
              "    <tr>\n",
              "      <th>2018-01-15</th>\n",
              "      <td>0.0</td>\n",
              "      <td>3.0</td>\n",
              "      <td>256.0</td>\n",
              "      <td>117.0</td>\n",
              "      <td>11.0</td>\n",
              "    </tr>\n",
              "    <tr>\n",
              "      <th>2018-01-16</th>\n",
              "      <td>0.0</td>\n",
              "      <td>5.0</td>\n",
              "      <td>255.0</td>\n",
              "      <td>113.0</td>\n",
              "      <td>4.0</td>\n",
              "    </tr>\n",
              "    <tr>\n",
              "      <th>2018-01-17</th>\n",
              "      <td>0.0</td>\n",
              "      <td>5.0</td>\n",
              "      <td>338.0</td>\n",
              "      <td>110.0</td>\n",
              "      <td>10.0</td>\n",
              "    </tr>\n",
              "    <tr>\n",
              "      <th>2018-01-18</th>\n",
              "      <td>0.0</td>\n",
              "      <td>0.0</td>\n",
              "      <td>283.0</td>\n",
              "      <td>83.0</td>\n",
              "      <td>14.0</td>\n",
              "    </tr>\n",
              "    <tr>\n",
              "      <th>2018-01-19</th>\n",
              "      <td>1.0</td>\n",
              "      <td>3.0</td>\n",
              "      <td>246.0</td>\n",
              "      <td>69.0</td>\n",
              "      <td>11.0</td>\n",
              "    </tr>\n",
              "    <tr>\n",
              "      <th>2018-01-20</th>\n",
              "      <td>1.0</td>\n",
              "      <td>3.0</td>\n",
              "      <td>186.0</td>\n",
              "      <td>30.0</td>\n",
              "      <td>3.0</td>\n",
              "    </tr>\n",
              "    <tr>\n",
              "      <th>2018-01-21</th>\n",
              "      <td>1.0</td>\n",
              "      <td>4.0</td>\n",
              "      <td>86.0</td>\n",
              "      <td>39.0</td>\n",
              "      <td>1.0</td>\n",
              "    </tr>\n",
              "    <tr>\n",
              "      <th>2018-01-22</th>\n",
              "      <td>0.0</td>\n",
              "      <td>3.0</td>\n",
              "      <td>278.0</td>\n",
              "      <td>110.0</td>\n",
              "      <td>9.0</td>\n",
              "    </tr>\n",
              "  </tbody>\n",
              "</table>\n",
              "</div>"
            ],
            "text/plain": [
              "            Critical  High    low  Moderate  Schedule SLA\n",
              "date                                                     \n",
              "2018-01-13       0.0   4.0  115.0      27.0           0.0\n",
              "2018-01-14       0.0   7.0  122.0      39.0           1.0\n",
              "2018-01-15       0.0   3.0  256.0     117.0          11.0\n",
              "2018-01-16       0.0   5.0  255.0     113.0           4.0\n",
              "2018-01-17       0.0   5.0  338.0     110.0          10.0\n",
              "2018-01-18       0.0   0.0  283.0      83.0          14.0\n",
              "2018-01-19       1.0   3.0  246.0      69.0          11.0\n",
              "2018-01-20       1.0   3.0  186.0      30.0           3.0\n",
              "2018-01-21       1.0   4.0   86.0      39.0           1.0\n",
              "2018-01-22       0.0   3.0  278.0     110.0           9.0"
            ]
          },
          "metadata": {
            "tags": []
          },
          "execution_count": 21
        }
      ]
    },
    {
      "cell_type": "code",
      "metadata": {
        "id": "OAy8EiLR4U06"
      },
      "source": [
        "from statsmodels.tsa.stattools import grangercausalitytests\r\n",
        "maxlag=12\r\n",
        "test = 'ssr_chi2test'\r\n",
        "def grangers_causation_matrix(data, variables, test='ssr_chi2test', verbose=False):    \r\n",
        "    \"\"\"Check Granger Causality of all possible combinations of the Time series.\r\n",
        "    The rows are the response variable, columns are predictors. The values in the table \r\n",
        "    are the P-Values. P-Values lesser than the significance level (0.05), implies \r\n",
        "    the Null Hypothesis that the coefficients of the corresponding past values is \r\n",
        "    zero, that is, the X does not cause Y can be rejected.\r\n",
        "\r\n",
        "    data      : pandas dataframe containing the time series variables\r\n",
        "    variables : list containing names of the time series variables.\r\n",
        "    \"\"\"\r\n",
        "    df = pd.DataFrame(np.zeros((len(variables), len(variables))), columns=variables, index=variables)\r\n",
        "    for c in df.columns:\r\n",
        "        for r in df.index:\r\n",
        "            test_result = grangercausalitytests(data[[r, c]], maxlag=maxlag, verbose=False)\r\n",
        "            p_values = [round(test_result[i+1][0][test][1],4) for i in range(maxlag)]\r\n",
        "            if verbose: print(f'Y = {r}, X = {c}, P Values = {p_values}')\r\n",
        "            min_p_value = np.min(p_values)\r\n",
        "            df.loc[r, c] = min_p_value\r\n",
        "    df.columns = [var + '_x' for var in variables]\r\n",
        "    df.index = [var + '_y' for var in variables]\r\n",
        "    return df"
      ],
      "execution_count": null,
      "outputs": []
    },
    {
      "cell_type": "code",
      "metadata": {
        "colab": {
          "base_uri": "https://localhost:8080/",
          "height": 195
        },
        "id": "S3GHgd9a5jUy",
        "outputId": "b0c837bc-d2af-4694-d1a2-b0caffa184b7"
      },
      "source": [
        "grangers_causation_matrix(final_df_copy, variables = final_df_copy.columns) "
      ],
      "execution_count": null,
      "outputs": [
        {
          "output_type": "execute_result",
          "data": {
            "text/html": [
              "<div>\n",
              "<style scoped>\n",
              "    .dataframe tbody tr th:only-of-type {\n",
              "        vertical-align: middle;\n",
              "    }\n",
              "\n",
              "    .dataframe tbody tr th {\n",
              "        vertical-align: top;\n",
              "    }\n",
              "\n",
              "    .dataframe thead th {\n",
              "        text-align: right;\n",
              "    }\n",
              "</style>\n",
              "<table border=\"1\" class=\"dataframe\">\n",
              "  <thead>\n",
              "    <tr style=\"text-align: right;\">\n",
              "      <th></th>\n",
              "      <th>Critical_x</th>\n",
              "      <th>High_x</th>\n",
              "      <th>low_x</th>\n",
              "      <th>Moderate_x</th>\n",
              "      <th>Schedule SLA_x</th>\n",
              "    </tr>\n",
              "  </thead>\n",
              "  <tbody>\n",
              "    <tr>\n",
              "      <th>Critical_y</th>\n",
              "      <td>1.0000</td>\n",
              "      <td>0.0125</td>\n",
              "      <td>0.0051</td>\n",
              "      <td>0.0012</td>\n",
              "      <td>0.0043</td>\n",
              "    </tr>\n",
              "    <tr>\n",
              "      <th>High_y</th>\n",
              "      <td>0.0533</td>\n",
              "      <td>1.0000</td>\n",
              "      <td>0.0000</td>\n",
              "      <td>0.0000</td>\n",
              "      <td>0.0000</td>\n",
              "    </tr>\n",
              "    <tr>\n",
              "      <th>low_y</th>\n",
              "      <td>0.0111</td>\n",
              "      <td>0.0000</td>\n",
              "      <td>1.0000</td>\n",
              "      <td>0.0000</td>\n",
              "      <td>0.0000</td>\n",
              "    </tr>\n",
              "    <tr>\n",
              "      <th>Moderate_y</th>\n",
              "      <td>0.3991</td>\n",
              "      <td>0.0000</td>\n",
              "      <td>0.0000</td>\n",
              "      <td>1.0000</td>\n",
              "      <td>0.0000</td>\n",
              "    </tr>\n",
              "    <tr>\n",
              "      <th>Schedule SLA_y</th>\n",
              "      <td>0.1278</td>\n",
              "      <td>0.0000</td>\n",
              "      <td>0.0000</td>\n",
              "      <td>0.0000</td>\n",
              "      <td>1.0000</td>\n",
              "    </tr>\n",
              "  </tbody>\n",
              "</table>\n",
              "</div>"
            ],
            "text/plain": [
              "                Critical_x  High_x   low_x  Moderate_x  Schedule SLA_x\n",
              "Critical_y          1.0000  0.0125  0.0051      0.0012          0.0043\n",
              "High_y              0.0533  1.0000  0.0000      0.0000          0.0000\n",
              "low_y               0.0111  0.0000  1.0000      0.0000          0.0000\n",
              "Moderate_y          0.3991  0.0000  0.0000      1.0000          0.0000\n",
              "Schedule SLA_y      0.1278  0.0000  0.0000      0.0000          1.0000"
            ]
          },
          "metadata": {
            "tags": []
          },
          "execution_count": 23
        }
      ]
    },
    {
      "cell_type": "code",
      "metadata": {
        "colab": {
          "base_uri": "https://localhost:8080/"
        },
        "id": "U5K81uwP6tvu",
        "outputId": "f602d95e-a150-4d10-a660-5bd64fd46bcf"
      },
      "source": [
        "from statsmodels.tsa.vector_ar.vecm import coint_johansen\r\n",
        "\r\n",
        "def cointegration_test(df, alpha=0.05): \r\n",
        "    \"\"\"Perform Johanson's Cointegration Test and Report Summary\"\"\"\r\n",
        "    out = coint_johansen(df,-1,5)\r\n",
        "    d = {'0.90':0, '0.95':1, '0.99':2}\r\n",
        "    traces = out.lr1\r\n",
        "    cvts = out.cvt[:, d[str(1-alpha)]]\r\n",
        "    def adjust(val, length= 6): return str(val).ljust(length)\r\n",
        "\r\n",
        "    # Summary\r\n",
        "    print('Name   ::  Test Stat > C(95%)    =>   Signif  \\n', '--'*20)\r\n",
        "    for col, trace, cvt in zip(df.columns, traces, cvts):\r\n",
        "        print(adjust(col), ':: ', adjust(round(trace,2), 9), \">\", adjust(cvt, 8), ' =>  ' , trace > cvt)\r\n",
        "\r\n",
        "cointegration_test(final_df_copy)"
      ],
      "execution_count": null,
      "outputs": [
        {
          "output_type": "stream",
          "text": [
            "Name   ::  Test Stat > C(95%)    =>   Signif  \n",
            " ----------------------------------------\n",
            "Critical ::  206.67    > 60.0627   =>   True\n",
            "High   ::  108.23    > 40.1749   =>   True\n",
            "low    ::  53.98     > 24.2761   =>   True\n",
            "Moderate ::  18.06     > 12.3212   =>   True\n",
            "Schedule SLA ::  1.0       > 4.1296    =>   False\n"
          ],
          "name": "stdout"
        }
      ]
    },
    {
      "cell_type": "code",
      "metadata": {
        "id": "v19-ClFZ7b-p"
      },
      "source": [
        "#Check for Stationarity and Make the Time Series Stationary\r\n",
        "#Since the VAR model requires the time series you want to forecast to be stationary, it is customary to check all the time series in the system for stationarity.\r\n",
        "\r\n",
        "#Just to refresh, a stationary time series is one whose characteristics like mean and variance does not change over time.\r\n",
        "\r\n",
        "def adfuller_test(series, signif=0.05, name='', verbose=False):\r\n",
        "    \"\"\"Perform ADFuller to test for Stationarity of given series and print report\"\"\"\r\n",
        "    r = adfuller(series, autolag='AIC')\r\n",
        "    output = {'test_statistic':round(r[0], 4), 'pvalue':round(r[1], 4), 'n_lags':round(r[2], 4), 'n_obs':r[3]}\r\n",
        "    p_value = output['pvalue'] \r\n",
        "    def adjust(val, length= 6): return str(val).ljust(length)\r\n",
        "\r\n",
        "    # Print Summary\r\n",
        "    print(f'    Augmented Dickey-Fuller Test on \"{name}\"', \"\\n   \", '-'*47)\r\n",
        "    print(f' Null Hypothesis: Data has unit root. Non-Stationary.')\r\n",
        "    print(f' Significance Level    = {signif}')\r\n",
        "    print(f' Test Statistic        = {output[\"test_statistic\"]}')\r\n",
        "    print(f' No. Lags Chosen       = {output[\"n_lags\"]}')\r\n",
        "\r\n",
        "    for key,val in r[4].items():\r\n",
        "        print(f' Critical value {adjust(key)} = {round(val, 3)}')\r\n",
        "\r\n",
        "    if p_value <= signif:\r\n",
        "        print(f\" => P-Value = {p_value}. Rejecting Null Hypothesis.\")\r\n",
        "        print(f\" => Series is Stationary.\")\r\n",
        "    else:\r\n",
        "        print(f\" => P-Value = {p_value}. Weak evidence to reject the Null Hypothesis.\")\r\n",
        "        print(f\" => Series is Non-Stationary.\")"
      ],
      "execution_count": null,
      "outputs": []
    },
    {
      "cell_type": "code",
      "metadata": {
        "colab": {
          "base_uri": "https://localhost:8080/"
        },
        "id": "35hizfQZ7xGq",
        "outputId": "d978eabd-dce4-4a6b-a9c8-f7871aaf2f2d"
      },
      "source": [
        "for name, column in final_df_copy.iteritems():\r\n",
        "    adfuller_test(column, name=column.name)\r\n",
        "    print('\\n')"
      ],
      "execution_count": null,
      "outputs": [
        {
          "output_type": "stream",
          "text": [
            "    Augmented Dickey-Fuller Test on \"Critical\" \n",
            "    -----------------------------------------------\n",
            " Null Hypothesis: Data has unit root. Non-Stationary.\n",
            " Significance Level    = 0.05\n",
            " Test Statistic        = -19.0436\n",
            " No. Lags Chosen       = 0\n",
            " Critical value 1%     = -3.451\n",
            " Critical value 5%     = -2.871\n",
            " Critical value 10%    = -2.572\n",
            " => P-Value = 0.0. Rejecting Null Hypothesis.\n",
            " => Series is Stationary.\n",
            "\n",
            "\n",
            "    Augmented Dickey-Fuller Test on \"High\" \n",
            "    -----------------------------------------------\n",
            " Null Hypothesis: Data has unit root. Non-Stationary.\n",
            " Significance Level    = 0.05\n",
            " Test Statistic        = -3.5385\n",
            " No. Lags Chosen       = 8\n",
            " Critical value 1%     = -3.452\n",
            " Critical value 5%     = -2.871\n",
            " Critical value 10%    = -2.572\n",
            " => P-Value = 0.0071. Rejecting Null Hypothesis.\n",
            " => Series is Stationary.\n",
            "\n",
            "\n",
            "    Augmented Dickey-Fuller Test on \"low\" \n",
            "    -----------------------------------------------\n",
            " Null Hypothesis: Data has unit root. Non-Stationary.\n",
            " Significance Level    = 0.05\n",
            " Test Statistic        = -1.3928\n",
            " No. Lags Chosen       = 14\n",
            " Critical value 1%     = -3.452\n",
            " Critical value 5%     = -2.871\n",
            " Critical value 10%    = -2.572\n",
            " => P-Value = 0.5857. Weak evidence to reject the Null Hypothesis.\n",
            " => Series is Non-Stationary.\n",
            "\n",
            "\n",
            "    Augmented Dickey-Fuller Test on \"Moderate\" \n",
            "    -----------------------------------------------\n",
            " Null Hypothesis: Data has unit root. Non-Stationary.\n",
            " Significance Level    = 0.05\n",
            " Test Statistic        = -1.6665\n",
            " No. Lags Chosen       = 14\n",
            " Critical value 1%     = -3.452\n",
            " Critical value 5%     = -2.871\n",
            " Critical value 10%    = -2.572\n",
            " => P-Value = 0.4485. Weak evidence to reject the Null Hypothesis.\n",
            " => Series is Non-Stationary.\n",
            "\n",
            "\n",
            "    Augmented Dickey-Fuller Test on \"Schedule SLA\" \n",
            "    -----------------------------------------------\n",
            " Null Hypothesis: Data has unit root. Non-Stationary.\n",
            " Significance Level    = 0.05\n",
            " Test Statistic        = -2.5543\n",
            " No. Lags Chosen       = 13\n",
            " Critical value 1%     = -3.452\n",
            " Critical value 5%     = -2.871\n",
            " Critical value 10%    = -2.572\n",
            " => P-Value = 0.1028. Weak evidence to reject the Null Hypothesis.\n",
            " => Series is Non-Stationary.\n",
            "\n",
            "\n"
          ],
          "name": "stdout"
        }
      ]
    },
    {
      "cell_type": "code",
      "metadata": {
        "id": "xb9rCZ4L_vyH"
      },
      "source": [
        "# 1st difference\r\n",
        "df_differenced = final_df_copy.diff().dropna()"
      ],
      "execution_count": null,
      "outputs": []
    },
    {
      "cell_type": "code",
      "metadata": {
        "colab": {
          "base_uri": "https://localhost:8080/"
        },
        "id": "j8CoUGhvAFwb",
        "outputId": "c2335e98-3fae-4d95-eb59-bc6c0cf0eed4"
      },
      "source": [
        "# ADF Test on each column of 1st Differences Dataframe\r\n",
        "for name, column in df_differenced.iteritems():\r\n",
        "    adfuller_test(column, name=column.name)\r\n",
        "    print('\\n')"
      ],
      "execution_count": null,
      "outputs": [
        {
          "output_type": "stream",
          "text": [
            "    Augmented Dickey-Fuller Test on \"Critical\" \n",
            "    -----------------------------------------------\n",
            " Null Hypothesis: Data has unit root. Non-Stationary.\n",
            " Significance Level    = 0.05\n",
            " Test Statistic        = -8.4862\n",
            " No. Lags Chosen       = 14\n",
            " Critical value 1%     = -3.452\n",
            " Critical value 5%     = -2.871\n",
            " Critical value 10%    = -2.572\n",
            " => P-Value = 0.0. Rejecting Null Hypothesis.\n",
            " => Series is Stationary.\n",
            "\n",
            "\n",
            "    Augmented Dickey-Fuller Test on \"High\" \n",
            "    -----------------------------------------------\n",
            " Null Hypothesis: Data has unit root. Non-Stationary.\n",
            " Significance Level    = 0.05\n",
            " Test Statistic        = -8.8191\n",
            " No. Lags Chosen       = 12\n",
            " Critical value 1%     = -3.452\n",
            " Critical value 5%     = -2.871\n",
            " Critical value 10%    = -2.572\n",
            " => P-Value = 0.0. Rejecting Null Hypothesis.\n",
            " => Series is Stationary.\n",
            "\n",
            "\n",
            "    Augmented Dickey-Fuller Test on \"low\" \n",
            "    -----------------------------------------------\n",
            " Null Hypothesis: Data has unit root. Non-Stationary.\n",
            " Significance Level    = 0.05\n",
            " Test Statistic        = -4.9938\n",
            " No. Lags Chosen       = 13\n",
            " Critical value 1%     = -3.452\n",
            " Critical value 5%     = -2.871\n",
            " Critical value 10%    = -2.572\n",
            " => P-Value = 0.0. Rejecting Null Hypothesis.\n",
            " => Series is Stationary.\n",
            "\n",
            "\n",
            "    Augmented Dickey-Fuller Test on \"Moderate\" \n",
            "    -----------------------------------------------\n",
            " Null Hypothesis: Data has unit root. Non-Stationary.\n",
            " Significance Level    = 0.05\n",
            " Test Statistic        = -5.4069\n",
            " No. Lags Chosen       = 13\n",
            " Critical value 1%     = -3.452\n",
            " Critical value 5%     = -2.871\n",
            " Critical value 10%    = -2.572\n",
            " => P-Value = 0.0. Rejecting Null Hypothesis.\n",
            " => Series is Stationary.\n",
            "\n",
            "\n",
            "    Augmented Dickey-Fuller Test on \"Schedule SLA\" \n",
            "    -----------------------------------------------\n",
            " Null Hypothesis: Data has unit root. Non-Stationary.\n",
            " Significance Level    = 0.05\n",
            " Test Statistic        = -9.6719\n",
            " No. Lags Chosen       = 12\n",
            " Critical value 1%     = -3.452\n",
            " Critical value 5%     = -2.871\n",
            " Critical value 10%    = -2.572\n",
            " => P-Value = 0.0. Rejecting Null Hypothesis.\n",
            " => Series is Stationary.\n",
            "\n",
            "\n"
          ],
          "name": "stdout"
        }
      ]
    },
    {
      "cell_type": "code",
      "metadata": {
        "colab": {
          "base_uri": "https://localhost:8080/"
        },
        "id": "hAw4LKp5AM65",
        "outputId": "0a20824b-8310-40fb-ea3d-d777dfc602d1"
      },
      "source": [
        "model = VAR(df_differenced)\r\n",
        "for i in [1,2,3,4,5,6,7,8,9]:\r\n",
        "    result = model.fit(i)\r\n",
        "    print('Lag Order =', i)\r\n",
        "    print('AIC : ', result.aic)\r\n",
        "    print('BIC : ', result.bic)\r\n",
        "    print('FPE : ', result.fpe)\r\n",
        "    print('HQIC: ', result.hqic, '\\n')"
      ],
      "execution_count": null,
      "outputs": [
        {
          "output_type": "stream",
          "text": [
            "Lag Order = 1\n",
            "AIC :  21.18177082248666\n",
            "BIC :  21.53750285156022\n",
            "FPE :  1581743299.3462822\n",
            "HQIC:  21.32386800714375 \n",
            "\n",
            "Lag Order = 2\n",
            "AIC :  20.559587900761027\n",
            "BIC :  21.213277210087863\n",
            "FPE :  849134884.6466904\n",
            "HQIC:  20.82073277499172 \n",
            "\n",
            "Lag Order = 3\n",
            "AIC :  20.231220744029507\n",
            "BIC :  21.184255065001096\n",
            "FPE :  611642332.7508798\n",
            "HQIC:  20.61199390984373 \n",
            "\n",
            "Lag Order = 4\n",
            "AIC :  19.919858942671986\n",
            "BIC :  21.173636851972518\n",
            "FPE :  448248689.92193115\n",
            "HQIC:  20.42084556410313 \n",
            "\n",
            "Lag Order = 5\n",
            "AIC :  19.506343586663252\n",
            "BIC :  21.062274624267786\n",
            "FPE :  296708910.92157966\n",
            "HQIC:  20.128133438817805 \n",
            "\n",
            "Lag Order = 6\n",
            "AIC :  18.992528097274104\n",
            "BIC :  20.85203288608971\n",
            "FPE :  177737311.98200697\n",
            "HQIC:  19.735715616047866 \n",
            "\n",
            "Lag Order = 7\n",
            "AIC :  18.859147042828575\n",
            "BIC :  21.023657410006265\n",
            "FPE :  155842927.68060392\n",
            "HQIC:  19.72433137530032 \n",
            "\n",
            "Lag Order = 8\n",
            "AIC :  18.86385478482389\n",
            "BIC :  21.334813884769805\n",
            "FPE :  156983044.23587787\n",
            "HQIC:  19.85163984033762 \n",
            "\n",
            "Lag Order = 9\n",
            "AIC :  18.93636932061246\n",
            "BIC :  21.71523175972729\n",
            "FPE :  169356237.39629385\n",
            "HQIC:  20.047363822559547 \n",
            "\n"
          ],
          "name": "stdout"
        },
        {
          "output_type": "stream",
          "text": [
            "/usr/local/lib/python3.7/dist-packages/statsmodels/tsa/base/tsa_model.py:219: ValueWarning: A date index has been provided, but it has no associated frequency information and so will be ignored when e.g. forecasting.\n",
            "  ' ignored when e.g. forecasting.', ValueWarning)\n"
          ],
          "name": "stderr"
        }
      ]
    },
    {
      "cell_type": "code",
      "metadata": {
        "colab": {
          "base_uri": "https://localhost:8080/"
        },
        "id": "3djX7VqrAYk2",
        "outputId": "89d9906c-99f2-42f9-f16b-03841a0ed08d"
      },
      "source": [
        "#Train the VAR Model of Selected Order(p=7)\r\n",
        "\r\n",
        "model_fitted_var = model.fit(7)\r\n",
        "model_fitted_var.summary()"
      ],
      "execution_count": null,
      "outputs": [
        {
          "output_type": "execute_result",
          "data": {
            "text/plain": [
              "  Summary of Regression Results   \n",
              "==================================\n",
              "Model:                         VAR\n",
              "Method:                        OLS\n",
              "Date:           Tue, 09, Mar, 2021\n",
              "Time:                     07:24:27\n",
              "--------------------------------------------------------------------\n",
              "No. of Equations:         5.00000    BIC:                    21.0237\n",
              "Nobs:                     311.000    HQIC:                   19.7243\n",
              "Log likelihood:          -4959.05    FPE:                1.55843e+08\n",
              "AIC:                      18.8591    Det(Omega_mle):     9.01243e+07\n",
              "--------------------------------------------------------------------\n",
              "Results for equation Critical\n",
              "==================================================================================\n",
              "                     coefficient       std. error           t-stat            prob\n",
              "----------------------------------------------------------------------------------\n",
              "const                  -0.003862         0.026968           -0.143           0.886\n",
              "L1.Critical            -0.949373         0.060500          -15.692           0.000\n",
              "L1.High                 0.004525         0.009086            0.498           0.619\n",
              "L1.low                  0.000643         0.000648            0.993           0.321\n",
              "L1.Moderate             0.000084         0.001462            0.058           0.954\n",
              "L1.Schedule SLA         0.007143         0.004470            1.598           0.110\n",
              "L2.Critical            -0.861777         0.081302          -10.600           0.000\n",
              "L2.High                -0.009259         0.010820           -0.856           0.392\n",
              "L2.low                 -0.000511         0.000757           -0.675           0.499\n",
              "L2.Moderate             0.003131         0.001686            1.857           0.063\n",
              "L2.Schedule SLA        -0.002943         0.006484           -0.454           0.650\n",
              "L3.Critical            -0.703864         0.091724           -7.674           0.000\n",
              "L3.High                -0.012026         0.011486           -1.047           0.295\n",
              "L3.low                 -0.000758         0.000821           -0.923           0.356\n",
              "L3.Moderate             0.004843         0.001812            2.673           0.008\n",
              "L3.Schedule SLA        -0.008244         0.007677           -1.074           0.283\n",
              "L4.Critical            -0.479614         0.096253           -4.983           0.000\n",
              "L4.High                -0.020058         0.011900           -1.686           0.092\n",
              "L4.low                 -0.000793         0.000863           -0.918           0.359\n",
              "L4.Moderate             0.003907         0.001907            2.049           0.040\n",
              "L4.Schedule SLA        -0.005336         0.007976           -0.669           0.503\n",
              "L5.Critical            -0.415687         0.092674           -4.485           0.000\n",
              "L5.High                -0.008611         0.011499           -0.749           0.454\n",
              "L5.low                 -0.000641         0.000827           -0.775           0.438\n",
              "L5.Moderate             0.004543         0.001832            2.480           0.013\n",
              "L5.Schedule SLA        -0.004499         0.007629           -0.590           0.555\n",
              "L6.Critical            -0.191414         0.081482           -2.349           0.019\n",
              "L6.High                -0.001209         0.010692           -0.113           0.910\n",
              "L6.low                  0.000116         0.000774            0.149           0.881\n",
              "L6.Moderate             0.002487         0.001701            1.462           0.144\n",
              "L6.Schedule SLA        -0.004658         0.006628           -0.703           0.482\n",
              "L7.Critical            -0.067936         0.060127           -1.130           0.259\n",
              "L7.High                -0.008798         0.009052           -0.972           0.331\n",
              "L7.low                  0.000781         0.000655            1.192           0.233\n",
              "L7.Moderate             0.001091         0.001487            0.734           0.463\n",
              "L7.Schedule SLA         0.000664         0.004669            0.142           0.887\n",
              "==================================================================================\n",
              "\n",
              "Results for equation High\n",
              "==================================================================================\n",
              "                     coefficient       std. error           t-stat            prob\n",
              "----------------------------------------------------------------------------------\n",
              "const                  -0.012819         0.179313           -0.071           0.943\n",
              "L1.Critical            -0.153767         0.402273           -0.382           0.702\n",
              "L1.High                -0.723347         0.060414          -11.973           0.000\n",
              "L1.low                 -0.006724         0.004306           -1.561           0.118\n",
              "L1.Moderate             0.010385         0.009719            1.068           0.285\n",
              "L1.Schedule SLA         0.030624         0.029724            1.030           0.303\n",
              "L2.Critical            -0.831822         0.540588           -1.539           0.124\n",
              "L2.High                -0.605905         0.071944           -8.422           0.000\n",
              "L2.low                 -0.008428         0.005032           -1.675           0.094\n",
              "L2.Moderate             0.013377         0.011213            1.193           0.233\n",
              "L2.Schedule SLA         0.044709         0.043114            1.037           0.300\n",
              "L3.Critical            -0.891432         0.609881           -1.462           0.144\n",
              "L3.High                -0.601327         0.076373           -7.874           0.000\n",
              "L3.low                 -0.005800         0.005459           -1.062           0.288\n",
              "L3.Moderate             0.008570         0.012048            0.711           0.477\n",
              "L3.Schedule SLA        -0.030709         0.051048           -0.602           0.547\n",
              "L4.Critical            -0.538861         0.640000           -0.842           0.400\n",
              "L4.High                -0.505120         0.079125           -6.384           0.000\n",
              "L4.low                 -0.010134         0.005740           -1.765           0.078\n",
              "L4.Moderate             0.024080         0.012677            1.899           0.058\n",
              "L4.Schedule SLA        -0.010449         0.053031           -0.197           0.844\n",
              "L5.Critical             0.414127         0.616199            0.672           0.502\n",
              "L5.High                -0.407008         0.076459           -5.323           0.000\n",
              "L5.low                 -0.002867         0.005500           -0.521           0.602\n",
              "L5.Moderate             0.013273         0.012179            1.090           0.276\n",
              "L5.Schedule SLA        -0.025599         0.050728           -0.505           0.614\n",
              "L6.Critical             0.634388         0.541781            1.171           0.242\n",
              "L6.High                -0.361200         0.071093           -5.081           0.000\n",
              "L6.low                  0.000880         0.005148            0.171           0.864\n",
              "L6.Moderate             0.012707         0.011313            1.123           0.261\n",
              "L6.Schedule SLA        -0.066880         0.044072           -1.518           0.129\n",
              "L7.Critical             0.193517         0.399788            0.484           0.628\n",
              "L7.High                -0.139210         0.060187           -2.313           0.021\n",
              "L7.low                 -0.005405         0.004357           -1.241           0.215\n",
              "L7.Moderate             0.002741         0.009886            0.277           0.782\n",
              "L7.Schedule SLA        -0.026316         0.031047           -0.848           0.397\n",
              "==================================================================================\n",
              "\n",
              "Results for equation low\n",
              "==================================================================================\n",
              "                     coefficient       std. error           t-stat            prob\n",
              "----------------------------------------------------------------------------------\n",
              "const                  -2.174083         3.065747           -0.709           0.478\n",
              "L1.Critical            -4.316610         6.877724           -0.628           0.530\n",
              "L1.High                 1.639982         1.032916            1.588           0.112\n",
              "L1.low                 -0.653496         0.073618           -8.877           0.000\n",
              "L1.Moderate             0.587317         0.166171            3.534           0.000\n",
              "L1.Schedule SLA        -0.886185         0.508197           -1.744           0.081\n",
              "L2.Critical            -6.947122         9.242516           -0.752           0.452\n",
              "L2.High                 1.346296         1.230045            1.095           0.274\n",
              "L2.low                 -0.628750         0.086034           -7.308           0.000\n",
              "L2.Moderate             0.526987         0.191708            2.749           0.006\n",
              "L2.Schedule SLA        -2.011371         0.737125           -2.729           0.006\n",
              "L3.Critical           -11.639494        10.427230           -1.116           0.264\n",
              "L3.High                 1.963250         1.305761            1.504           0.133\n",
              "L3.low                 -0.641312         0.093336           -6.871           0.000\n",
              "L3.Moderate             0.769994         0.205985            3.738           0.000\n",
              "L3.Schedule SLA        -1.458298         0.872770           -1.671           0.095\n",
              "L4.Critical            11.181377        10.942186            1.022           0.307\n",
              "L4.High                 2.433334         1.352808            1.799           0.072\n",
              "L4.low                 -0.541582         0.098144           -5.518           0.000\n",
              "L4.Moderate             0.421853         0.216748            1.946           0.052\n",
              "L4.Schedule SLA        -0.634192         0.906682           -0.699           0.484\n",
              "L5.Critical             4.220561        10.535245            0.401           0.689\n",
              "L5.High                 3.500851         1.307227            2.678           0.007\n",
              "L5.low                 -0.545109         0.094034           -5.797           0.000\n",
              "L5.Moderate             0.320484         0.208232            1.539           0.124\n",
              "L5.Schedule SLA        -0.494478         0.867305           -0.570           0.569\n",
              "L6.Critical            -1.369446         9.262907           -0.148           0.882\n",
              "L6.High                 3.797543         1.215492            3.124           0.002\n",
              "L6.low                 -0.352331         0.088024           -4.003           0.000\n",
              "L6.Moderate             0.052667         0.193416            0.272           0.785\n",
              "L6.Schedule SLA         0.058992         0.753503            0.078           0.938\n",
              "L7.Critical            -6.777108         6.835241           -0.991           0.321\n",
              "L7.High                 0.284326         1.029028            0.276           0.782\n",
              "L7.low                  0.200406         0.074495            2.690           0.007\n",
              "L7.Moderate             0.345376         0.169016            2.043           0.041\n",
              "L7.Schedule SLA        -0.009049         0.530811           -0.017           0.986\n",
              "==================================================================================\n",
              "\n",
              "Results for equation Moderate\n",
              "==================================================================================\n",
              "                     coefficient       std. error           t-stat            prob\n",
              "----------------------------------------------------------------------------------\n",
              "const                  -0.578890         1.334621           -0.434           0.664\n",
              "L1.Critical            -2.307507         2.994100           -0.771           0.441\n",
              "L1.High                 0.312227         0.449662            0.694           0.487\n",
              "L1.low                  0.015249         0.032048            0.476           0.634\n",
              "L1.Moderate            -0.400066         0.072340           -5.530           0.000\n",
              "L1.Schedule SLA        -0.247698         0.221235           -1.120           0.263\n",
              "L2.Critical            -2.110039         4.023572           -0.524           0.600\n",
              "L2.High                 0.154423         0.535479            0.288           0.773\n",
              "L2.low                 -0.006367         0.037453           -0.170           0.865\n",
              "L2.Moderate            -0.353494         0.083457           -4.236           0.000\n",
              "L2.Schedule SLA        -0.661611         0.320895           -2.062           0.039\n",
              "L3.Critical            -4.682452         4.539318           -1.032           0.302\n",
              "L3.High                 0.618916         0.568441            1.089           0.276\n",
              "L3.low                 -0.018501         0.040632           -0.455           0.649\n",
              "L3.Moderate            -0.265069         0.089672           -2.956           0.003\n",
              "L3.Schedule SLA        -0.717466         0.379946           -1.888           0.059\n",
              "L4.Critical            -2.127840         4.763495           -0.447           0.655\n",
              "L4.High                 0.951926         0.588922            1.616           0.106\n",
              "L4.low                 -0.036580         0.042725           -0.856           0.392\n",
              "L4.Moderate            -0.219392         0.094358           -2.325           0.020\n",
              "L4.Schedule SLA        -0.291126         0.394709           -0.738           0.461\n",
              "L5.Critical            -3.728488         4.586340           -0.813           0.416\n",
              "L5.High                 1.375488         0.569079            2.417           0.016\n",
              "L5.low                 -0.069458         0.040936           -1.697           0.090\n",
              "L5.Moderate            -0.202204         0.090650           -2.231           0.026\n",
              "L5.Schedule SLA         0.143932         0.377567            0.381           0.703\n",
              "L6.Critical            -3.799811         4.032449           -0.942           0.346\n",
              "L6.High                 1.802310         0.529144            3.406           0.001\n",
              "L6.low                 -0.031892         0.038320           -0.832           0.405\n",
              "L6.Moderate            -0.184258         0.084200           -2.188           0.029\n",
              "L6.Schedule SLA         0.058124         0.328025            0.177           0.859\n",
              "L7.Critical            -1.519648         2.975606           -0.511           0.610\n",
              "L7.High                 0.679930         0.447970            1.518           0.129\n",
              "L7.low                  0.117896         0.032430            3.635           0.000\n",
              "L7.Moderate             0.158859         0.073578            2.159           0.031\n",
              "L7.Schedule SLA         0.063429         0.231080            0.274           0.784\n",
              "==================================================================================\n",
              "\n",
              "Results for equation Schedule SLA\n",
              "==================================================================================\n",
              "                     coefficient       std. error           t-stat            prob\n",
              "----------------------------------------------------------------------------------\n",
              "const                  -0.047447         0.367193           -0.129           0.897\n",
              "L1.Critical             0.737378         0.823764            0.895           0.371\n",
              "L1.High                -0.004622         0.123715           -0.037           0.970\n",
              "L1.low                  0.010539         0.008817            1.195           0.232\n",
              "L1.Moderate             0.053346         0.019903            2.680           0.007\n",
              "L1.Schedule SLA        -1.075660         0.060868          -17.672           0.000\n",
              "L2.Critical             1.165121         1.107001            1.053           0.293\n",
              "L2.High                 0.022139         0.147326            0.150           0.881\n",
              "L2.low                  0.019199         0.010304            1.863           0.062\n",
              "L2.Moderate             0.043076         0.022961            1.876           0.061\n",
              "L2.Schedule SLA        -1.003149         0.088287          -11.362           0.000\n",
              "L3.Critical             2.544233         1.248898            2.037           0.042\n",
              "L3.High                 0.027112         0.156395            0.173           0.862\n",
              "L3.low                  0.000974         0.011179            0.087           0.931\n",
              "L3.Moderate             0.041876         0.024671            1.697           0.090\n",
              "L3.Schedule SLA        -0.752586         0.104534           -7.199           0.000\n",
              "L4.Critical             3.118631         1.310576            2.380           0.017\n",
              "L4.High                 0.108701         0.162030            0.671           0.502\n",
              "L4.low                  0.008097         0.011755            0.689           0.491\n",
              "L4.Moderate             0.033063         0.025961            1.274           0.203\n",
              "L4.Schedule SLA        -0.529455         0.108596           -4.875           0.000\n",
              "L5.Critical             1.489186         1.261835            1.180           0.238\n",
              "L5.High                 0.167671         0.156570            1.071           0.284\n",
              "L5.low                 -0.020719         0.011263           -1.840           0.066\n",
              "L5.Moderate             0.026203         0.024941            1.051           0.293\n",
              "L5.Schedule SLA        -0.354134         0.103880           -3.409           0.001\n",
              "L6.Critical             1.823817         1.109444            1.644           0.100\n",
              "L6.High                 0.065141         0.145583            0.447           0.655\n",
              "L6.low                 -0.013313         0.010543           -1.263           0.207\n",
              "L6.Moderate            -0.006848         0.023166           -0.296           0.768\n",
              "L6.Schedule SLA        -0.179333         0.090249           -1.987           0.047\n",
              "L7.Critical             0.955979         0.818675            1.168           0.243\n",
              "L7.High                 0.074407         0.123250            0.604           0.546\n",
              "L7.low                 -0.001434         0.008923           -0.161           0.872\n",
              "L7.Moderate             0.023380         0.020244            1.155           0.248\n",
              "L7.Schedule SLA        -0.097331         0.063577           -1.531           0.126\n",
              "==================================================================================\n",
              "\n",
              "Correlation matrix of residuals\n",
              "                Critical      High       low  Moderate  Schedule SLA\n",
              "Critical        1.000000  0.160757 -0.017866  0.114156      0.028118\n",
              "High            0.160757  1.000000  0.132382  0.146938      0.025476\n",
              "low            -0.017866  0.132382  1.000000  0.578695      0.155664\n",
              "Moderate        0.114156  0.146938  0.578695  1.000000      0.191795\n",
              "Schedule SLA    0.028118  0.025476  0.155664  0.191795      1.000000\n",
              "\n"
            ]
          },
          "metadata": {
            "tags": []
          },
          "execution_count": 37
        }
      ]
    },
    {
      "cell_type": "code",
      "metadata": {
        "colab": {
          "base_uri": "https://localhost:8080/"
        },
        "id": "UxDsRB3DAxey",
        "outputId": "1ce3526f-4e12-49d3-aeb7-fa608d46a4a0"
      },
      "source": [
        "from statsmodels.stats.stattools import durbin_watson\r\n",
        "out = durbin_watson(model_fitted_var.resid)\r\n",
        "\r\n",
        "for col, val in zip(final_df_copy.columns, out):\r\n",
        "    print((col), ':', round(val, 2))"
      ],
      "execution_count": null,
      "outputs": [
        {
          "output_type": "stream",
          "text": [
            "Critical : 2.01\n",
            "High : 2.06\n",
            "low : 2.06\n",
            "Moderate : 2.07\n",
            "Schedule SLA : 2.04\n"
          ],
          "name": "stdout"
        }
      ]
    },
    {
      "cell_type": "code",
      "metadata": {
        "colab": {
          "base_uri": "https://localhost:8080/"
        },
        "id": "UQD0s_0cBRJM",
        "outputId": "ea31e115-b9c8-4ea3-99fa-abade636f668"
      },
      "source": [
        "# Get the lag order\r\n",
        "lag_order = model_fitted_var.k_ar\r\n",
        "print(lag_order)  # 7\r\n",
        "\r\n",
        "# Input data for forecasting\r\n",
        "forecast_input_1 = df_differenced.values[-lag_order:]\r\n",
        "forecast_input_1"
      ],
      "execution_count": null,
      "outputs": [
        {
          "output_type": "stream",
          "text": [
            "7\n"
          ],
          "name": "stdout"
        },
        {
          "output_type": "execute_result",
          "data": {
            "text/plain": [
              "array([[   0.,   -6.,  -31.,  -11.,  -19.],\n",
              "       [   0.,    3., -135.,  -55.,   -5.],\n",
              "       [   0.,    2.,  137.,   63.,    4.],\n",
              "       [   0.,   -2.,  -73.,  -48.,   -5.],\n",
              "       [   0.,    1., -114.,  -22.,   -1.],\n",
              "       [   0.,   -5.,   -2.,   -6.,    0.],\n",
              "       [   0.,    0.,   -1.,    1.,    0.]])"
            ]
          },
          "metadata": {
            "tags": []
          },
          "execution_count": 56
        }
      ]
    },
    {
      "cell_type": "code",
      "metadata": {
        "id": "uaTXBqmCTW_B",
        "colab": {
          "base_uri": "https://localhost:8080/",
          "height": 246
        },
        "outputId": "410fb6a5-6378-494d-a514-e297b3653cc1"
      },
      "source": [
        "from pandas.tseries.offsets import DateOffset\r\n",
        "future_dates=[final_df_copy.index[-1]+ DateOffset(days=x)for x in range(0,8)]"
      ],
      "execution_count": null,
      "outputs": [
        {
          "output_type": "error",
          "ename": "NameError",
          "evalue": "ignored",
          "traceback": [
            "\u001b[0;31m---------------------------------------------------------------------------\u001b[0m",
            "\u001b[0;31mNameError\u001b[0m                                 Traceback (most recent call last)",
            "\u001b[0;32m<ipython-input-1-fd6d2dc01be9>\u001b[0m in \u001b[0;36m<module>\u001b[0;34m()\u001b[0m\n\u001b[1;32m      1\u001b[0m \u001b[0;32mfrom\u001b[0m \u001b[0mpandas\u001b[0m\u001b[0;34m.\u001b[0m\u001b[0mtseries\u001b[0m\u001b[0;34m.\u001b[0m\u001b[0moffsets\u001b[0m \u001b[0;32mimport\u001b[0m \u001b[0mDateOffset\u001b[0m\u001b[0;34m\u001b[0m\u001b[0;34m\u001b[0m\u001b[0m\n\u001b[0;32m----> 2\u001b[0;31m \u001b[0mfuture_dates\u001b[0m\u001b[0;34m=\u001b[0m\u001b[0;34m[\u001b[0m\u001b[0mfinal_df_copy\u001b[0m\u001b[0;34m.\u001b[0m\u001b[0mindex\u001b[0m\u001b[0;34m[\u001b[0m\u001b[0;34m-\u001b[0m\u001b[0;36m1\u001b[0m\u001b[0;34m]\u001b[0m\u001b[0;34m+\u001b[0m \u001b[0mDateOffset\u001b[0m\u001b[0;34m(\u001b[0m\u001b[0mdays\u001b[0m\u001b[0;34m=\u001b[0m\u001b[0mx\u001b[0m\u001b[0;34m)\u001b[0m\u001b[0;32mfor\u001b[0m \u001b[0mx\u001b[0m \u001b[0;32min\u001b[0m \u001b[0mrange\u001b[0m\u001b[0;34m(\u001b[0m\u001b[0;36m0\u001b[0m\u001b[0;34m,\u001b[0m\u001b[0;36m8\u001b[0m\u001b[0;34m)\u001b[0m\u001b[0;34m]\u001b[0m\u001b[0;34m\u001b[0m\u001b[0;34m\u001b[0m\u001b[0m\n\u001b[0m",
            "\u001b[0;32m<ipython-input-1-fd6d2dc01be9>\u001b[0m in \u001b[0;36m<listcomp>\u001b[0;34m(.0)\u001b[0m\n\u001b[1;32m      1\u001b[0m \u001b[0;32mfrom\u001b[0m \u001b[0mpandas\u001b[0m\u001b[0;34m.\u001b[0m\u001b[0mtseries\u001b[0m\u001b[0;34m.\u001b[0m\u001b[0moffsets\u001b[0m \u001b[0;32mimport\u001b[0m \u001b[0mDateOffset\u001b[0m\u001b[0;34m\u001b[0m\u001b[0;34m\u001b[0m\u001b[0m\n\u001b[0;32m----> 2\u001b[0;31m \u001b[0mfuture_dates\u001b[0m\u001b[0;34m=\u001b[0m\u001b[0;34m[\u001b[0m\u001b[0mfinal_df_copy\u001b[0m\u001b[0;34m.\u001b[0m\u001b[0mindex\u001b[0m\u001b[0;34m[\u001b[0m\u001b[0;34m-\u001b[0m\u001b[0;36m1\u001b[0m\u001b[0;34m]\u001b[0m\u001b[0;34m+\u001b[0m \u001b[0mDateOffset\u001b[0m\u001b[0;34m(\u001b[0m\u001b[0mdays\u001b[0m\u001b[0;34m=\u001b[0m\u001b[0mx\u001b[0m\u001b[0;34m)\u001b[0m\u001b[0;32mfor\u001b[0m \u001b[0mx\u001b[0m \u001b[0;32min\u001b[0m \u001b[0mrange\u001b[0m\u001b[0;34m(\u001b[0m\u001b[0;36m0\u001b[0m\u001b[0;34m,\u001b[0m\u001b[0;36m8\u001b[0m\u001b[0;34m)\u001b[0m\u001b[0;34m]\u001b[0m\u001b[0;34m\u001b[0m\u001b[0;34m\u001b[0m\u001b[0m\n\u001b[0m",
            "\u001b[0;31mNameError\u001b[0m: name 'final_df_copy' is not defined"
          ]
        }
      ]
    },
    {
      "cell_type": "code",
      "metadata": {
        "colab": {
          "base_uri": "https://localhost:8080/"
        },
        "id": "TOFEG5wLBrOg",
        "outputId": "983c6bf5-ab30-43da-91a0-a8d9ea0430a2"
      },
      "source": [
        "# Let Forecast\r\n",
        "print('*********forecast at lag 7*************')\r\n",
        "fc_var = model_fitted_var.forecast(y=forecast_input_1, steps=nobs)\r\n",
        "df_forecast_var = pd.DataFrame(fc_var,index=future_dates[1:], columns=final_df_copy.columns + '_1d')\r\n",
        "print(df_forecast_var)"
      ],
      "execution_count": null,
      "outputs": [
        {
          "output_type": "stream",
          "text": [
            "*********forecast at lag 7*************\n",
            "            Critical_1d   High_1d      low_1d  Moderate_1d  Schedule SLA_1d\n",
            "2018-11-29    -0.028297  2.951550   62.367056    12.338334         1.774094\n",
            "2018-11-30    -0.059157  1.477447  -51.156532   -19.356412        -3.586661\n",
            "2018-12-01     0.109174 -1.585122  105.568283    47.486559         6.863094\n",
            "2018-12-02    -0.135909  0.210426  -54.165835   -28.440754        -2.396148\n",
            "2018-12-03    -0.117382  0.536573  -82.466936   -28.614637        -0.835129\n",
            "2018-12-04     0.160487 -0.952790   17.177639     3.150482        -5.314238\n",
            "2018-12-05    -0.070449 -0.291012   23.642516    14.114442         4.131463\n"
          ],
          "name": "stdout"
        }
      ]
    },
    {
      "cell_type": "code",
      "metadata": {
        "id": "KjgX7jAGCZLE"
      },
      "source": [
        "def invert_transformation(final_df_copy, df_forecast_var, first_diff=True):\r\n",
        "    \"\"\"Revert back the differencing to get the forecast to original scale.\"\"\"\r\n",
        "    df_fc = df_forecast_var.copy()\r\n",
        "    columns = final_df_copy.columns\r\n",
        "    for col in columns:\r\n",
        "        # Roll back 1st Diff\r\n",
        "        df_fc[str(col)+'_forecast'] = final_df_copy[col].iloc[-1] + df_fc[str(col)+'_1d'].cumsum()\r\n",
        "    return df_fc"
      ],
      "execution_count": null,
      "outputs": []
    },
    {
      "cell_type": "code",
      "metadata": {
        "id": "synGIEXxGhOq"
      },
      "source": [
        "df_results = invert_transformation(final_df_copy, df_forecast_var, first_diff=True)        \r\n",
        "result = df_results.loc[:,['Critical_forecast','High_forecast','low_forecast','Moderate_forecast','Schedule SLA_forecast']]"
      ],
      "execution_count": null,
      "outputs": []
    },
    {
      "cell_type": "code",
      "metadata": {
        "colab": {
          "base_uri": "https://localhost:8080/",
          "height": 254
        },
        "id": "Ni95PNjxkXhp",
        "outputId": "f94643cb-3b75-4019-ff95-fdcdbea6759b"
      },
      "source": [
        "result"
      ],
      "execution_count": null,
      "outputs": [
        {
          "output_type": "execute_result",
          "data": {
            "text/html": [
              "<div>\n",
              "<style scoped>\n",
              "    .dataframe tbody tr th:only-of-type {\n",
              "        vertical-align: middle;\n",
              "    }\n",
              "\n",
              "    .dataframe tbody tr th {\n",
              "        vertical-align: top;\n",
              "    }\n",
              "\n",
              "    .dataframe thead th {\n",
              "        text-align: right;\n",
              "    }\n",
              "</style>\n",
              "<table border=\"1\" class=\"dataframe\">\n",
              "  <thead>\n",
              "    <tr style=\"text-align: right;\">\n",
              "      <th></th>\n",
              "      <th>Critical_forecast</th>\n",
              "      <th>High_forecast</th>\n",
              "      <th>low_forecast</th>\n",
              "      <th>Moderate_forecast</th>\n",
              "      <th>Schedule SLA_forecast</th>\n",
              "    </tr>\n",
              "  </thead>\n",
              "  <tbody>\n",
              "    <tr>\n",
              "      <th>2018-11-29</th>\n",
              "      <td>-0.028297</td>\n",
              "      <td>2.951550</td>\n",
              "      <td>62.367056</td>\n",
              "      <td>13.338334</td>\n",
              "      <td>1.774094</td>\n",
              "    </tr>\n",
              "    <tr>\n",
              "      <th>2018-11-30</th>\n",
              "      <td>-0.087454</td>\n",
              "      <td>4.428997</td>\n",
              "      <td>11.210524</td>\n",
              "      <td>-6.018077</td>\n",
              "      <td>-1.812567</td>\n",
              "    </tr>\n",
              "    <tr>\n",
              "      <th>2018-12-01</th>\n",
              "      <td>0.021720</td>\n",
              "      <td>2.843875</td>\n",
              "      <td>116.778807</td>\n",
              "      <td>41.468482</td>\n",
              "      <td>5.050527</td>\n",
              "    </tr>\n",
              "    <tr>\n",
              "      <th>2018-12-02</th>\n",
              "      <td>-0.114189</td>\n",
              "      <td>3.054301</td>\n",
              "      <td>62.612972</td>\n",
              "      <td>13.027728</td>\n",
              "      <td>2.654379</td>\n",
              "    </tr>\n",
              "    <tr>\n",
              "      <th>2018-12-03</th>\n",
              "      <td>-0.231572</td>\n",
              "      <td>3.590874</td>\n",
              "      <td>-19.853964</td>\n",
              "      <td>-15.586909</td>\n",
              "      <td>1.819251</td>\n",
              "    </tr>\n",
              "    <tr>\n",
              "      <th>2018-12-04</th>\n",
              "      <td>-0.071085</td>\n",
              "      <td>2.638084</td>\n",
              "      <td>-2.676325</td>\n",
              "      <td>-12.436427</td>\n",
              "      <td>-3.494988</td>\n",
              "    </tr>\n",
              "    <tr>\n",
              "      <th>2018-12-05</th>\n",
              "      <td>-0.141534</td>\n",
              "      <td>2.347072</td>\n",
              "      <td>20.966191</td>\n",
              "      <td>1.678015</td>\n",
              "      <td>0.636475</td>\n",
              "    </tr>\n",
              "  </tbody>\n",
              "</table>\n",
              "</div>"
            ],
            "text/plain": [
              "            Critical_forecast  High_forecast  low_forecast  Moderate_forecast  \\\n",
              "2018-11-29          -0.028297       2.951550     62.367056          13.338334   \n",
              "2018-11-30          -0.087454       4.428997     11.210524          -6.018077   \n",
              "2018-12-01           0.021720       2.843875    116.778807          41.468482   \n",
              "2018-12-02          -0.114189       3.054301     62.612972          13.027728   \n",
              "2018-12-03          -0.231572       3.590874    -19.853964         -15.586909   \n",
              "2018-12-04          -0.071085       2.638084     -2.676325         -12.436427   \n",
              "2018-12-05          -0.141534       2.347072     20.966191           1.678015   \n",
              "\n",
              "            Schedule SLA_forecast  \n",
              "2018-11-29               1.774094  \n",
              "2018-11-30              -1.812567  \n",
              "2018-12-01               5.050527  \n",
              "2018-12-02               2.654379  \n",
              "2018-12-03               1.819251  \n",
              "2018-12-04              -3.494988  \n",
              "2018-12-05               0.636475  "
            ]
          },
          "metadata": {
            "tags": []
          },
          "execution_count": 63
        }
      ]
    },
    {
      "cell_type": "code",
      "metadata": {
        "colab": {
          "base_uri": "https://localhost:8080/",
          "height": 254
        },
        "id": "wGT3wLsmHIcU",
        "outputId": "fd5fe38e-0e0d-4d54-f4f7-d3a704c75af0"
      },
      "source": [
        "forecast_result = result.apply(np.ceil).abs().astype(int)\r\n",
        "forecast_result"
      ],
      "execution_count": null,
      "outputs": [
        {
          "output_type": "execute_result",
          "data": {
            "text/html": [
              "<div>\n",
              "<style scoped>\n",
              "    .dataframe tbody tr th:only-of-type {\n",
              "        vertical-align: middle;\n",
              "    }\n",
              "\n",
              "    .dataframe tbody tr th {\n",
              "        vertical-align: top;\n",
              "    }\n",
              "\n",
              "    .dataframe thead th {\n",
              "        text-align: right;\n",
              "    }\n",
              "</style>\n",
              "<table border=\"1\" class=\"dataframe\">\n",
              "  <thead>\n",
              "    <tr style=\"text-align: right;\">\n",
              "      <th></th>\n",
              "      <th>Critical_forecast</th>\n",
              "      <th>High_forecast</th>\n",
              "      <th>low_forecast</th>\n",
              "      <th>Moderate_forecast</th>\n",
              "      <th>Schedule SLA_forecast</th>\n",
              "    </tr>\n",
              "  </thead>\n",
              "  <tbody>\n",
              "    <tr>\n",
              "      <th>2018-11-29</th>\n",
              "      <td>0</td>\n",
              "      <td>3</td>\n",
              "      <td>63</td>\n",
              "      <td>14</td>\n",
              "      <td>2</td>\n",
              "    </tr>\n",
              "    <tr>\n",
              "      <th>2018-11-30</th>\n",
              "      <td>0</td>\n",
              "      <td>5</td>\n",
              "      <td>12</td>\n",
              "      <td>6</td>\n",
              "      <td>1</td>\n",
              "    </tr>\n",
              "    <tr>\n",
              "      <th>2018-12-01</th>\n",
              "      <td>1</td>\n",
              "      <td>3</td>\n",
              "      <td>117</td>\n",
              "      <td>42</td>\n",
              "      <td>6</td>\n",
              "    </tr>\n",
              "    <tr>\n",
              "      <th>2018-12-02</th>\n",
              "      <td>0</td>\n",
              "      <td>4</td>\n",
              "      <td>63</td>\n",
              "      <td>14</td>\n",
              "      <td>3</td>\n",
              "    </tr>\n",
              "    <tr>\n",
              "      <th>2018-12-03</th>\n",
              "      <td>0</td>\n",
              "      <td>4</td>\n",
              "      <td>19</td>\n",
              "      <td>15</td>\n",
              "      <td>2</td>\n",
              "    </tr>\n",
              "    <tr>\n",
              "      <th>2018-12-04</th>\n",
              "      <td>0</td>\n",
              "      <td>3</td>\n",
              "      <td>2</td>\n",
              "      <td>12</td>\n",
              "      <td>3</td>\n",
              "    </tr>\n",
              "    <tr>\n",
              "      <th>2018-12-05</th>\n",
              "      <td>0</td>\n",
              "      <td>3</td>\n",
              "      <td>21</td>\n",
              "      <td>2</td>\n",
              "      <td>1</td>\n",
              "    </tr>\n",
              "  </tbody>\n",
              "</table>\n",
              "</div>"
            ],
            "text/plain": [
              "            Critical_forecast  High_forecast  low_forecast  Moderate_forecast  \\\n",
              "2018-11-29                  0              3            63                 14   \n",
              "2018-11-30                  0              5            12                  6   \n",
              "2018-12-01                  1              3           117                 42   \n",
              "2018-12-02                  0              4            63                 14   \n",
              "2018-12-03                  0              4            19                 15   \n",
              "2018-12-04                  0              3             2                 12   \n",
              "2018-12-05                  0              3            21                  2   \n",
              "\n",
              "            Schedule SLA_forecast  \n",
              "2018-11-29                      2  \n",
              "2018-11-30                      1  \n",
              "2018-12-01                      6  \n",
              "2018-12-02                      3  \n",
              "2018-12-03                      2  \n",
              "2018-12-04                      3  \n",
              "2018-12-05                      1  "
            ]
          },
          "metadata": {
            "tags": []
          },
          "execution_count": 64
        }
      ]
    },
    {
      "cell_type": "code",
      "metadata": {
        "colab": {
          "base_uri": "https://localhost:8080/",
          "height": 284
        },
        "id": "OoKXvbWAHpWZ",
        "outputId": "37f58197-98fe-40c7-b52f-318ad394ca6e"
      },
      "source": [
        "final_df_copy.tail(7)"
      ],
      "execution_count": null,
      "outputs": [
        {
          "output_type": "execute_result",
          "data": {
            "text/html": [
              "<div>\n",
              "<style scoped>\n",
              "    .dataframe tbody tr th:only-of-type {\n",
              "        vertical-align: middle;\n",
              "    }\n",
              "\n",
              "    .dataframe tbody tr th {\n",
              "        vertical-align: top;\n",
              "    }\n",
              "\n",
              "    .dataframe thead th {\n",
              "        text-align: right;\n",
              "    }\n",
              "</style>\n",
              "<table border=\"1\" class=\"dataframe\">\n",
              "  <thead>\n",
              "    <tr style=\"text-align: right;\">\n",
              "      <th></th>\n",
              "      <th>Critical</th>\n",
              "      <th>High</th>\n",
              "      <th>low</th>\n",
              "      <th>Moderate</th>\n",
              "      <th>Schedule SLA</th>\n",
              "    </tr>\n",
              "    <tr>\n",
              "      <th>date</th>\n",
              "      <th></th>\n",
              "      <th></th>\n",
              "      <th></th>\n",
              "      <th></th>\n",
              "      <th></th>\n",
              "    </tr>\n",
              "  </thead>\n",
              "  <tbody>\n",
              "    <tr>\n",
              "      <th>2018-11-21</th>\n",
              "      <td>0.0</td>\n",
              "      <td>1.0</td>\n",
              "      <td>188.0</td>\n",
              "      <td>68.0</td>\n",
              "      <td>7.0</td>\n",
              "    </tr>\n",
              "    <tr>\n",
              "      <th>2018-11-22</th>\n",
              "      <td>0.0</td>\n",
              "      <td>4.0</td>\n",
              "      <td>53.0</td>\n",
              "      <td>13.0</td>\n",
              "      <td>2.0</td>\n",
              "    </tr>\n",
              "    <tr>\n",
              "      <th>2018-11-23</th>\n",
              "      <td>0.0</td>\n",
              "      <td>6.0</td>\n",
              "      <td>190.0</td>\n",
              "      <td>76.0</td>\n",
              "      <td>6.0</td>\n",
              "    </tr>\n",
              "    <tr>\n",
              "      <th>2018-11-24</th>\n",
              "      <td>0.0</td>\n",
              "      <td>4.0</td>\n",
              "      <td>117.0</td>\n",
              "      <td>28.0</td>\n",
              "      <td>1.0</td>\n",
              "    </tr>\n",
              "    <tr>\n",
              "      <th>2018-11-25</th>\n",
              "      <td>0.0</td>\n",
              "      <td>5.0</td>\n",
              "      <td>3.0</td>\n",
              "      <td>6.0</td>\n",
              "      <td>0.0</td>\n",
              "    </tr>\n",
              "    <tr>\n",
              "      <th>2018-11-27</th>\n",
              "      <td>0.0</td>\n",
              "      <td>0.0</td>\n",
              "      <td>1.0</td>\n",
              "      <td>0.0</td>\n",
              "      <td>0.0</td>\n",
              "    </tr>\n",
              "    <tr>\n",
              "      <th>2018-11-28</th>\n",
              "      <td>0.0</td>\n",
              "      <td>0.0</td>\n",
              "      <td>0.0</td>\n",
              "      <td>1.0</td>\n",
              "      <td>0.0</td>\n",
              "    </tr>\n",
              "  </tbody>\n",
              "</table>\n",
              "</div>"
            ],
            "text/plain": [
              "            Critical  High    low  Moderate  Schedule SLA\n",
              "date                                                     \n",
              "2018-11-21       0.0   1.0  188.0      68.0           7.0\n",
              "2018-11-22       0.0   4.0   53.0      13.0           2.0\n",
              "2018-11-23       0.0   6.0  190.0      76.0           6.0\n",
              "2018-11-24       0.0   4.0  117.0      28.0           1.0\n",
              "2018-11-25       0.0   5.0    3.0       6.0           0.0\n",
              "2018-11-27       0.0   0.0    1.0       0.0           0.0\n",
              "2018-11-28       0.0   0.0    0.0       1.0           0.0"
            ]
          },
          "metadata": {
            "tags": []
          },
          "execution_count": 65
        }
      ]
    },
    {
      "cell_type": "code",
      "metadata": {
        "colab": {
          "base_uri": "https://localhost:8080/",
          "height": 586
        },
        "id": "0DuulDhbLRny",
        "outputId": "bd97fd3b-cf6a-4ec1-8f34-4aebf85ff5e5"
      },
      "source": [
        "axes = forecast_result.plot.line(figsize=(12, 10), linewidth=2.5,subplots=True)\r\n",
        "type(axes)"
      ],
      "execution_count": null,
      "outputs": [
        {
          "output_type": "execute_result",
          "data": {
            "text/plain": [
              "numpy.ndarray"
            ]
          },
          "metadata": {
            "tags": []
          },
          "execution_count": 65
        },
        {
          "output_type": "display_data",
          "data": {
            "image/png": "[encoded data removed]",
            "text/plain": [
              "<Figure size 864x720 with 5 Axes>"
            ]
          },
          "metadata": {
            "tags": [],
            "needs_background": "light"
          }
        }
      ]
    },
    {
      "cell_type": "code",
      "metadata": {
        "colab": {
          "base_uri": "https://localhost:8080/",
          "height": 700
        },
        "id": "eQVlbUfILzjq",
        "outputId": "b0886f6d-f96d-4f39-ae67-8a6dcfed8261"
      },
      "source": [
        "import seaborn as sns\r\n",
        "sns.set(font_scale=1.4)\r\n",
        "forecast_result.plot(figsize=(12, 10), linewidth=2.5)\r\n",
        "plt.xlabel(\"Date\", labelpad=15)\r\n",
        "plt.ylabel(\"Daily Ticket Count\", labelpad=15)\r\n",
        "plt.title(\"For next 7 days number ticket can be arrive\", y=1.02, fontsize=22);"
      ],
      "execution_count": null,
      "outputs": [
        {
          "output_type": "display_data",
          "data": {
            "image/png": "[encoded data removed]",
            "text/plain": [
              "<Figure size 864x720 with 1 Axes>"
            ]
          },
          "metadata": {
            "tags": []
          }
        }
      ]
    },
    {
      "cell_type": "code",
      "metadata": {
        "id": "Vch6n9h2mKOK"
      },
      "source": [
        "from pandas.tseries.offsets import DateOffset\r\n",
        "def var_model():\r\n",
        "  model_fitted_var = model.fit(7)\r\n",
        "  lag_order = model_fitted_var.k_ar\r\n",
        "  forecast_input_1 = df_differenced.values[-lag_order:]\r\n",
        "  \r\n",
        "  fc_var = model_fitted_var.forecast(y=forecast_input_1, steps=7)\r\n",
        "  return fc_var\r\n"
      ],
      "execution_count": null,
      "outputs": []
    },
    {
      "cell_type": "code",
      "metadata": {
        "id": "lVfYN56bTaOY"
      },
      "source": [
        "future_dates=[final_df_copy.index[-1]+ DateOffset(days=x) for x in range(0,8)]\r\n",
        "df_forecast_var = pd.DataFrame(var_model(),index=future_dates[1:], columns=final_df_copy.columns + '_1d')"
      ],
      "execution_count": null,
      "outputs": []
    },
    {
      "cell_type": "code",
      "metadata": {
        "id": "KJMlCoXTTsd4"
      },
      "source": [
        "def invert_transformation(final_df_copy, df_forecast_var, first_diff=True):\r\n",
        "    \"\"\"Revert back the differencing to get the forecast to original scale.\"\"\"\r\n",
        "    df_fc = df_forecast_var.copy()\r\n",
        "    columns = final_df_copy.columns\r\n",
        "    for col in columns:\r\n",
        "        # Roll back 1st Diff\r\n",
        "        df_fc[str(col)+'_forecast'] = final_df_copy[col].iloc[-1] + df_fc[str(col)+'_1d'].cumsum()\r\n",
        "    return df_fc"
      ],
      "execution_count": null,
      "outputs": []
    },
    {
      "cell_type": "code",
      "metadata": {
        "id": "dnjobqzsVWx-"
      },
      "source": [
        "df_results = invert_transformation(final_df_copy, df_forecast_var, first_diff=True)        \r\n",
        "result = df_results.loc[:,['Critical_forecast','High_forecast','low_forecast','Moderate_forecast','Schedule SLA_forecast']].apply(np.ceil).abs().astype(int)"
      ],
      "execution_count": null,
      "outputs": []
    },
    {
      "cell_type": "code",
      "metadata": {
        "colab": {
          "base_uri": "https://localhost:8080/",
          "height": 254
        },
        "id": "1f8CO7UYWgcO",
        "outputId": "2e222d29-708f-47dc-98df-69688ffa3d4c"
      },
      "source": [
        "result"
      ],
      "execution_count": null,
      "outputs": [
        {
          "output_type": "execute_result",
          "data": {
            "text/html": [
              "<div>\n",
              "<style scoped>\n",
              "    .dataframe tbody tr th:only-of-type {\n",
              "        vertical-align: middle;\n",
              "    }\n",
              "\n",
              "    .dataframe tbody tr th {\n",
              "        vertical-align: top;\n",
              "    }\n",
              "\n",
              "    .dataframe thead th {\n",
              "        text-align: right;\n",
              "    }\n",
              "</style>\n",
              "<table border=\"1\" class=\"dataframe\">\n",
              "  <thead>\n",
              "    <tr style=\"text-align: right;\">\n",
              "      <th></th>\n",
              "      <th>Critical_forecast</th>\n",
              "      <th>High_forecast</th>\n",
              "      <th>low_forecast</th>\n",
              "      <th>Moderate_forecast</th>\n",
              "      <th>Schedule SLA_forecast</th>\n",
              "    </tr>\n",
              "  </thead>\n",
              "  <tbody>\n",
              "    <tr>\n",
              "      <th>2018-11-29</th>\n",
              "      <td>0</td>\n",
              "      <td>3</td>\n",
              "      <td>63</td>\n",
              "      <td>14</td>\n",
              "      <td>2</td>\n",
              "    </tr>\n",
              "    <tr>\n",
              "      <th>2018-11-30</th>\n",
              "      <td>0</td>\n",
              "      <td>5</td>\n",
              "      <td>12</td>\n",
              "      <td>6</td>\n",
              "      <td>1</td>\n",
              "    </tr>\n",
              "    <tr>\n",
              "      <th>2018-12-01</th>\n",
              "      <td>1</td>\n",
              "      <td>3</td>\n",
              "      <td>117</td>\n",
              "      <td>42</td>\n",
              "      <td>6</td>\n",
              "    </tr>\n",
              "    <tr>\n",
              "      <th>2018-12-02</th>\n",
              "      <td>0</td>\n",
              "      <td>4</td>\n",
              "      <td>63</td>\n",
              "      <td>14</td>\n",
              "      <td>3</td>\n",
              "    </tr>\n",
              "    <tr>\n",
              "      <th>2018-12-03</th>\n",
              "      <td>0</td>\n",
              "      <td>4</td>\n",
              "      <td>19</td>\n",
              "      <td>15</td>\n",
              "      <td>2</td>\n",
              "    </tr>\n",
              "    <tr>\n",
              "      <th>2018-12-04</th>\n",
              "      <td>0</td>\n",
              "      <td>3</td>\n",
              "      <td>2</td>\n",
              "      <td>12</td>\n",
              "      <td>3</td>\n",
              "    </tr>\n",
              "    <tr>\n",
              "      <th>2018-12-05</th>\n",
              "      <td>0</td>\n",
              "      <td>3</td>\n",
              "      <td>21</td>\n",
              "      <td>2</td>\n",
              "      <td>1</td>\n",
              "    </tr>\n",
              "  </tbody>\n",
              "</table>\n",
              "</div>"
            ],
            "text/plain": [
              "            Critical_forecast  High_forecast  low_forecast  Moderate_forecast  \\\n",
              "2018-11-29                  0              3            63                 14   \n",
              "2018-11-30                  0              5            12                  6   \n",
              "2018-12-01                  1              3           117                 42   \n",
              "2018-12-02                  0              4            63                 14   \n",
              "2018-12-03                  0              4            19                 15   \n",
              "2018-12-04                  0              3             2                 12   \n",
              "2018-12-05                  0              3            21                  2   \n",
              "\n",
              "            Schedule SLA_forecast  \n",
              "2018-11-29                      2  \n",
              "2018-11-30                      1  \n",
              "2018-12-01                      6  \n",
              "2018-12-02                      3  \n",
              "2018-12-03                      2  \n",
              "2018-12-04                      3  \n",
              "2018-12-05                      1  "
            ]
          },
          "metadata": {
            "tags": []
          },
          "execution_count": 69
        }
      ]
    },
    {
      "cell_type": "code",
      "metadata": {
        "id": "Gq23j-KqYrO0"
      },
      "source": [
        "final_df_copy.to_csv(('priority.csv'),index=False)"
      ],
      "execution_count": null,
      "outputs": []
    },
    {
      "cell_type": "code",
      "metadata": {
        "colab": {
          "base_uri": "https://localhost:8080/",
          "height": 17
        },
        "id": "Cr5DkusAaq4Z",
        "outputId": "1771de89-e335-482d-949f-a9617b3db280"
      },
      "source": [
        "from google.colab import files\r\n",
        "final_df_copy.to_csv('priority.csv')\r\n",
        "\r\n",
        "# or any other file as usual\r\n",
        "# with open('example.csv', 'w') as f:\r\n",
        "#   f.write('your strings here')\r\n",
        "\r\n",
        "files.download('priority.csv')"
      ],
      "execution_count": null,
      "outputs": [
        {
          "output_type": "display_data",
          "data": {
            "application/javascript": [
              "\n",
              "    async function download(id, filename, size) {\n",
              "      if (!google.colab.kernel.accessAllowed) {\n",
              "        return;\n",
              "      }\n",
              "      const div = document.createElement('div');\n",
              "      const label = document.createElement('label');\n",
              "      label.textContent = `Downloading \"${filename}\": `;\n",
              "      div.appendChild(label);\n",
              "      const progress = document.createElement('progress');\n",
              "      progress.max = size;\n",
              "      div.appendChild(progress);\n",
              "      document.body.appendChild(div);\n",
              "\n",
              "      const buffers = [];\n",
              "      let downloaded = 0;\n",
              "\n",
              "      const channel = await google.colab.kernel.comms.open(id);\n",
              "      // Send a message to notify the kernel that we're ready.\n",
              "      channel.send({})\n",
              "\n",
              "      for await (const message of channel.messages) {\n",
              "        // Send a message to notify the kernel that we're ready.\n",
              "        channel.send({})\n",
              "        if (message.buffers) {\n",
              "          for (const buffer of message.buffers) {\n",
              "            buffers.push(buffer);\n",
              "            downloaded += buffer.byteLength;\n",
              "            progress.value = downloaded;\n",
              "          }\n",
              "        }\n",
              "      }\n",
              "      const blob = new Blob(buffers, {type: 'application/binary'});\n",
              "      const a = document.createElement('a');\n",
              "      a.href = window.URL.createObjectURL(blob);\n",
              "      a.download = filename;\n",
              "      div.appendChild(a);\n",
              "      a.click();\n",
              "      div.remove();\n",
              "    }\n",
              "  "
            ],
            "text/plain": [
              "<IPython.core.display.Javascript object>"
            ]
          },
          "metadata": {
            "tags": []
          }
        },
        {
          "output_type": "display_data",
          "data": {
            "application/javascript": [
              "download(\"download_304dd4c1-a36b-4826-a483-2b871961d052\", \"priority.csv\", 11055)"
            ],
            "text/plain": [
              "<IPython.core.display.Javascript object>"
            ]
          },
          "metadata": {
            "tags": []
          }
        }
      ]
    },
    {
      "cell_type": "code",
      "metadata": {
        "id": "xGHoqA9nf6t_"
      },
      "source": [
        ""
      ],
      "execution_count": null,
      "outputs": []
    }
  ]
}